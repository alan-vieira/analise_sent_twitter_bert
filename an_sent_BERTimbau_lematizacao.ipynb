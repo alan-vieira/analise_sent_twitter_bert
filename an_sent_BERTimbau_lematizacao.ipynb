{
  "cells": [
    {
      "cell_type": "markdown",
      "metadata": {
        "id": "8Rq50uNgNtob"
      },
      "source": [
        "# Análise de sentimento do Twitter (dataset tweetSentBR) com BERTimbau\n"
      ]
    },
    {
      "cell_type": "markdown",
      "metadata": {
        "id": "SYUE2JcFwjlN"
      },
      "source": [
        "# Modelos de Linguagem Neurais Pré-treinados\n",
        "\n",
        "Modelos Neurais estado-da-arte são baseados na arquitetura Transformer e têm todos seus parâmetros pré-treinados com base em tarefas genéricas. Sendo assim, estes modelo só precisam ser refinados (*fine-tuned*) numa tarefa específica.\n",
        "\n",
        "Vamos ver algumas aplicações de modelos pré-treinados utilizando a bibliotega [HuggingFace](https://huggingface.co/)\n"
      ]
    },
    {
      "cell_type": "markdown",
      "metadata": {
        "id": "CAca-Nfqw0R5"
      },
      "source": [
        "## Classificação de Texto\n",
        "\n",
        "Vamos refinar a arquitetura BERTimbau, versão em Português do BERT, numa tarefa de classificação onde uma revisão de produto será classificada em **Positiva**, **Neutra** ou **Negativa**."
      ]
    },
    {
      "cell_type": "markdown",
      "metadata": {
        "id": "IyivGtlnxvvC"
      },
      "source": [
        "# Preparando o córpus"
      ]
    },
    {
      "cell_type": "code",
      "execution_count": 1,
      "metadata": {
        "id": "qaz9Y6Ug5K9J"
      },
      "outputs": [],
      "source": [
        "import pandas as pd\n",
        "import matplotlib.pyplot as plt\n",
        "import seaborn as sns\n",
        "\n",
        "tweets_df = pd.read_csv('') "
      ]
    },
    {
      "cell_type": "code",
      "execution_count": 2,
      "metadata": {
        "colab": {
          "base_uri": "https://localhost:8080/",
          "height": 206
        },
        "id": "pUxqSGx95dkc",
        "outputId": "819a1d7c-0ba6-4067-8a70-8d23e4e1808a"
      },
      "outputs": [
        {
          "output_type": "execute_result",
          "data": {
            "text/plain": [
              "                   id        hashtag                         votes  hard  \\\n",
              "0  863044774588272640      #encontro         [1, 1, 1, 1, 1, 1, 1]     0   \n",
              "1  865583716088766464      #encontro         [1, 1, 1, 1, 1, 1, 1]     0   \n",
              "2  865063232201011200      #TheNoite         [1, 0, 1, 1, 1, 0, 0]     2   \n",
              "3  864668391008763904  #masterchefbr         [0, 0, 0, 0, 0, 0, 0]     0   \n",
              "4  865572794016378880      #encontro  [-1, -1, -1, -1, -1, -1, -1]     0   \n",
              "\n",
              "  sentiment group                                               text  repeat  \n",
              "0         1  test  que coisa linda O programa estava mostrando um...   False  \n",
              "1         1  test           por mais com as irmãs galvão adorei elas   False  \n",
              "2         1  test  mr CATRA USERNAME lançando sua nova música PPK...   False  \n",
              "3         0  test  quem viu aquela lutadora modela barbuda tatuad...   False  \n",
              "4        -1  test  tô passada com esse cara quanta merda pode sai...   False  "
            ],
            "text/html": [
              "\n",
              "  <div id=\"df-1ea45029-2baa-45c3-a1ea-62b9cb62f1f3\">\n",
              "    <div class=\"colab-df-container\">\n",
              "      <div>\n",
              "<style scoped>\n",
              "    .dataframe tbody tr th:only-of-type {\n",
              "        vertical-align: middle;\n",
              "    }\n",
              "\n",
              "    .dataframe tbody tr th {\n",
              "        vertical-align: top;\n",
              "    }\n",
              "\n",
              "    .dataframe thead th {\n",
              "        text-align: right;\n",
              "    }\n",
              "</style>\n",
              "<table border=\"1\" class=\"dataframe\">\n",
              "  <thead>\n",
              "    <tr style=\"text-align: right;\">\n",
              "      <th></th>\n",
              "      <th>id</th>\n",
              "      <th>hashtag</th>\n",
              "      <th>votes</th>\n",
              "      <th>hard</th>\n",
              "      <th>sentiment</th>\n",
              "      <th>group</th>\n",
              "      <th>text</th>\n",
              "      <th>repeat</th>\n",
              "    </tr>\n",
              "  </thead>\n",
              "  <tbody>\n",
              "    <tr>\n",
              "      <th>0</th>\n",
              "      <td>863044774588272640</td>\n",
              "      <td>#encontro</td>\n",
              "      <td>[1, 1, 1, 1, 1, 1, 1]</td>\n",
              "      <td>0</td>\n",
              "      <td>1</td>\n",
              "      <td>test</td>\n",
              "      <td>que coisa linda O programa estava mostrando um...</td>\n",
              "      <td>False</td>\n",
              "    </tr>\n",
              "    <tr>\n",
              "      <th>1</th>\n",
              "      <td>865583716088766464</td>\n",
              "      <td>#encontro</td>\n",
              "      <td>[1, 1, 1, 1, 1, 1, 1]</td>\n",
              "      <td>0</td>\n",
              "      <td>1</td>\n",
              "      <td>test</td>\n",
              "      <td>por mais com as irmãs galvão adorei elas</td>\n",
              "      <td>False</td>\n",
              "    </tr>\n",
              "    <tr>\n",
              "      <th>2</th>\n",
              "      <td>865063232201011200</td>\n",
              "      <td>#TheNoite</td>\n",
              "      <td>[1, 0, 1, 1, 1, 0, 0]</td>\n",
              "      <td>2</td>\n",
              "      <td>1</td>\n",
              "      <td>test</td>\n",
              "      <td>mr CATRA USERNAME lançando sua nova música PPK...</td>\n",
              "      <td>False</td>\n",
              "    </tr>\n",
              "    <tr>\n",
              "      <th>3</th>\n",
              "      <td>864668391008763904</td>\n",
              "      <td>#masterchefbr</td>\n",
              "      <td>[0, 0, 0, 0, 0, 0, 0]</td>\n",
              "      <td>0</td>\n",
              "      <td>0</td>\n",
              "      <td>test</td>\n",
              "      <td>quem viu aquela lutadora modela barbuda tatuad...</td>\n",
              "      <td>False</td>\n",
              "    </tr>\n",
              "    <tr>\n",
              "      <th>4</th>\n",
              "      <td>865572794016378880</td>\n",
              "      <td>#encontro</td>\n",
              "      <td>[-1, -1, -1, -1, -1, -1, -1]</td>\n",
              "      <td>0</td>\n",
              "      <td>-1</td>\n",
              "      <td>test</td>\n",
              "      <td>tô passada com esse cara quanta merda pode sai...</td>\n",
              "      <td>False</td>\n",
              "    </tr>\n",
              "  </tbody>\n",
              "</table>\n",
              "</div>\n",
              "      <button class=\"colab-df-convert\" onclick=\"convertToInteractive('df-1ea45029-2baa-45c3-a1ea-62b9cb62f1f3')\"\n",
              "              title=\"Convert this dataframe to an interactive table.\"\n",
              "              style=\"display:none;\">\n",
              "        \n",
              "  <svg xmlns=\"http://www.w3.org/2000/svg\" height=\"24px\"viewBox=\"0 0 24 24\"\n",
              "       width=\"24px\">\n",
              "    <path d=\"M0 0h24v24H0V0z\" fill=\"none\"/>\n",
              "    <path d=\"M18.56 5.44l.94 2.06.94-2.06 2.06-.94-2.06-.94-.94-2.06-.94 2.06-2.06.94zm-11 1L8.5 8.5l.94-2.06 2.06-.94-2.06-.94L8.5 2.5l-.94 2.06-2.06.94zm10 10l.94 2.06.94-2.06 2.06-.94-2.06-.94-.94-2.06-.94 2.06-2.06.94z\"/><path d=\"M17.41 7.96l-1.37-1.37c-.4-.4-.92-.59-1.43-.59-.52 0-1.04.2-1.43.59L10.3 9.45l-7.72 7.72c-.78.78-.78 2.05 0 2.83L4 21.41c.39.39.9.59 1.41.59.51 0 1.02-.2 1.41-.59l7.78-7.78 2.81-2.81c.8-.78.8-2.07 0-2.86zM5.41 20L4 18.59l7.72-7.72 1.47 1.35L5.41 20z\"/>\n",
              "  </svg>\n",
              "      </button>\n",
              "      \n",
              "  <style>\n",
              "    .colab-df-container {\n",
              "      display:flex;\n",
              "      flex-wrap:wrap;\n",
              "      gap: 12px;\n",
              "    }\n",
              "\n",
              "    .colab-df-convert {\n",
              "      background-color: #E8F0FE;\n",
              "      border: none;\n",
              "      border-radius: 50%;\n",
              "      cursor: pointer;\n",
              "      display: none;\n",
              "      fill: #1967D2;\n",
              "      height: 32px;\n",
              "      padding: 0 0 0 0;\n",
              "      width: 32px;\n",
              "    }\n",
              "\n",
              "    .colab-df-convert:hover {\n",
              "      background-color: #E2EBFA;\n",
              "      box-shadow: 0px 1px 2px rgba(60, 64, 67, 0.3), 0px 1px 3px 1px rgba(60, 64, 67, 0.15);\n",
              "      fill: #174EA6;\n",
              "    }\n",
              "\n",
              "    [theme=dark] .colab-df-convert {\n",
              "      background-color: #3B4455;\n",
              "      fill: #D2E3FC;\n",
              "    }\n",
              "\n",
              "    [theme=dark] .colab-df-convert:hover {\n",
              "      background-color: #434B5C;\n",
              "      box-shadow: 0px 1px 3px 1px rgba(0, 0, 0, 0.15);\n",
              "      filter: drop-shadow(0px 1px 2px rgba(0, 0, 0, 0.3));\n",
              "      fill: #FFFFFF;\n",
              "    }\n",
              "  </style>\n",
              "\n",
              "      <script>\n",
              "        const buttonEl =\n",
              "          document.querySelector('#df-1ea45029-2baa-45c3-a1ea-62b9cb62f1f3 button.colab-df-convert');\n",
              "        buttonEl.style.display =\n",
              "          google.colab.kernel.accessAllowed ? 'block' : 'none';\n",
              "\n",
              "        async function convertToInteractive(key) {\n",
              "          const element = document.querySelector('#df-1ea45029-2baa-45c3-a1ea-62b9cb62f1f3');\n",
              "          const dataTable =\n",
              "            await google.colab.kernel.invokeFunction('convertToInteractive',\n",
              "                                                     [key], {});\n",
              "          if (!dataTable) return;\n",
              "\n",
              "          const docLinkHtml = 'Like what you see? Visit the ' +\n",
              "            '<a target=\"_blank\" href=https://colab.research.google.com/notebooks/data_table.ipynb>data table notebook</a>'\n",
              "            + ' to learn more about interactive tables.';\n",
              "          element.innerHTML = '';\n",
              "          dataTable['output_type'] = 'display_data';\n",
              "          await google.colab.output.renderOutput(dataTable, element);\n",
              "          const docLink = document.createElement('div');\n",
              "          docLink.innerHTML = docLinkHtml;\n",
              "          element.appendChild(docLink);\n",
              "        }\n",
              "      </script>\n",
              "    </div>\n",
              "  </div>\n",
              "  "
            ]
          },
          "metadata": {},
          "execution_count": 2
        }
      ],
      "source": [
        "tweets_df.head()"
      ]
    },
    {
      "cell_type": "markdown",
      "source": [
        "## Eliminando as colunas que não serão utilizada"
      ],
      "metadata": {
        "id": "K-UOBbMUBhEe"
      }
    },
    {
      "cell_type": "code",
      "source": [
        "tweets_df.columns"
      ],
      "metadata": {
        "colab": {
          "base_uri": "https://localhost:8080/"
        },
        "id": "jprQHbvZBm-Y",
        "outputId": "cb6c546d-fdc5-4b3e-d8bf-08321811661e"
      },
      "execution_count": 3,
      "outputs": [
        {
          "output_type": "execute_result",
          "data": {
            "text/plain": [
              "Index(['id', 'hashtag', 'votes', 'hard', 'sentiment', 'group', 'text',\n",
              "       'repeat'],\n",
              "      dtype='object')"
            ]
          },
          "metadata": {},
          "execution_count": 3
        }
      ]
    },
    {
      "cell_type": "code",
      "source": [
        "tweets_df.drop(columns=['id', 'hashtag', 'votes', 'hard', 'group',\n",
        "       'repeat'], inplace=True)"
      ],
      "metadata": {
        "id": "NaxHrVb-Cffh"
      },
      "execution_count": 4,
      "outputs": []
    },
    {
      "cell_type": "code",
      "source": [
        "tweets_df.head()"
      ],
      "metadata": {
        "colab": {
          "base_uri": "https://localhost:8080/",
          "height": 206
        },
        "id": "EPrJEauXC3Aj",
        "outputId": "0570dabb-58f3-457e-cabc-bc9465868473"
      },
      "execution_count": 5,
      "outputs": [
        {
          "output_type": "execute_result",
          "data": {
            "text/plain": [
              "  sentiment                                               text\n",
              "0         1  que coisa linda O programa estava mostrando um...\n",
              "1         1           por mais com as irmãs galvão adorei elas\n",
              "2         1  mr CATRA USERNAME lançando sua nova música PPK...\n",
              "3         0  quem viu aquela lutadora modela barbuda tatuad...\n",
              "4        -1  tô passada com esse cara quanta merda pode sai..."
            ],
            "text/html": [
              "\n",
              "  <div id=\"df-d84ff7a5-6890-424b-8340-39fee877e7ad\">\n",
              "    <div class=\"colab-df-container\">\n",
              "      <div>\n",
              "<style scoped>\n",
              "    .dataframe tbody tr th:only-of-type {\n",
              "        vertical-align: middle;\n",
              "    }\n",
              "\n",
              "    .dataframe tbody tr th {\n",
              "        vertical-align: top;\n",
              "    }\n",
              "\n",
              "    .dataframe thead th {\n",
              "        text-align: right;\n",
              "    }\n",
              "</style>\n",
              "<table border=\"1\" class=\"dataframe\">\n",
              "  <thead>\n",
              "    <tr style=\"text-align: right;\">\n",
              "      <th></th>\n",
              "      <th>sentiment</th>\n",
              "      <th>text</th>\n",
              "    </tr>\n",
              "  </thead>\n",
              "  <tbody>\n",
              "    <tr>\n",
              "      <th>0</th>\n",
              "      <td>1</td>\n",
              "      <td>que coisa linda O programa estava mostrando um...</td>\n",
              "    </tr>\n",
              "    <tr>\n",
              "      <th>1</th>\n",
              "      <td>1</td>\n",
              "      <td>por mais com as irmãs galvão adorei elas</td>\n",
              "    </tr>\n",
              "    <tr>\n",
              "      <th>2</th>\n",
              "      <td>1</td>\n",
              "      <td>mr CATRA USERNAME lançando sua nova música PPK...</td>\n",
              "    </tr>\n",
              "    <tr>\n",
              "      <th>3</th>\n",
              "      <td>0</td>\n",
              "      <td>quem viu aquela lutadora modela barbuda tatuad...</td>\n",
              "    </tr>\n",
              "    <tr>\n",
              "      <th>4</th>\n",
              "      <td>-1</td>\n",
              "      <td>tô passada com esse cara quanta merda pode sai...</td>\n",
              "    </tr>\n",
              "  </tbody>\n",
              "</table>\n",
              "</div>\n",
              "      <button class=\"colab-df-convert\" onclick=\"convertToInteractive('df-d84ff7a5-6890-424b-8340-39fee877e7ad')\"\n",
              "              title=\"Convert this dataframe to an interactive table.\"\n",
              "              style=\"display:none;\">\n",
              "        \n",
              "  <svg xmlns=\"http://www.w3.org/2000/svg\" height=\"24px\"viewBox=\"0 0 24 24\"\n",
              "       width=\"24px\">\n",
              "    <path d=\"M0 0h24v24H0V0z\" fill=\"none\"/>\n",
              "    <path d=\"M18.56 5.44l.94 2.06.94-2.06 2.06-.94-2.06-.94-.94-2.06-.94 2.06-2.06.94zm-11 1L8.5 8.5l.94-2.06 2.06-.94-2.06-.94L8.5 2.5l-.94 2.06-2.06.94zm10 10l.94 2.06.94-2.06 2.06-.94-2.06-.94-.94-2.06-.94 2.06-2.06.94z\"/><path d=\"M17.41 7.96l-1.37-1.37c-.4-.4-.92-.59-1.43-.59-.52 0-1.04.2-1.43.59L10.3 9.45l-7.72 7.72c-.78.78-.78 2.05 0 2.83L4 21.41c.39.39.9.59 1.41.59.51 0 1.02-.2 1.41-.59l7.78-7.78 2.81-2.81c.8-.78.8-2.07 0-2.86zM5.41 20L4 18.59l7.72-7.72 1.47 1.35L5.41 20z\"/>\n",
              "  </svg>\n",
              "      </button>\n",
              "      \n",
              "  <style>\n",
              "    .colab-df-container {\n",
              "      display:flex;\n",
              "      flex-wrap:wrap;\n",
              "      gap: 12px;\n",
              "    }\n",
              "\n",
              "    .colab-df-convert {\n",
              "      background-color: #E8F0FE;\n",
              "      border: none;\n",
              "      border-radius: 50%;\n",
              "      cursor: pointer;\n",
              "      display: none;\n",
              "      fill: #1967D2;\n",
              "      height: 32px;\n",
              "      padding: 0 0 0 0;\n",
              "      width: 32px;\n",
              "    }\n",
              "\n",
              "    .colab-df-convert:hover {\n",
              "      background-color: #E2EBFA;\n",
              "      box-shadow: 0px 1px 2px rgba(60, 64, 67, 0.3), 0px 1px 3px 1px rgba(60, 64, 67, 0.15);\n",
              "      fill: #174EA6;\n",
              "    }\n",
              "\n",
              "    [theme=dark] .colab-df-convert {\n",
              "      background-color: #3B4455;\n",
              "      fill: #D2E3FC;\n",
              "    }\n",
              "\n",
              "    [theme=dark] .colab-df-convert:hover {\n",
              "      background-color: #434B5C;\n",
              "      box-shadow: 0px 1px 3px 1px rgba(0, 0, 0, 0.15);\n",
              "      filter: drop-shadow(0px 1px 2px rgba(0, 0, 0, 0.3));\n",
              "      fill: #FFFFFF;\n",
              "    }\n",
              "  </style>\n",
              "\n",
              "      <script>\n",
              "        const buttonEl =\n",
              "          document.querySelector('#df-d84ff7a5-6890-424b-8340-39fee877e7ad button.colab-df-convert');\n",
              "        buttonEl.style.display =\n",
              "          google.colab.kernel.accessAllowed ? 'block' : 'none';\n",
              "\n",
              "        async function convertToInteractive(key) {\n",
              "          const element = document.querySelector('#df-d84ff7a5-6890-424b-8340-39fee877e7ad');\n",
              "          const dataTable =\n",
              "            await google.colab.kernel.invokeFunction('convertToInteractive',\n",
              "                                                     [key], {});\n",
              "          if (!dataTable) return;\n",
              "\n",
              "          const docLinkHtml = 'Like what you see? Visit the ' +\n",
              "            '<a target=\"_blank\" href=https://colab.research.google.com/notebooks/data_table.ipynb>data table notebook</a>'\n",
              "            + ' to learn more about interactive tables.';\n",
              "          element.innerHTML = '';\n",
              "          dataTable['output_type'] = 'display_data';\n",
              "          await google.colab.output.renderOutput(dataTable, element);\n",
              "          const docLink = document.createElement('div');\n",
              "          docLink.innerHTML = docLinkHtml;\n",
              "          element.appendChild(docLink);\n",
              "        }\n",
              "      </script>\n",
              "    </div>\n",
              "  </div>\n",
              "  "
            ]
          },
          "metadata": {},
          "execution_count": 5
        }
      ]
    },
    {
      "cell_type": "code",
      "execution_count": 6,
      "metadata": {
        "colab": {
          "base_uri": "https://localhost:8080/"
        },
        "id": "e__bGyZq51cg",
        "outputId": "b8ba0273-db26-4de1-9b79-d49b3b319fb1"
      },
      "outputs": [
        {
          "output_type": "stream",
          "name": "stdout",
          "text": [
            "<class 'pandas.core.frame.DataFrame'>\n",
            "RangeIndex: 15047 entries, 0 to 15046\n",
            "Data columns (total 2 columns):\n",
            " #   Column     Non-Null Count  Dtype \n",
            "---  ------     --------------  ----- \n",
            " 0   sentiment  15047 non-null  object\n",
            " 1   text       15047 non-null  object\n",
            "dtypes: object(2)\n",
            "memory usage: 235.2+ KB\n"
          ]
        }
      ],
      "source": [
        " tweets_df.info()"
      ]
    },
    {
      "cell_type": "code",
      "execution_count": 7,
      "metadata": {
        "colab": {
          "base_uri": "https://localhost:8080/",
          "height": 206
        },
        "id": "_KvtR_olPC0N",
        "outputId": "5af8c2fb-3944-4d30-d6d4-7b0b6988a38b"
      },
      "outputs": [
        {
          "output_type": "execute_result",
          "data": {
            "text/plain": [
              "           text\n",
              "sentiment      \n",
              "-            47\n",
              "-1         4426\n",
              "0          3926\n",
              "1          6648"
            ],
            "text/html": [
              "\n",
              "  <div id=\"df-6a29e8e3-fc87-48de-94b2-5a6a96f39cea\">\n",
              "    <div class=\"colab-df-container\">\n",
              "      <div>\n",
              "<style scoped>\n",
              "    .dataframe tbody tr th:only-of-type {\n",
              "        vertical-align: middle;\n",
              "    }\n",
              "\n",
              "    .dataframe tbody tr th {\n",
              "        vertical-align: top;\n",
              "    }\n",
              "\n",
              "    .dataframe thead th {\n",
              "        text-align: right;\n",
              "    }\n",
              "</style>\n",
              "<table border=\"1\" class=\"dataframe\">\n",
              "  <thead>\n",
              "    <tr style=\"text-align: right;\">\n",
              "      <th></th>\n",
              "      <th>text</th>\n",
              "    </tr>\n",
              "    <tr>\n",
              "      <th>sentiment</th>\n",
              "      <th></th>\n",
              "    </tr>\n",
              "  </thead>\n",
              "  <tbody>\n",
              "    <tr>\n",
              "      <th>-</th>\n",
              "      <td>47</td>\n",
              "    </tr>\n",
              "    <tr>\n",
              "      <th>-1</th>\n",
              "      <td>4426</td>\n",
              "    </tr>\n",
              "    <tr>\n",
              "      <th>0</th>\n",
              "      <td>3926</td>\n",
              "    </tr>\n",
              "    <tr>\n",
              "      <th>1</th>\n",
              "      <td>6648</td>\n",
              "    </tr>\n",
              "  </tbody>\n",
              "</table>\n",
              "</div>\n",
              "      <button class=\"colab-df-convert\" onclick=\"convertToInteractive('df-6a29e8e3-fc87-48de-94b2-5a6a96f39cea')\"\n",
              "              title=\"Convert this dataframe to an interactive table.\"\n",
              "              style=\"display:none;\">\n",
              "        \n",
              "  <svg xmlns=\"http://www.w3.org/2000/svg\" height=\"24px\"viewBox=\"0 0 24 24\"\n",
              "       width=\"24px\">\n",
              "    <path d=\"M0 0h24v24H0V0z\" fill=\"none\"/>\n",
              "    <path d=\"M18.56 5.44l.94 2.06.94-2.06 2.06-.94-2.06-.94-.94-2.06-.94 2.06-2.06.94zm-11 1L8.5 8.5l.94-2.06 2.06-.94-2.06-.94L8.5 2.5l-.94 2.06-2.06.94zm10 10l.94 2.06.94-2.06 2.06-.94-2.06-.94-.94-2.06-.94 2.06-2.06.94z\"/><path d=\"M17.41 7.96l-1.37-1.37c-.4-.4-.92-.59-1.43-.59-.52 0-1.04.2-1.43.59L10.3 9.45l-7.72 7.72c-.78.78-.78 2.05 0 2.83L4 21.41c.39.39.9.59 1.41.59.51 0 1.02-.2 1.41-.59l7.78-7.78 2.81-2.81c.8-.78.8-2.07 0-2.86zM5.41 20L4 18.59l7.72-7.72 1.47 1.35L5.41 20z\"/>\n",
              "  </svg>\n",
              "      </button>\n",
              "      \n",
              "  <style>\n",
              "    .colab-df-container {\n",
              "      display:flex;\n",
              "      flex-wrap:wrap;\n",
              "      gap: 12px;\n",
              "    }\n",
              "\n",
              "    .colab-df-convert {\n",
              "      background-color: #E8F0FE;\n",
              "      border: none;\n",
              "      border-radius: 50%;\n",
              "      cursor: pointer;\n",
              "      display: none;\n",
              "      fill: #1967D2;\n",
              "      height: 32px;\n",
              "      padding: 0 0 0 0;\n",
              "      width: 32px;\n",
              "    }\n",
              "\n",
              "    .colab-df-convert:hover {\n",
              "      background-color: #E2EBFA;\n",
              "      box-shadow: 0px 1px 2px rgba(60, 64, 67, 0.3), 0px 1px 3px 1px rgba(60, 64, 67, 0.15);\n",
              "      fill: #174EA6;\n",
              "    }\n",
              "\n",
              "    [theme=dark] .colab-df-convert {\n",
              "      background-color: #3B4455;\n",
              "      fill: #D2E3FC;\n",
              "    }\n",
              "\n",
              "    [theme=dark] .colab-df-convert:hover {\n",
              "      background-color: #434B5C;\n",
              "      box-shadow: 0px 1px 3px 1px rgba(0, 0, 0, 0.15);\n",
              "      filter: drop-shadow(0px 1px 2px rgba(0, 0, 0, 0.3));\n",
              "      fill: #FFFFFF;\n",
              "    }\n",
              "  </style>\n",
              "\n",
              "      <script>\n",
              "        const buttonEl =\n",
              "          document.querySelector('#df-6a29e8e3-fc87-48de-94b2-5a6a96f39cea button.colab-df-convert');\n",
              "        buttonEl.style.display =\n",
              "          google.colab.kernel.accessAllowed ? 'block' : 'none';\n",
              "\n",
              "        async function convertToInteractive(key) {\n",
              "          const element = document.querySelector('#df-6a29e8e3-fc87-48de-94b2-5a6a96f39cea');\n",
              "          const dataTable =\n",
              "            await google.colab.kernel.invokeFunction('convertToInteractive',\n",
              "                                                     [key], {});\n",
              "          if (!dataTable) return;\n",
              "\n",
              "          const docLinkHtml = 'Like what you see? Visit the ' +\n",
              "            '<a target=\"_blank\" href=https://colab.research.google.com/notebooks/data_table.ipynb>data table notebook</a>'\n",
              "            + ' to learn more about interactive tables.';\n",
              "          element.innerHTML = '';\n",
              "          dataTable['output_type'] = 'display_data';\n",
              "          await google.colab.output.renderOutput(dataTable, element);\n",
              "          const docLink = document.createElement('div');\n",
              "          docLink.innerHTML = docLinkHtml;\n",
              "          element.appendChild(docLink);\n",
              "        }\n",
              "      </script>\n",
              "    </div>\n",
              "  </div>\n",
              "  "
            ]
          },
          "metadata": {},
          "execution_count": 7
        }
      ],
      "source": [
        "tweets_df.groupby(['sentiment']).count()"
      ]
    },
    {
      "cell_type": "code",
      "source": [
        "# removendo as linhas com a variável sentimento como traço '-'\n",
        "\n",
        "indexNames = tweets_df[ tweets_df['sentiment'] == '-' ].index #obtendo o valor para ajudar a remover a linha\n",
        "tweets_df.drop(indexNames , inplace=True) #removendo a linha correspondente ao valor informado"
      ],
      "metadata": {
        "id": "t69SJTSS7dSc"
      },
      "execution_count": 8,
      "outputs": []
    },
    {
      "cell_type": "code",
      "source": [
        "# tranformando valores para adequar a os classificadores\n",
        "tweets_df['sentiment'] = tweets_df['sentiment'].replace(['-1', '0', '1'], [3, 6, 9])\n",
        "tweets_df['sentiment'] = tweets_df['sentiment'].replace([3, 6, 9], [0, 1, 2])"
      ],
      "metadata": {
        "id": "nkDJhkN27hVV"
      },
      "execution_count": 9,
      "outputs": []
    },
    {
      "cell_type": "code",
      "execution_count": 10,
      "metadata": {
        "colab": {
          "base_uri": "https://localhost:8080/",
          "height": 279
        },
        "id": "0hCJJW_hPJuh",
        "outputId": "35c83cda-806f-4e19-d93d-a80a1fdd8262"
      },
      "outputs": [
        {
          "output_type": "display_data",
          "data": {
            "text/plain": [
              "<Figure size 432x288 with 1 Axes>"
            ],
            "image/png": "[encoded data removed]"
          },
          "metadata": {
            "needs_background": "light"
          }
        }
      ],
      "source": [
        "# Visualizando os dados graficamente\n",
        "sns.countplot(x=tweets_df.sentiment)\n",
        "plt.xlabel('class label')\n",
        "plt.ylabel('number of tweets')\n",
        "plt.show()"
      ]
    },
    {
      "cell_type": "code",
      "source": [
        "tweets_df.groupby(['sentiment']).count()"
      ],
      "metadata": {
        "colab": {
          "base_uri": "https://localhost:8080/",
          "height": 175
        },
        "id": "rXl1HYKD708m",
        "outputId": "575153f8-0bdd-4caa-9184-bdcc6763c3d6"
      },
      "execution_count": 11,
      "outputs": [
        {
          "output_type": "execute_result",
          "data": {
            "text/plain": [
              "           text\n",
              "sentiment      \n",
              "0          4426\n",
              "1          3926\n",
              "2          6648"
            ],
            "text/html": [
              "\n",
              "  <div id=\"df-f8dcb938-089f-455d-bb34-e4668bee4355\">\n",
              "    <div class=\"colab-df-container\">\n",
              "      <div>\n",
              "<style scoped>\n",
              "    .dataframe tbody tr th:only-of-type {\n",
              "        vertical-align: middle;\n",
              "    }\n",
              "\n",
              "    .dataframe tbody tr th {\n",
              "        vertical-align: top;\n",
              "    }\n",
              "\n",
              "    .dataframe thead th {\n",
              "        text-align: right;\n",
              "    }\n",
              "</style>\n",
              "<table border=\"1\" class=\"dataframe\">\n",
              "  <thead>\n",
              "    <tr style=\"text-align: right;\">\n",
              "      <th></th>\n",
              "      <th>text</th>\n",
              "    </tr>\n",
              "    <tr>\n",
              "      <th>sentiment</th>\n",
              "      <th></th>\n",
              "    </tr>\n",
              "  </thead>\n",
              "  <tbody>\n",
              "    <tr>\n",
              "      <th>0</th>\n",
              "      <td>4426</td>\n",
              "    </tr>\n",
              "    <tr>\n",
              "      <th>1</th>\n",
              "      <td>3926</td>\n",
              "    </tr>\n",
              "    <tr>\n",
              "      <th>2</th>\n",
              "      <td>6648</td>\n",
              "    </tr>\n",
              "  </tbody>\n",
              "</table>\n",
              "</div>\n",
              "      <button class=\"colab-df-convert\" onclick=\"convertToInteractive('df-f8dcb938-089f-455d-bb34-e4668bee4355')\"\n",
              "              title=\"Convert this dataframe to an interactive table.\"\n",
              "              style=\"display:none;\">\n",
              "        \n",
              "  <svg xmlns=\"http://www.w3.org/2000/svg\" height=\"24px\"viewBox=\"0 0 24 24\"\n",
              "       width=\"24px\">\n",
              "    <path d=\"M0 0h24v24H0V0z\" fill=\"none\"/>\n",
              "    <path d=\"M18.56 5.44l.94 2.06.94-2.06 2.06-.94-2.06-.94-.94-2.06-.94 2.06-2.06.94zm-11 1L8.5 8.5l.94-2.06 2.06-.94-2.06-.94L8.5 2.5l-.94 2.06-2.06.94zm10 10l.94 2.06.94-2.06 2.06-.94-2.06-.94-.94-2.06-.94 2.06-2.06.94z\"/><path d=\"M17.41 7.96l-1.37-1.37c-.4-.4-.92-.59-1.43-.59-.52 0-1.04.2-1.43.59L10.3 9.45l-7.72 7.72c-.78.78-.78 2.05 0 2.83L4 21.41c.39.39.9.59 1.41.59.51 0 1.02-.2 1.41-.59l7.78-7.78 2.81-2.81c.8-.78.8-2.07 0-2.86zM5.41 20L4 18.59l7.72-7.72 1.47 1.35L5.41 20z\"/>\n",
              "  </svg>\n",
              "      </button>\n",
              "      \n",
              "  <style>\n",
              "    .colab-df-container {\n",
              "      display:flex;\n",
              "      flex-wrap:wrap;\n",
              "      gap: 12px;\n",
              "    }\n",
              "\n",
              "    .colab-df-convert {\n",
              "      background-color: #E8F0FE;\n",
              "      border: none;\n",
              "      border-radius: 50%;\n",
              "      cursor: pointer;\n",
              "      display: none;\n",
              "      fill: #1967D2;\n",
              "      height: 32px;\n",
              "      padding: 0 0 0 0;\n",
              "      width: 32px;\n",
              "    }\n",
              "\n",
              "    .colab-df-convert:hover {\n",
              "      background-color: #E2EBFA;\n",
              "      box-shadow: 0px 1px 2px rgba(60, 64, 67, 0.3), 0px 1px 3px 1px rgba(60, 64, 67, 0.15);\n",
              "      fill: #174EA6;\n",
              "    }\n",
              "\n",
              "    [theme=dark] .colab-df-convert {\n",
              "      background-color: #3B4455;\n",
              "      fill: #D2E3FC;\n",
              "    }\n",
              "\n",
              "    [theme=dark] .colab-df-convert:hover {\n",
              "      background-color: #434B5C;\n",
              "      box-shadow: 0px 1px 3px 1px rgba(0, 0, 0, 0.15);\n",
              "      filter: drop-shadow(0px 1px 2px rgba(0, 0, 0, 0.3));\n",
              "      fill: #FFFFFF;\n",
              "    }\n",
              "  </style>\n",
              "\n",
              "      <script>\n",
              "        const buttonEl =\n",
              "          document.querySelector('#df-f8dcb938-089f-455d-bb34-e4668bee4355 button.colab-df-convert');\n",
              "        buttonEl.style.display =\n",
              "          google.colab.kernel.accessAllowed ? 'block' : 'none';\n",
              "\n",
              "        async function convertToInteractive(key) {\n",
              "          const element = document.querySelector('#df-f8dcb938-089f-455d-bb34-e4668bee4355');\n",
              "          const dataTable =\n",
              "            await google.colab.kernel.invokeFunction('convertToInteractive',\n",
              "                                                     [key], {});\n",
              "          if (!dataTable) return;\n",
              "\n",
              "          const docLinkHtml = 'Like what you see? Visit the ' +\n",
              "            '<a target=\"_blank\" href=https://colab.research.google.com/notebooks/data_table.ipynb>data table notebook</a>'\n",
              "            + ' to learn more about interactive tables.';\n",
              "          element.innerHTML = '';\n",
              "          dataTable['output_type'] = 'display_data';\n",
              "          await google.colab.output.renderOutput(dataTable, element);\n",
              "          const docLink = document.createElement('div');\n",
              "          docLink.innerHTML = docLinkHtml;\n",
              "          element.appendChild(docLink);\n",
              "        }\n",
              "      </script>\n",
              "    </div>\n",
              "  </div>\n",
              "  "
            ]
          },
          "metadata": {},
          "execution_count": 11
        }
      ]
    },
    {
      "cell_type": "markdown",
      "metadata": {
        "id": "3stzwvzcPyS4"
      },
      "source": [
        "## Efetuando a limpeza dos dados"
      ]
    },
    {
      "cell_type": "code",
      "source": [
        "# removendo as palavras USERNAME e NUMBER\n",
        "tweets_df['text_clean'] = tweets_df['text'].str.replace('USERNAME', '').str.replace('NUMBER', '')"
      ],
      "metadata": {
        "id": "yURdwkc075fO"
      },
      "execution_count": 12,
      "outputs": []
    },
    {
      "cell_type": "code",
      "execution_count": 13,
      "metadata": {
        "colab": {
          "base_uri": "https://localhost:8080/"
        },
        "id": "nWJQ4eCFQ17F",
        "outputId": "a46cbcd8-9582-4346-a16a-486fec200268"
      },
      "outputs": [
        {
          "output_type": "stream",
          "name": "stdout",
          "text": [
            "Looking in indexes: https://pypi.org/simple, https://us-python.pkg.dev/colab-wheels/public/simple/\n",
            "Requirement already satisfied: update in /usr/local/lib/python3.7/dist-packages (0.0.1)\n",
            "Requirement already satisfied: nltk in /usr/local/lib/python3.7/dist-packages (3.7)\n",
            "Requirement already satisfied: style==1.1.0 in /usr/local/lib/python3.7/dist-packages (from update) (1.1.0)\n",
            "Requirement already satisfied: tqdm in /usr/local/lib/python3.7/dist-packages (from nltk) (4.64.0)\n",
            "Requirement already satisfied: click in /usr/local/lib/python3.7/dist-packages (from nltk) (7.1.2)\n",
            "Requirement already satisfied: regex>=2021.8.3 in /usr/local/lib/python3.7/dist-packages (from nltk) (2022.6.2)\n",
            "Requirement already satisfied: joblib in /usr/local/lib/python3.7/dist-packages (from nltk) (1.1.0)\n",
            "\u001b[33mWARNING: Running pip as the 'root' user can result in broken permissions and conflicting behaviour with the system package manager. It is recommended to use a virtual environment instead: https://pip.pypa.io/warnings/venv\u001b[0m\u001b[33m\n",
            "\u001b[0m"
          ]
        }
      ],
      "source": [
        "!pip install update nltk"
      ]
    },
    {
      "cell_type": "code",
      "execution_count": 14,
      "metadata": {
        "colab": {
          "base_uri": "https://localhost:8080/"
        },
        "id": "7l68RGU8RJej",
        "outputId": "def51e5e-52bf-4b13-91e7-3ca8c91e61db"
      },
      "outputs": [
        {
          "output_type": "stream",
          "name": "stdout",
          "text": [
            "/usr/lib/python3.7/runpy.py:125: RuntimeWarning: 'nltk.downloader' found in sys.modules after import of package 'nltk', but prior to execution of 'nltk.downloader'; this may result in unpredictable behaviour\n",
            "  warn(RuntimeWarning(msg))\n",
            "[nltk_data] Downloading package stopwords to /root/nltk_data...\n",
            "[nltk_data]   Package stopwords is already up-to-date!\n"
          ]
        }
      ],
      "source": [
        "!python -m nltk.downloader stopwords"
      ]
    },
    {
      "cell_type": "code",
      "execution_count": 15,
      "metadata": {
        "id": "oQtLcvWpPzGE"
      },
      "outputs": [],
      "source": [
        "# importando a biblioteca de processamento de linguagen natural e a de expreções regulares (regex)\n",
        "import nltk\n",
        "import re\n",
        "\n",
        "# usando as funções stopword e remover os caracteres indesejados\n",
        "def Preprocessing(instancia):\n",
        "    instancia = re.sub(r\"http\\S+\", \"\", instancia).lower() # remove url e tranforma o texto em minusculo\n",
        "    instancia = re.sub(r'[0-9]+', '', instancia) # remove números\n",
        "    instancia = re.sub(r'[^\\w\\s]','', instancia) # remove pontuação\n",
        "    instancia = re.sub('[!#$%^&*()]', '', instancia) #remove caractéres espaciais\n",
        "    stopwords = set(nltk.corpus.stopwords.words('portuguese'))\n",
        "    palavras = [i for i in instancia.split() if not i in stopwords]\n",
        "    return (\" \".join(palavras))"
      ]
    },
    {
      "cell_type": "code",
      "source": [
        "# remover emojis utilizado regex (re)\n",
        "def remove_emoji(string):\n",
        "    emoji_pattern = re.compile(\"[\"\n",
        "                               u\"\\U0001F600-\\U0001F64F\"  # emoticons\n",
        "                               u\"\\U0001F300-\\U0001F5FF\"  # symbols & pictographs\n",
        "                               u\"\\U0001F680-\\U0001F6FF\"  # transport & map symbols\n",
        "                               u\"\\U0001F1E0-\\U0001F1FF\"  # flags (iOS)\n",
        "                               u\"\\U00002500-\\U00002BEF\"  # chinese char\n",
        "                               u\"\\U00002702-\\U000027B0\"\n",
        "                               u\"\\U00002702-\\U000027B0\"\n",
        "                               u\"\\U000024C2-\\U0001F251\"\n",
        "                               u\"\\U0001f926-\\U0001f937\"\n",
        "                               u\"\\U00010000-\\U0010ffff\"\n",
        "                               u\"\\u2640-\\u2642\"\n",
        "                               u\"\\u2600-\\u2B55\"\n",
        "                               u\"\\u200d\"\n",
        "                               u\"\\u23cf\"\n",
        "                               u\"\\u23e9\"\n",
        "                               u\"\\u231a\"\n",
        "                               u\"\\ufe0f\"  # dingbats\n",
        "                               u\"\\u3030\"\n",
        "                               \"]+\", flags=re.UNICODE)\n",
        "    return emoji_pattern.sub(r'', string)"
      ],
      "metadata": {
        "id": "0WWWaunE8Ntw"
      },
      "execution_count": 16,
      "outputs": []
    },
    {
      "cell_type": "code",
      "execution_count": 17,
      "metadata": {
        "colab": {
          "base_uri": "https://localhost:8080/",
          "height": 302
        },
        "id": "K_3GOhteP7j7",
        "outputId": "bbb7df37-ae9c-4943-f896-8f4d2b887b2a"
      },
      "outputs": [
        {
          "output_type": "execute_result",
          "data": {
            "text/plain": [
              "   sentiment  \\\n",
              "0          2   \n",
              "1          2   \n",
              "2          2   \n",
              "3          1   \n",
              "4          0   \n",
              "\n",
              "                                                                                                          text  \\\n",
              "0  que coisa linda O programa estava mostrando uma familia que adotou um adolescente de NUMBER anos que amor !   \n",
              "1                                                                     por mais com as irmãs galvão adorei elas   \n",
              "2                mr CATRA USERNAME lançando sua nova música PPK CHORA no USERNAME k k k 👅 😉 #MrCatra #PpkChora   \n",
              "3                                                quem viu aquela lutadora modela barbuda tatuada #MasterChefBR   \n",
              "4                        tô passada com esse cara quanta merda pode sair da boca de alguém em alguns minutos 😠   \n",
              "\n",
              "                                                            text_clean  \n",
              "0  coisa linda programa mostrando familia adotou adolescente anos amor  \n",
              "1                                                  irmãs galvão adorei  \n",
              "2       mr catra lançando nova música ppk chora k k k mrcatra ppkchora  \n",
              "3                     viu lutadora modela barbuda tatuada masterchefbr  \n",
              "4    tô passada cara quanta merda pode sair boca alguém alguns minutos  "
            ],
            "text/html": [
              "\n",
              "  <div id=\"df-d03fdecd-324a-46b3-bd4f-06c531d2e456\">\n",
              "    <div class=\"colab-df-container\">\n",
              "      <div>\n",
              "<style scoped>\n",
              "    .dataframe tbody tr th:only-of-type {\n",
              "        vertical-align: middle;\n",
              "    }\n",
              "\n",
              "    .dataframe tbody tr th {\n",
              "        vertical-align: top;\n",
              "    }\n",
              "\n",
              "    .dataframe thead th {\n",
              "        text-align: right;\n",
              "    }\n",
              "</style>\n",
              "<table border=\"1\" class=\"dataframe\">\n",
              "  <thead>\n",
              "    <tr style=\"text-align: right;\">\n",
              "      <th></th>\n",
              "      <th>sentiment</th>\n",
              "      <th>text</th>\n",
              "      <th>text_clean</th>\n",
              "    </tr>\n",
              "  </thead>\n",
              "  <tbody>\n",
              "    <tr>\n",
              "      <th>0</th>\n",
              "      <td>2</td>\n",
              "      <td>que coisa linda O programa estava mostrando uma familia que adotou um adolescente de NUMBER anos que amor !</td>\n",
              "      <td>coisa linda programa mostrando familia adotou adolescente anos amor</td>\n",
              "    </tr>\n",
              "    <tr>\n",
              "      <th>1</th>\n",
              "      <td>2</td>\n",
              "      <td>por mais com as irmãs galvão adorei elas</td>\n",
              "      <td>irmãs galvão adorei</td>\n",
              "    </tr>\n",
              "    <tr>\n",
              "      <th>2</th>\n",
              "      <td>2</td>\n",
              "      <td>mr CATRA USERNAME lançando sua nova música PPK CHORA no USERNAME k k k 👅 😉 #MrCatra #PpkChora</td>\n",
              "      <td>mr catra lançando nova música ppk chora k k k mrcatra ppkchora</td>\n",
              "    </tr>\n",
              "    <tr>\n",
              "      <th>3</th>\n",
              "      <td>1</td>\n",
              "      <td>quem viu aquela lutadora modela barbuda tatuada #MasterChefBR</td>\n",
              "      <td>viu lutadora modela barbuda tatuada masterchefbr</td>\n",
              "    </tr>\n",
              "    <tr>\n",
              "      <th>4</th>\n",
              "      <td>0</td>\n",
              "      <td>tô passada com esse cara quanta merda pode sair da boca de alguém em alguns minutos 😠</td>\n",
              "      <td>tô passada cara quanta merda pode sair boca alguém alguns minutos</td>\n",
              "    </tr>\n",
              "  </tbody>\n",
              "</table>\n",
              "</div>\n",
              "      <button class=\"colab-df-convert\" onclick=\"convertToInteractive('df-d03fdecd-324a-46b3-bd4f-06c531d2e456')\"\n",
              "              title=\"Convert this dataframe to an interactive table.\"\n",
              "              style=\"display:none;\">\n",
              "        \n",
              "  <svg xmlns=\"http://www.w3.org/2000/svg\" height=\"24px\"viewBox=\"0 0 24 24\"\n",
              "       width=\"24px\">\n",
              "    <path d=\"M0 0h24v24H0V0z\" fill=\"none\"/>\n",
              "    <path d=\"M18.56 5.44l.94 2.06.94-2.06 2.06-.94-2.06-.94-.94-2.06-.94 2.06-2.06.94zm-11 1L8.5 8.5l.94-2.06 2.06-.94-2.06-.94L8.5 2.5l-.94 2.06-2.06.94zm10 10l.94 2.06.94-2.06 2.06-.94-2.06-.94-.94-2.06-.94 2.06-2.06.94z\"/><path d=\"M17.41 7.96l-1.37-1.37c-.4-.4-.92-.59-1.43-.59-.52 0-1.04.2-1.43.59L10.3 9.45l-7.72 7.72c-.78.78-.78 2.05 0 2.83L4 21.41c.39.39.9.59 1.41.59.51 0 1.02-.2 1.41-.59l7.78-7.78 2.81-2.81c.8-.78.8-2.07 0-2.86zM5.41 20L4 18.59l7.72-7.72 1.47 1.35L5.41 20z\"/>\n",
              "  </svg>\n",
              "      </button>\n",
              "      \n",
              "  <style>\n",
              "    .colab-df-container {\n",
              "      display:flex;\n",
              "      flex-wrap:wrap;\n",
              "      gap: 12px;\n",
              "    }\n",
              "\n",
              "    .colab-df-convert {\n",
              "      background-color: #E8F0FE;\n",
              "      border: none;\n",
              "      border-radius: 50%;\n",
              "      cursor: pointer;\n",
              "      display: none;\n",
              "      fill: #1967D2;\n",
              "      height: 32px;\n",
              "      padding: 0 0 0 0;\n",
              "      width: 32px;\n",
              "    }\n",
              "\n",
              "    .colab-df-convert:hover {\n",
              "      background-color: #E2EBFA;\n",
              "      box-shadow: 0px 1px 2px rgba(60, 64, 67, 0.3), 0px 1px 3px 1px rgba(60, 64, 67, 0.15);\n",
              "      fill: #174EA6;\n",
              "    }\n",
              "\n",
              "    [theme=dark] .colab-df-convert {\n",
              "      background-color: #3B4455;\n",
              "      fill: #D2E3FC;\n",
              "    }\n",
              "\n",
              "    [theme=dark] .colab-df-convert:hover {\n",
              "      background-color: #434B5C;\n",
              "      box-shadow: 0px 1px 3px 1px rgba(0, 0, 0, 0.15);\n",
              "      filter: drop-shadow(0px 1px 2px rgba(0, 0, 0, 0.3));\n",
              "      fill: #FFFFFF;\n",
              "    }\n",
              "  </style>\n",
              "\n",
              "      <script>\n",
              "        const buttonEl =\n",
              "          document.querySelector('#df-d03fdecd-324a-46b3-bd4f-06c531d2e456 button.colab-df-convert');\n",
              "        buttonEl.style.display =\n",
              "          google.colab.kernel.accessAllowed ? 'block' : 'none';\n",
              "\n",
              "        async function convertToInteractive(key) {\n",
              "          const element = document.querySelector('#df-d03fdecd-324a-46b3-bd4f-06c531d2e456');\n",
              "          const dataTable =\n",
              "            await google.colab.kernel.invokeFunction('convertToInteractive',\n",
              "                                                     [key], {});\n",
              "          if (!dataTable) return;\n",
              "\n",
              "          const docLinkHtml = 'Like what you see? Visit the ' +\n",
              "            '<a target=\"_blank\" href=https://colab.research.google.com/notebooks/data_table.ipynb>data table notebook</a>'\n",
              "            + ' to learn more about interactive tables.';\n",
              "          element.innerHTML = '';\n",
              "          dataTable['output_type'] = 'display_data';\n",
              "          await google.colab.output.renderOutput(dataTable, element);\n",
              "          const docLink = document.createElement('div');\n",
              "          docLink.innerHTML = docLinkHtml;\n",
              "          element.appendChild(docLink);\n",
              "        }\n",
              "      </script>\n",
              "    </div>\n",
              "  </div>\n",
              "  "
            ]
          },
          "metadata": {},
          "execution_count": 17
        }
      ],
      "source": [
        "# aplicando a função de limpeza de dados:\n",
        "tweets_df['text_clean'] = [Preprocessing(i) for i in tweets_df['text_clean']]\n",
        "tweets_df['text_clean'] = [remove_emoji(i) for i in tweets_df['text_clean']]\n",
        "pd.set_option('display.max_colwidth', None) \n",
        "\n",
        "tweets_df.head()"
      ]
    },
    {
      "cell_type": "markdown",
      "source": [
        "# Lematização"
      ],
      "metadata": {
        "id": "PoblwBRB8hDp"
      }
    },
    {
      "cell_type": "code",
      "source": [
        "!pip install -U pip setuptools wheel\n",
        "!pip install -U spacy\n",
        "!python -m spacy download pt_core_news_sm"
      ],
      "metadata": {
        "colab": {
          "base_uri": "https://localhost:8080/"
        },
        "id": "JCs5squ58gTj",
        "outputId": "3149a911-33a9-4e8d-e282-11167c2ff698"
      },
      "execution_count": 18,
      "outputs": [
        {
          "output_type": "stream",
          "name": "stdout",
          "text": [
            "Looking in indexes: https://pypi.org/simple, https://us-python.pkg.dev/colab-wheels/public/simple/\n",
            "Requirement already satisfied: pip in /usr/local/lib/python3.7/dist-packages (22.1.2)\n",
            "Requirement already satisfied: setuptools in /usr/local/lib/python3.7/dist-packages (63.2.0)\n",
            "Requirement already satisfied: wheel in /usr/local/lib/python3.7/dist-packages (0.37.1)\n",
            "\u001b[33mWARNING: Running pip as the 'root' user can result in broken permissions and conflicting behaviour with the system package manager. It is recommended to use a virtual environment instead: https://pip.pypa.io/warnings/venv\u001b[0m\u001b[33m\n",
            "\u001b[0mLooking in indexes: https://pypi.org/simple, https://us-python.pkg.dev/colab-wheels/public/simple/\n",
            "Requirement already satisfied: spacy in /usr/local/lib/python3.7/dist-packages (3.4.0)\n",
            "Requirement already satisfied: typer<0.5.0,>=0.3.0 in /usr/local/lib/python3.7/dist-packages (from spacy) (0.4.2)\n",
            "Requirement already satisfied: thinc<8.2.0,>=8.1.0 in /usr/local/lib/python3.7/dist-packages (from spacy) (8.1.0)\n",
            "Requirement already satisfied: wasabi<1.1.0,>=0.9.1 in /usr/local/lib/python3.7/dist-packages (from spacy) (0.9.1)\n",
            "Requirement already satisfied: tqdm<5.0.0,>=4.38.0 in /usr/local/lib/python3.7/dist-packages (from spacy) (4.64.0)\n",
            "Requirement already satisfied: langcodes<4.0.0,>=3.2.0 in /usr/local/lib/python3.7/dist-packages (from spacy) (3.3.0)\n",
            "Requirement already satisfied: preshed<3.1.0,>=3.0.2 in /usr/local/lib/python3.7/dist-packages (from spacy) (3.0.6)\n",
            "Requirement already satisfied: srsly<3.0.0,>=2.4.3 in /usr/local/lib/python3.7/dist-packages (from spacy) (2.4.3)\n",
            "Requirement already satisfied: packaging>=20.0 in /usr/local/lib/python3.7/dist-packages (from spacy) (21.3)\n",
            "Requirement already satisfied: spacy-legacy<3.1.0,>=3.0.9 in /usr/local/lib/python3.7/dist-packages (from spacy) (3.0.9)\n",
            "Requirement already satisfied: cymem<2.1.0,>=2.0.2 in /usr/local/lib/python3.7/dist-packages (from spacy) (2.0.6)\n",
            "Requirement already satisfied: typing-extensions<4.2.0,>=3.7.4 in /usr/local/lib/python3.7/dist-packages (from spacy) (4.1.1)\n",
            "Requirement already satisfied: pathy>=0.3.5 in /usr/local/lib/python3.7/dist-packages (from spacy) (0.6.2)\n",
            "Requirement already satisfied: numpy>=1.15.0 in /usr/local/lib/python3.7/dist-packages (from spacy) (1.21.6)\n",
            "Requirement already satisfied: murmurhash<1.1.0,>=0.28.0 in /usr/local/lib/python3.7/dist-packages (from spacy) (1.0.7)\n",
            "Requirement already satisfied: catalogue<2.1.0,>=2.0.6 in /usr/local/lib/python3.7/dist-packages (from spacy) (2.0.7)\n",
            "Requirement already satisfied: pydantic!=1.8,!=1.8.1,<1.10.0,>=1.7.4 in /usr/local/lib/python3.7/dist-packages (from spacy) (1.8.2)\n",
            "Requirement already satisfied: jinja2 in /usr/local/lib/python3.7/dist-packages (from spacy) (2.11.3)\n",
            "Requirement already satisfied: setuptools in /usr/local/lib/python3.7/dist-packages (from spacy) (63.2.0)\n",
            "Requirement already satisfied: requests<3.0.0,>=2.13.0 in /usr/local/lib/python3.7/dist-packages (from spacy) (2.23.0)\n",
            "Requirement already satisfied: spacy-loggers<2.0.0,>=1.0.0 in /usr/local/lib/python3.7/dist-packages (from spacy) (1.0.2)\n",
            "Requirement already satisfied: zipp>=0.5 in /usr/local/lib/python3.7/dist-packages (from catalogue<2.1.0,>=2.0.6->spacy) (3.8.0)\n",
            "Requirement already satisfied: pyparsing!=3.0.5,>=2.0.2 in /usr/local/lib/python3.7/dist-packages (from packaging>=20.0->spacy) (3.0.9)\n",
            "Requirement already satisfied: smart-open<6.0.0,>=5.2.1 in /usr/local/lib/python3.7/dist-packages (from pathy>=0.3.5->spacy) (5.2.1)\n",
            "Requirement already satisfied: idna<3,>=2.5 in /usr/local/lib/python3.7/dist-packages (from requests<3.0.0,>=2.13.0->spacy) (2.10)\n",
            "Requirement already satisfied: chardet<4,>=3.0.2 in /usr/local/lib/python3.7/dist-packages (from requests<3.0.0,>=2.13.0->spacy) (3.0.4)\n",
            "Requirement already satisfied: urllib3!=1.25.0,!=1.25.1,<1.26,>=1.21.1 in /usr/local/lib/python3.7/dist-packages (from requests<3.0.0,>=2.13.0->spacy) (1.24.3)\n",
            "Requirement already satisfied: certifi>=2017.4.17 in /usr/local/lib/python3.7/dist-packages (from requests<3.0.0,>=2.13.0->spacy) (2022.6.15)\n",
            "Requirement already satisfied: blis<0.8.0,>=0.7.8 in /usr/local/lib/python3.7/dist-packages (from thinc<8.2.0,>=8.1.0->spacy) (0.7.8)\n",
            "Requirement already satisfied: click<9.0.0,>=7.1.1 in /usr/local/lib/python3.7/dist-packages (from typer<0.5.0,>=0.3.0->spacy) (7.1.2)\n",
            "Requirement already satisfied: MarkupSafe>=0.23 in /usr/local/lib/python3.7/dist-packages (from jinja2->spacy) (2.0.1)\n",
            "\u001b[33mWARNING: Running pip as the 'root' user can result in broken permissions and conflicting behaviour with the system package manager. It is recommended to use a virtual environment instead: https://pip.pypa.io/warnings/venv\u001b[0m\u001b[33m\n",
            "\u001b[0mLooking in indexes: https://pypi.org/simple, https://us-python.pkg.dev/colab-wheels/public/simple/\n",
            "Collecting pt-core-news-sm==3.4.0\n",
            "  Downloading https://github.com/explosion/spacy-models/releases/download/pt_core_news_sm-3.4.0/pt_core_news_sm-3.4.0-py3-none-any.whl (13.0 MB)\n",
            "\u001b[2K     \u001b[90m━━━━━━━━━━━━━━━━━━━━━━━━━━━━━━━━━━━━━━━━\u001b[0m \u001b[32m13.0/13.0 MB\u001b[0m \u001b[31m83.7 MB/s\u001b[0m eta \u001b[36m0:00:00\u001b[0m\n",
            "\u001b[?25hRequirement already satisfied: spacy<3.5.0,>=3.4.0 in /usr/local/lib/python3.7/dist-packages (from pt-core-news-sm==3.4.0) (3.4.0)\n",
            "Requirement already satisfied: typer<0.5.0,>=0.3.0 in /usr/local/lib/python3.7/dist-packages (from spacy<3.5.0,>=3.4.0->pt-core-news-sm==3.4.0) (0.4.2)\n",
            "Requirement already satisfied: murmurhash<1.1.0,>=0.28.0 in /usr/local/lib/python3.7/dist-packages (from spacy<3.5.0,>=3.4.0->pt-core-news-sm==3.4.0) (1.0.7)\n",
            "Requirement already satisfied: numpy>=1.15.0 in /usr/local/lib/python3.7/dist-packages (from spacy<3.5.0,>=3.4.0->pt-core-news-sm==3.4.0) (1.21.6)\n",
            "Requirement already satisfied: jinja2 in /usr/local/lib/python3.7/dist-packages (from spacy<3.5.0,>=3.4.0->pt-core-news-sm==3.4.0) (2.11.3)\n",
            "Requirement already satisfied: wasabi<1.1.0,>=0.9.1 in /usr/local/lib/python3.7/dist-packages (from spacy<3.5.0,>=3.4.0->pt-core-news-sm==3.4.0) (0.9.1)\n",
            "Requirement already satisfied: spacy-legacy<3.1.0,>=3.0.9 in /usr/local/lib/python3.7/dist-packages (from spacy<3.5.0,>=3.4.0->pt-core-news-sm==3.4.0) (3.0.9)\n",
            "Requirement already satisfied: srsly<3.0.0,>=2.4.3 in /usr/local/lib/python3.7/dist-packages (from spacy<3.5.0,>=3.4.0->pt-core-news-sm==3.4.0) (2.4.3)\n",
            "Requirement already satisfied: typing-extensions<4.2.0,>=3.7.4 in /usr/local/lib/python3.7/dist-packages (from spacy<3.5.0,>=3.4.0->pt-core-news-sm==3.4.0) (4.1.1)\n",
            "Requirement already satisfied: pathy>=0.3.5 in /usr/local/lib/python3.7/dist-packages (from spacy<3.5.0,>=3.4.0->pt-core-news-sm==3.4.0) (0.6.2)\n",
            "Requirement already satisfied: preshed<3.1.0,>=3.0.2 in /usr/local/lib/python3.7/dist-packages (from spacy<3.5.0,>=3.4.0->pt-core-news-sm==3.4.0) (3.0.6)\n",
            "Requirement already satisfied: requests<3.0.0,>=2.13.0 in /usr/local/lib/python3.7/dist-packages (from spacy<3.5.0,>=3.4.0->pt-core-news-sm==3.4.0) (2.23.0)\n",
            "Requirement already satisfied: catalogue<2.1.0,>=2.0.6 in /usr/local/lib/python3.7/dist-packages (from spacy<3.5.0,>=3.4.0->pt-core-news-sm==3.4.0) (2.0.7)\n",
            "Requirement already satisfied: thinc<8.2.0,>=8.1.0 in /usr/local/lib/python3.7/dist-packages (from spacy<3.5.0,>=3.4.0->pt-core-news-sm==3.4.0) (8.1.0)\n",
            "Requirement already satisfied: cymem<2.1.0,>=2.0.2 in /usr/local/lib/python3.7/dist-packages (from spacy<3.5.0,>=3.4.0->pt-core-news-sm==3.4.0) (2.0.6)\n",
            "Requirement already satisfied: langcodes<4.0.0,>=3.2.0 in /usr/local/lib/python3.7/dist-packages (from spacy<3.5.0,>=3.4.0->pt-core-news-sm==3.4.0) (3.3.0)\n",
            "Requirement already satisfied: setuptools in /usr/local/lib/python3.7/dist-packages (from spacy<3.5.0,>=3.4.0->pt-core-news-sm==3.4.0) (63.2.0)\n",
            "Requirement already satisfied: spacy-loggers<2.0.0,>=1.0.0 in /usr/local/lib/python3.7/dist-packages (from spacy<3.5.0,>=3.4.0->pt-core-news-sm==3.4.0) (1.0.2)\n",
            "Requirement already satisfied: pydantic!=1.8,!=1.8.1,<1.10.0,>=1.7.4 in /usr/local/lib/python3.7/dist-packages (from spacy<3.5.0,>=3.4.0->pt-core-news-sm==3.4.0) (1.8.2)\n",
            "Requirement already satisfied: tqdm<5.0.0,>=4.38.0 in /usr/local/lib/python3.7/dist-packages (from spacy<3.5.0,>=3.4.0->pt-core-news-sm==3.4.0) (4.64.0)\n",
            "Requirement already satisfied: packaging>=20.0 in /usr/local/lib/python3.7/dist-packages (from spacy<3.5.0,>=3.4.0->pt-core-news-sm==3.4.0) (21.3)\n",
            "Requirement already satisfied: zipp>=0.5 in /usr/local/lib/python3.7/dist-packages (from catalogue<2.1.0,>=2.0.6->spacy<3.5.0,>=3.4.0->pt-core-news-sm==3.4.0) (3.8.0)\n",
            "Requirement already satisfied: pyparsing!=3.0.5,>=2.0.2 in /usr/local/lib/python3.7/dist-packages (from packaging>=20.0->spacy<3.5.0,>=3.4.0->pt-core-news-sm==3.4.0) (3.0.9)\n",
            "Requirement already satisfied: smart-open<6.0.0,>=5.2.1 in /usr/local/lib/python3.7/dist-packages (from pathy>=0.3.5->spacy<3.5.0,>=3.4.0->pt-core-news-sm==3.4.0) (5.2.1)\n",
            "Requirement already satisfied: chardet<4,>=3.0.2 in /usr/local/lib/python3.7/dist-packages (from requests<3.0.0,>=2.13.0->spacy<3.5.0,>=3.4.0->pt-core-news-sm==3.4.0) (3.0.4)\n",
            "Requirement already satisfied: certifi>=2017.4.17 in /usr/local/lib/python3.7/dist-packages (from requests<3.0.0,>=2.13.0->spacy<3.5.0,>=3.4.0->pt-core-news-sm==3.4.0) (2022.6.15)\n",
            "Requirement already satisfied: idna<3,>=2.5 in /usr/local/lib/python3.7/dist-packages (from requests<3.0.0,>=2.13.0->spacy<3.5.0,>=3.4.0->pt-core-news-sm==3.4.0) (2.10)\n",
            "Requirement already satisfied: urllib3!=1.25.0,!=1.25.1,<1.26,>=1.21.1 in /usr/local/lib/python3.7/dist-packages (from requests<3.0.0,>=2.13.0->spacy<3.5.0,>=3.4.0->pt-core-news-sm==3.4.0) (1.24.3)\n",
            "Requirement already satisfied: blis<0.8.0,>=0.7.8 in /usr/local/lib/python3.7/dist-packages (from thinc<8.2.0,>=8.1.0->spacy<3.5.0,>=3.4.0->pt-core-news-sm==3.4.0) (0.7.8)\n",
            "Requirement already satisfied: click<9.0.0,>=7.1.1 in /usr/local/lib/python3.7/dist-packages (from typer<0.5.0,>=0.3.0->spacy<3.5.0,>=3.4.0->pt-core-news-sm==3.4.0) (7.1.2)\n",
            "Requirement already satisfied: MarkupSafe>=0.23 in /usr/local/lib/python3.7/dist-packages (from jinja2->spacy<3.5.0,>=3.4.0->pt-core-news-sm==3.4.0) (2.0.1)\n",
            "\u001b[33mWARNING: Running pip as the 'root' user can result in broken permissions and conflicting behaviour with the system package manager. It is recommended to use a virtual environment instead: https://pip.pypa.io/warnings/venv\u001b[0m\u001b[33m\n",
            "\u001b[0m\u001b[38;5;2m✔ Download and installation successful\u001b[0m\n",
            "You can now load the package via spacy.load('pt_core_news_sm')\n"
          ]
        }
      ]
    },
    {
      "cell_type": "code",
      "source": [
        "import spacy\n",
        "nlp = spacy.load('pt_core_news_sm')"
      ],
      "metadata": {
        "id": "-LHDOT2G8rnd"
      },
      "execution_count": 19,
      "outputs": []
    },
    {
      "cell_type": "code",
      "source": [
        "tweets_df['text_lemma'] = tweets_df['text_clean'].apply(lambda row: \" \".join([w.lemma_ for w in nlp(row)]))"
      ],
      "metadata": {
        "id": "Fs-RgU128uG3"
      },
      "execution_count": 20,
      "outputs": []
    },
    {
      "cell_type": "code",
      "source": [
        "tweets_df['text_lemma'] = [Preprocessing(i) for i in tweets_df['text_lemma']]\n",
        "tweets_df.head()"
      ],
      "metadata": {
        "colab": {
          "base_uri": "https://localhost:8080/",
          "height": 320
        },
        "id": "1R-VIPWq8xPf",
        "outputId": "7194cd80-cae2-4878-f8c0-2e72bfba5aeb"
      },
      "execution_count": 21,
      "outputs": [
        {
          "output_type": "execute_result",
          "data": {
            "text/plain": [
              "   sentiment  \\\n",
              "0          2   \n",
              "1          2   \n",
              "2          2   \n",
              "3          1   \n",
              "4          0   \n",
              "\n",
              "                                                                                                          text  \\\n",
              "0  que coisa linda O programa estava mostrando uma familia que adotou um adolescente de NUMBER anos que amor !   \n",
              "1                                                                     por mais com as irmãs galvão adorei elas   \n",
              "2                mr CATRA USERNAME lançando sua nova música PPK CHORA no USERNAME k k k 👅 😉 #MrCatra #PpkChora   \n",
              "3                                                quem viu aquela lutadora modela barbuda tatuada #MasterChefBR   \n",
              "4                        tô passada com esse cara quanta merda pode sair da boca de alguém em alguns minutos 😠   \n",
              "\n",
              "                                                            text_clean  \\\n",
              "0  coisa linda programa mostrando familia adotou adolescente anos amor   \n",
              "1                                                  irmãs galvão adorei   \n",
              "2       mr catra lançando nova música ppk chora k k k mrcatra ppkchora   \n",
              "3                     viu lutadora modela barbuda tatuada masterchefbr   \n",
              "4    tô passada cara quanta merda pode sair boca alguém alguns minutos   \n",
              "\n",
              "                                                         text_lemma  \n",
              "0  coisa lindo programa mostrar familia adotar adolescente ano amor  \n",
              "1                                                  irmã galvão ador  \n",
              "2     mr catra lançar novo música ppk chorar k k k mrcatra ppkchora  \n",
              "3                  ver lutadora modelar barbuda tatuar masterchefbr  \n",
              "4  tô passado cara quanto merdo poder sair boca alguém algum minuto  "
            ],
            "text/html": [
              "\n",
              "  <div id=\"df-c567caa0-c479-40e4-a8eb-cb7f7981ef2a\">\n",
              "    <div class=\"colab-df-container\">\n",
              "      <div>\n",
              "<style scoped>\n",
              "    .dataframe tbody tr th:only-of-type {\n",
              "        vertical-align: middle;\n",
              "    }\n",
              "\n",
              "    .dataframe tbody tr th {\n",
              "        vertical-align: top;\n",
              "    }\n",
              "\n",
              "    .dataframe thead th {\n",
              "        text-align: right;\n",
              "    }\n",
              "</style>\n",
              "<table border=\"1\" class=\"dataframe\">\n",
              "  <thead>\n",
              "    <tr style=\"text-align: right;\">\n",
              "      <th></th>\n",
              "      <th>sentiment</th>\n",
              "      <th>text</th>\n",
              "      <th>text_clean</th>\n",
              "      <th>text_lemma</th>\n",
              "    </tr>\n",
              "  </thead>\n",
              "  <tbody>\n",
              "    <tr>\n",
              "      <th>0</th>\n",
              "      <td>2</td>\n",
              "      <td>que coisa linda O programa estava mostrando uma familia que adotou um adolescente de NUMBER anos que amor !</td>\n",
              "      <td>coisa linda programa mostrando familia adotou adolescente anos amor</td>\n",
              "      <td>coisa lindo programa mostrar familia adotar adolescente ano amor</td>\n",
              "    </tr>\n",
              "    <tr>\n",
              "      <th>1</th>\n",
              "      <td>2</td>\n",
              "      <td>por mais com as irmãs galvão adorei elas</td>\n",
              "      <td>irmãs galvão adorei</td>\n",
              "      <td>irmã galvão ador</td>\n",
              "    </tr>\n",
              "    <tr>\n",
              "      <th>2</th>\n",
              "      <td>2</td>\n",
              "      <td>mr CATRA USERNAME lançando sua nova música PPK CHORA no USERNAME k k k 👅 😉 #MrCatra #PpkChora</td>\n",
              "      <td>mr catra lançando nova música ppk chora k k k mrcatra ppkchora</td>\n",
              "      <td>mr catra lançar novo música ppk chorar k k k mrcatra ppkchora</td>\n",
              "    </tr>\n",
              "    <tr>\n",
              "      <th>3</th>\n",
              "      <td>1</td>\n",
              "      <td>quem viu aquela lutadora modela barbuda tatuada #MasterChefBR</td>\n",
              "      <td>viu lutadora modela barbuda tatuada masterchefbr</td>\n",
              "      <td>ver lutadora modelar barbuda tatuar masterchefbr</td>\n",
              "    </tr>\n",
              "    <tr>\n",
              "      <th>4</th>\n",
              "      <td>0</td>\n",
              "      <td>tô passada com esse cara quanta merda pode sair da boca de alguém em alguns minutos 😠</td>\n",
              "      <td>tô passada cara quanta merda pode sair boca alguém alguns minutos</td>\n",
              "      <td>tô passado cara quanto merdo poder sair boca alguém algum minuto</td>\n",
              "    </tr>\n",
              "  </tbody>\n",
              "</table>\n",
              "</div>\n",
              "      <button class=\"colab-df-convert\" onclick=\"convertToInteractive('df-c567caa0-c479-40e4-a8eb-cb7f7981ef2a')\"\n",
              "              title=\"Convert this dataframe to an interactive table.\"\n",
              "              style=\"display:none;\">\n",
              "        \n",
              "  <svg xmlns=\"http://www.w3.org/2000/svg\" height=\"24px\"viewBox=\"0 0 24 24\"\n",
              "       width=\"24px\">\n",
              "    <path d=\"M0 0h24v24H0V0z\" fill=\"none\"/>\n",
              "    <path d=\"M18.56 5.44l.94 2.06.94-2.06 2.06-.94-2.06-.94-.94-2.06-.94 2.06-2.06.94zm-11 1L8.5 8.5l.94-2.06 2.06-.94-2.06-.94L8.5 2.5l-.94 2.06-2.06.94zm10 10l.94 2.06.94-2.06 2.06-.94-2.06-.94-.94-2.06-.94 2.06-2.06.94z\"/><path d=\"M17.41 7.96l-1.37-1.37c-.4-.4-.92-.59-1.43-.59-.52 0-1.04.2-1.43.59L10.3 9.45l-7.72 7.72c-.78.78-.78 2.05 0 2.83L4 21.41c.39.39.9.59 1.41.59.51 0 1.02-.2 1.41-.59l7.78-7.78 2.81-2.81c.8-.78.8-2.07 0-2.86zM5.41 20L4 18.59l7.72-7.72 1.47 1.35L5.41 20z\"/>\n",
              "  </svg>\n",
              "      </button>\n",
              "      \n",
              "  <style>\n",
              "    .colab-df-container {\n",
              "      display:flex;\n",
              "      flex-wrap:wrap;\n",
              "      gap: 12px;\n",
              "    }\n",
              "\n",
              "    .colab-df-convert {\n",
              "      background-color: #E8F0FE;\n",
              "      border: none;\n",
              "      border-radius: 50%;\n",
              "      cursor: pointer;\n",
              "      display: none;\n",
              "      fill: #1967D2;\n",
              "      height: 32px;\n",
              "      padding: 0 0 0 0;\n",
              "      width: 32px;\n",
              "    }\n",
              "\n",
              "    .colab-df-convert:hover {\n",
              "      background-color: #E2EBFA;\n",
              "      box-shadow: 0px 1px 2px rgba(60, 64, 67, 0.3), 0px 1px 3px 1px rgba(60, 64, 67, 0.15);\n",
              "      fill: #174EA6;\n",
              "    }\n",
              "\n",
              "    [theme=dark] .colab-df-convert {\n",
              "      background-color: #3B4455;\n",
              "      fill: #D2E3FC;\n",
              "    }\n",
              "\n",
              "    [theme=dark] .colab-df-convert:hover {\n",
              "      background-color: #434B5C;\n",
              "      box-shadow: 0px 1px 3px 1px rgba(0, 0, 0, 0.15);\n",
              "      filter: drop-shadow(0px 1px 2px rgba(0, 0, 0, 0.3));\n",
              "      fill: #FFFFFF;\n",
              "    }\n",
              "  </style>\n",
              "\n",
              "      <script>\n",
              "        const buttonEl =\n",
              "          document.querySelector('#df-c567caa0-c479-40e4-a8eb-cb7f7981ef2a button.colab-df-convert');\n",
              "        buttonEl.style.display =\n",
              "          google.colab.kernel.accessAllowed ? 'block' : 'none';\n",
              "\n",
              "        async function convertToInteractive(key) {\n",
              "          const element = document.querySelector('#df-c567caa0-c479-40e4-a8eb-cb7f7981ef2a');\n",
              "          const dataTable =\n",
              "            await google.colab.kernel.invokeFunction('convertToInteractive',\n",
              "                                                     [key], {});\n",
              "          if (!dataTable) return;\n",
              "\n",
              "          const docLinkHtml = 'Like what you see? Visit the ' +\n",
              "            '<a target=\"_blank\" href=https://colab.research.google.com/notebooks/data_table.ipynb>data table notebook</a>'\n",
              "            + ' to learn more about interactive tables.';\n",
              "          element.innerHTML = '';\n",
              "          dataTable['output_type'] = 'display_data';\n",
              "          await google.colab.output.renderOutput(dataTable, element);\n",
              "          const docLink = document.createElement('div');\n",
              "          docLink.innerHTML = docLinkHtml;\n",
              "          element.appendChild(docLink);\n",
              "        }\n",
              "      </script>\n",
              "    </div>\n",
              "  </div>\n",
              "  "
            ]
          },
          "metadata": {},
          "execution_count": 21
        }
      ]
    },
    {
      "cell_type": "markdown",
      "source": [
        "## Lematização (outra forma)"
      ],
      "metadata": {
        "id": "FNmIE2nn816y"
      }
    },
    {
      "cell_type": "code",
      "source": [
        "!pip install simplemma"
      ],
      "metadata": {
        "colab": {
          "base_uri": "https://localhost:8080/"
        },
        "id": "eUB51VCh81R9",
        "outputId": "bc4a54e0-36da-4846-b2e3-c6e0af6847fb"
      },
      "execution_count": 22,
      "outputs": [
        {
          "output_type": "stream",
          "name": "stdout",
          "text": [
            "Looking in indexes: https://pypi.org/simple, https://us-python.pkg.dev/colab-wheels/public/simple/\n",
            "Requirement already satisfied: simplemma in /usr/local/lib/python3.7/dist-packages (0.7.0)\n",
            "\u001b[33mWARNING: Running pip as the 'root' user can result in broken permissions and conflicting behaviour with the system package manager. It is recommended to use a virtual environment instead: https://pip.pypa.io/warnings/venv\u001b[0m\u001b[33m\n",
            "\u001b[0m"
          ]
        }
      ]
    },
    {
      "cell_type": "code",
      "source": [
        "import simplemma\n",
        "from simplemma import text_lemmatizer"
      ],
      "metadata": {
        "id": "rSWhDM4888XH"
      },
      "execution_count": 23,
      "outputs": []
    },
    {
      "cell_type": "code",
      "source": [
        "# teste\n",
        "teste_lemma = text_lemmatizer('Sou o intervalo entre o que desejo ser e os outros me fizeram.', lang='pt')\n",
        "teste_lemma"
      ],
      "metadata": {
        "colab": {
          "base_uri": "https://localhost:8080/"
        },
        "id": "fh_5ppBj8_OZ",
        "outputId": "7362d369-d99c-414f-b756-fc8af431013a"
      },
      "execution_count": 24,
      "outputs": [
        {
          "output_type": "execute_result",
          "data": {
            "text/plain": [
              "['ser',\n",
              " 'o',\n",
              " 'intervalo',\n",
              " 'entre',\n",
              " 'o',\n",
              " 'que',\n",
              " 'desejo',\n",
              " 'ser',\n",
              " 'e',\n",
              " 'o',\n",
              " 'outro',\n",
              " 'me',\n",
              " 'fazer',\n",
              " '.']"
            ]
          },
          "metadata": {},
          "execution_count": 24
        }
      ]
    },
    {
      "cell_type": "code",
      "source": [
        "tweets_df['text_lemma_2'] = [text_lemmatizer(linha, lang='pt') for linha in tweets_df['text_clean']] #lematizando o texto\n",
        "tweets_df['text_lemma_2'] = [' '.join(palavra) for palavra in tweets_df['text_lemma_2']] #juntando o texto novamente\n",
        "tweets_df.head()"
      ],
      "metadata": {
        "colab": {
          "base_uri": "https://localhost:8080/",
          "height": 320
        },
        "id": "qfqa_smF9Bvv",
        "outputId": "80e911c7-8a56-43a7-ee2a-e90e43d751cb"
      },
      "execution_count": 25,
      "outputs": [
        {
          "output_type": "execute_result",
          "data": {
            "text/plain": [
              "   sentiment  \\\n",
              "0          2   \n",
              "1          2   \n",
              "2          2   \n",
              "3          1   \n",
              "4          0   \n",
              "\n",
              "                                                                                                          text  \\\n",
              "0  que coisa linda O programa estava mostrando uma familia que adotou um adolescente de NUMBER anos que amor !   \n",
              "1                                                                     por mais com as irmãs galvão adorei elas   \n",
              "2                mr CATRA USERNAME lançando sua nova música PPK CHORA no USERNAME k k k 👅 😉 #MrCatra #PpkChora   \n",
              "3                                                quem viu aquela lutadora modela barbuda tatuada #MasterChefBR   \n",
              "4                        tô passada com esse cara quanta merda pode sair da boca de alguém em alguns minutos 😠   \n",
              "\n",
              "                                                            text_clean  \\\n",
              "0  coisa linda programa mostrando familia adotou adolescente anos amor   \n",
              "1                                                  irmãs galvão adorei   \n",
              "2       mr catra lançando nova música ppk chora k k k mrcatra ppkchora   \n",
              "3                     viu lutadora modela barbuda tatuada masterchefbr   \n",
              "4    tô passada cara quanta merda pode sair boca alguém alguns minutos   \n",
              "\n",
              "                                                         text_lemma  \\\n",
              "0  coisa lindo programa mostrar familia adotar adolescente ano amor   \n",
              "1                                                  irmã galvão ador   \n",
              "2     mr catra lançar novo música ppk chorar k k k mrcatra ppkchora   \n",
              "3                  ver lutadora modelar barbuda tatuar masterchefbr   \n",
              "4  tô passado cara quanto merdo poder sair boca alguém algum minuto   \n",
              "\n",
              "                                                          text_lemma_2  \n",
              "0  coisar lindar programar mostrar familia adotar adolescente ano amor  \n",
              "1                                                  irmão galvão adorar  \n",
              "2        mr catra lançar novo músico ppk chorar k k k mrcatra ppkchora  \n",
              "3                     ver lutador modelar barbudo tatuado masterchefbr  \n",
              "4    tô passado caro quanto merda poder sair bocar alguém algum minuto  "
            ],
            "text/html": [
              "\n",
              "  <div id=\"df-43f348af-448a-48c2-8e7b-1d406d6c6d9b\">\n",
              "    <div class=\"colab-df-container\">\n",
              "      <div>\n",
              "<style scoped>\n",
              "    .dataframe tbody tr th:only-of-type {\n",
              "        vertical-align: middle;\n",
              "    }\n",
              "\n",
              "    .dataframe tbody tr th {\n",
              "        vertical-align: top;\n",
              "    }\n",
              "\n",
              "    .dataframe thead th {\n",
              "        text-align: right;\n",
              "    }\n",
              "</style>\n",
              "<table border=\"1\" class=\"dataframe\">\n",
              "  <thead>\n",
              "    <tr style=\"text-align: right;\">\n",
              "      <th></th>\n",
              "      <th>sentiment</th>\n",
              "      <th>text</th>\n",
              "      <th>text_clean</th>\n",
              "      <th>text_lemma</th>\n",
              "      <th>text_lemma_2</th>\n",
              "    </tr>\n",
              "  </thead>\n",
              "  <tbody>\n",
              "    <tr>\n",
              "      <th>0</th>\n",
              "      <td>2</td>\n",
              "      <td>que coisa linda O programa estava mostrando uma familia que adotou um adolescente de NUMBER anos que amor !</td>\n",
              "      <td>coisa linda programa mostrando familia adotou adolescente anos amor</td>\n",
              "      <td>coisa lindo programa mostrar familia adotar adolescente ano amor</td>\n",
              "      <td>coisar lindar programar mostrar familia adotar adolescente ano amor</td>\n",
              "    </tr>\n",
              "    <tr>\n",
              "      <th>1</th>\n",
              "      <td>2</td>\n",
              "      <td>por mais com as irmãs galvão adorei elas</td>\n",
              "      <td>irmãs galvão adorei</td>\n",
              "      <td>irmã galvão ador</td>\n",
              "      <td>irmão galvão adorar</td>\n",
              "    </tr>\n",
              "    <tr>\n",
              "      <th>2</th>\n",
              "      <td>2</td>\n",
              "      <td>mr CATRA USERNAME lançando sua nova música PPK CHORA no USERNAME k k k 👅 😉 #MrCatra #PpkChora</td>\n",
              "      <td>mr catra lançando nova música ppk chora k k k mrcatra ppkchora</td>\n",
              "      <td>mr catra lançar novo música ppk chorar k k k mrcatra ppkchora</td>\n",
              "      <td>mr catra lançar novo músico ppk chorar k k k mrcatra ppkchora</td>\n",
              "    </tr>\n",
              "    <tr>\n",
              "      <th>3</th>\n",
              "      <td>1</td>\n",
              "      <td>quem viu aquela lutadora modela barbuda tatuada #MasterChefBR</td>\n",
              "      <td>viu lutadora modela barbuda tatuada masterchefbr</td>\n",
              "      <td>ver lutadora modelar barbuda tatuar masterchefbr</td>\n",
              "      <td>ver lutador modelar barbudo tatuado masterchefbr</td>\n",
              "    </tr>\n",
              "    <tr>\n",
              "      <th>4</th>\n",
              "      <td>0</td>\n",
              "      <td>tô passada com esse cara quanta merda pode sair da boca de alguém em alguns minutos 😠</td>\n",
              "      <td>tô passada cara quanta merda pode sair boca alguém alguns minutos</td>\n",
              "      <td>tô passado cara quanto merdo poder sair boca alguém algum minuto</td>\n",
              "      <td>tô passado caro quanto merda poder sair bocar alguém algum minuto</td>\n",
              "    </tr>\n",
              "  </tbody>\n",
              "</table>\n",
              "</div>\n",
              "      <button class=\"colab-df-convert\" onclick=\"convertToInteractive('df-43f348af-448a-48c2-8e7b-1d406d6c6d9b')\"\n",
              "              title=\"Convert this dataframe to an interactive table.\"\n",
              "              style=\"display:none;\">\n",
              "        \n",
              "  <svg xmlns=\"http://www.w3.org/2000/svg\" height=\"24px\"viewBox=\"0 0 24 24\"\n",
              "       width=\"24px\">\n",
              "    <path d=\"M0 0h24v24H0V0z\" fill=\"none\"/>\n",
              "    <path d=\"M18.56 5.44l.94 2.06.94-2.06 2.06-.94-2.06-.94-.94-2.06-.94 2.06-2.06.94zm-11 1L8.5 8.5l.94-2.06 2.06-.94-2.06-.94L8.5 2.5l-.94 2.06-2.06.94zm10 10l.94 2.06.94-2.06 2.06-.94-2.06-.94-.94-2.06-.94 2.06-2.06.94z\"/><path d=\"M17.41 7.96l-1.37-1.37c-.4-.4-.92-.59-1.43-.59-.52 0-1.04.2-1.43.59L10.3 9.45l-7.72 7.72c-.78.78-.78 2.05 0 2.83L4 21.41c.39.39.9.59 1.41.59.51 0 1.02-.2 1.41-.59l7.78-7.78 2.81-2.81c.8-.78.8-2.07 0-2.86zM5.41 20L4 18.59l7.72-7.72 1.47 1.35L5.41 20z\"/>\n",
              "  </svg>\n",
              "      </button>\n",
              "      \n",
              "  <style>\n",
              "    .colab-df-container {\n",
              "      display:flex;\n",
              "      flex-wrap:wrap;\n",
              "      gap: 12px;\n",
              "    }\n",
              "\n",
              "    .colab-df-convert {\n",
              "      background-color: #E8F0FE;\n",
              "      border: none;\n",
              "      border-radius: 50%;\n",
              "      cursor: pointer;\n",
              "      display: none;\n",
              "      fill: #1967D2;\n",
              "      height: 32px;\n",
              "      padding: 0 0 0 0;\n",
              "      width: 32px;\n",
              "    }\n",
              "\n",
              "    .colab-df-convert:hover {\n",
              "      background-color: #E2EBFA;\n",
              "      box-shadow: 0px 1px 2px rgba(60, 64, 67, 0.3), 0px 1px 3px 1px rgba(60, 64, 67, 0.15);\n",
              "      fill: #174EA6;\n",
              "    }\n",
              "\n",
              "    [theme=dark] .colab-df-convert {\n",
              "      background-color: #3B4455;\n",
              "      fill: #D2E3FC;\n",
              "    }\n",
              "\n",
              "    [theme=dark] .colab-df-convert:hover {\n",
              "      background-color: #434B5C;\n",
              "      box-shadow: 0px 1px 3px 1px rgba(0, 0, 0, 0.15);\n",
              "      filter: drop-shadow(0px 1px 2px rgba(0, 0, 0, 0.3));\n",
              "      fill: #FFFFFF;\n",
              "    }\n",
              "  </style>\n",
              "\n",
              "      <script>\n",
              "        const buttonEl =\n",
              "          document.querySelector('#df-43f348af-448a-48c2-8e7b-1d406d6c6d9b button.colab-df-convert');\n",
              "        buttonEl.style.display =\n",
              "          google.colab.kernel.accessAllowed ? 'block' : 'none';\n",
              "\n",
              "        async function convertToInteractive(key) {\n",
              "          const element = document.querySelector('#df-43f348af-448a-48c2-8e7b-1d406d6c6d9b');\n",
              "          const dataTable =\n",
              "            await google.colab.kernel.invokeFunction('convertToInteractive',\n",
              "                                                     [key], {});\n",
              "          if (!dataTable) return;\n",
              "\n",
              "          const docLinkHtml = 'Like what you see? Visit the ' +\n",
              "            '<a target=\"_blank\" href=https://colab.research.google.com/notebooks/data_table.ipynb>data table notebook</a>'\n",
              "            + ' to learn more about interactive tables.';\n",
              "          element.innerHTML = '';\n",
              "          dataTable['output_type'] = 'display_data';\n",
              "          await google.colab.output.renderOutput(dataTable, element);\n",
              "          const docLink = document.createElement('div');\n",
              "          docLink.innerHTML = docLinkHtml;\n",
              "          element.appendChild(docLink);\n",
              "        }\n",
              "      </script>\n",
              "    </div>\n",
              "  </div>\n",
              "  "
            ]
          },
          "metadata": {},
          "execution_count": 25
        }
      ]
    },
    {
      "cell_type": "code",
      "execution_count": 26,
      "metadata": {
        "id": "4qDgmHl4RYIn"
      },
      "outputs": [],
      "source": [
        "text = tweets_df['text_lemma_2']\n",
        "\n",
        "sentiment = tweets_df['sentiment']\n",
        "\n",
        "# salvando em um dicionário\n",
        "data = [{ 'X': text, 'y': sentiment} for (text, sentiment) in zip(text, sentiment)] "
      ]
    },
    {
      "cell_type": "markdown",
      "metadata": {
        "id": "JCESPgia65w3"
      },
      "source": [
        "Separando os dados em conjunto de treino e teste"
      ]
    },
    {
      "cell_type": "code",
      "execution_count": 27,
      "metadata": {
        "colab": {
          "base_uri": "https://localhost:8080/"
        },
        "id": "LEvPIvcX65R7",
        "outputId": "ec624c87-c265-4efa-e715-d822ed2c5b21"
      },
      "outputs": [
        {
          "output_type": "execute_result",
          "data": {
            "text/plain": [
              "(12000, 3000)"
            ]
          },
          "metadata": {},
          "execution_count": 27
        }
      ],
      "source": [
        "size = int(len(data) * 0.2)\n",
        "treino = data[size:]\n",
        "teste = data[:size]\n",
        "\n",
        "len(treino), len(teste)"
      ]
    },
    {
      "cell_type": "markdown",
      "metadata": {
        "id": "aaORU_4_8uA6"
      },
      "source": [
        "Importando as dependências. Perceba que o tokenizador e modelo de classificação do BERTimbau são instanciados com os métodos `AutoTokenizer` e `AutoModelForSequenceClassification`. \n",
        "\n",
        "Para mais informações, consulte [este link](https://github.com/neuralmind-ai/portuguese-bert)."
      ]
    },
    {
      "cell_type": "code",
      "source": [
        "!pip install transformers"
      ],
      "metadata": {
        "colab": {
          "base_uri": "https://localhost:8080/"
        },
        "id": "85K8tVznEWGv",
        "outputId": "76f2ac93-ba08-4e92-de05-b5858c6441e0"
      },
      "execution_count": 28,
      "outputs": [
        {
          "output_type": "stream",
          "name": "stdout",
          "text": [
            "Looking in indexes: https://pypi.org/simple, https://us-python.pkg.dev/colab-wheels/public/simple/\n",
            "Requirement already satisfied: transformers in /usr/local/lib/python3.7/dist-packages (4.20.1)\n",
            "Requirement already satisfied: filelock in /usr/local/lib/python3.7/dist-packages (from transformers) (3.7.1)\n",
            "Requirement already satisfied: tqdm>=4.27 in /usr/local/lib/python3.7/dist-packages (from transformers) (4.64.0)\n",
            "Requirement already satisfied: numpy>=1.17 in /usr/local/lib/python3.7/dist-packages (from transformers) (1.21.6)\n",
            "Requirement already satisfied: packaging>=20.0 in /usr/local/lib/python3.7/dist-packages (from transformers) (21.3)\n",
            "Requirement already satisfied: pyyaml>=5.1 in /usr/local/lib/python3.7/dist-packages (from transformers) (6.0)\n",
            "Requirement already satisfied: tokenizers!=0.11.3,<0.13,>=0.11.1 in /usr/local/lib/python3.7/dist-packages (from transformers) (0.12.1)\n",
            "Requirement already satisfied: importlib-metadata in /usr/local/lib/python3.7/dist-packages (from transformers) (4.12.0)\n",
            "Requirement already satisfied: regex!=2019.12.17 in /usr/local/lib/python3.7/dist-packages (from transformers) (2022.6.2)\n",
            "Requirement already satisfied: requests in /usr/local/lib/python3.7/dist-packages (from transformers) (2.23.0)\n",
            "Requirement already satisfied: huggingface-hub<1.0,>=0.1.0 in /usr/local/lib/python3.7/dist-packages (from transformers) (0.8.1)\n",
            "Requirement already satisfied: typing-extensions>=3.7.4.3 in /usr/local/lib/python3.7/dist-packages (from huggingface-hub<1.0,>=0.1.0->transformers) (4.1.1)\n",
            "Requirement already satisfied: pyparsing!=3.0.5,>=2.0.2 in /usr/local/lib/python3.7/dist-packages (from packaging>=20.0->transformers) (3.0.9)\n",
            "Requirement already satisfied: zipp>=0.5 in /usr/local/lib/python3.7/dist-packages (from importlib-metadata->transformers) (3.8.0)\n",
            "Requirement already satisfied: certifi>=2017.4.17 in /usr/local/lib/python3.7/dist-packages (from requests->transformers) (2022.6.15)\n",
            "Requirement already satisfied: chardet<4,>=3.0.2 in /usr/local/lib/python3.7/dist-packages (from requests->transformers) (3.0.4)\n",
            "Requirement already satisfied: idna<3,>=2.5 in /usr/local/lib/python3.7/dist-packages (from requests->transformers) (2.10)\n",
            "Requirement already satisfied: urllib3!=1.25.0,!=1.25.1,<1.26,>=1.21.1 in /usr/local/lib/python3.7/dist-packages (from requests->transformers) (1.24.3)\n",
            "\u001b[33mWARNING: Running pip as the 'root' user can result in broken permissions and conflicting behaviour with the system package manager. It is recommended to use a virtual environment instead: https://pip.pypa.io/warnings/venv\u001b[0m\u001b[33m\n",
            "\u001b[0m"
          ]
        }
      ]
    },
    {
      "cell_type": "code",
      "execution_count": 29,
      "metadata": {
        "id": "D63q9uHS8tQa"
      },
      "outputs": [],
      "source": [
        "import os\n",
        "import torch\n",
        "import torch.nn as nn\n",
        "from torch import optim\n",
        "from transformers import AutoTokenizer, AutoModelForSequenceClassification\n",
        "from sklearn.metrics import accuracy_score, f1_score, classification_report"
      ]
    },
    {
      "cell_type": "markdown",
      "source": [
        "### Escolhendo o tamanho da sequência\n",
        "\n",
        "O BERT trabalha com sequências de comprimento fixo. Usaremos uma estratégia simples para escolher o comprimento máximo. Vamos armazenar o tamanho do token de cada avaliação:"
      ],
      "metadata": {
        "id": "BqhTjLyQ9Jor"
      }
    },
    {
      "cell_type": "code",
      "source": [
        "tokenizer = AutoTokenizer.from_pretrained('neuralmind/bert-base-portuguese-cased', do_lower_case=False)\n",
        "\n",
        "token_lens = []\n",
        "\n",
        "for txt in tweets_df['text_lemma_2']:\n",
        "  tokens = tokenizer.encode(txt, max_length=512)\n",
        "  token_lens.append(len(tokens))"
      ],
      "metadata": {
        "colab": {
          "base_uri": "https://localhost:8080/"
        },
        "id": "X0ucKGAC88EM",
        "outputId": "3cb4e3f3-2b5f-4e2c-9948-0207949bc766"
      },
      "execution_count": 30,
      "outputs": [
        {
          "output_type": "stream",
          "name": "stderr",
          "text": [
            "Truncation was not explicitly activated but `max_length` is provided a specific value, please use `truncation=True` to explicitly truncate examples to max length. Defaulting to 'longest_first' truncation strategy. If you encode pairs of sequences (GLUE-style) with the tokenizer you can select this strategy more precisely by providing a specific strategy to `truncation`.\n"
          ]
        }
      ]
    },
    {
      "cell_type": "code",
      "source": [
        "max(token_lens)"
      ],
      "metadata": {
        "colab": {
          "base_uri": "https://localhost:8080/"
        },
        "id": "9j4oRRnc-5GB",
        "outputId": "4478c23a-c396-45aa-8c1f-b052d13b807c"
      },
      "execution_count": 31,
      "outputs": [
        {
          "output_type": "execute_result",
          "data": {
            "text/plain": [
              "45"
            ]
          },
          "metadata": {},
          "execution_count": 31
        }
      ]
    },
    {
      "cell_type": "markdown",
      "source": [
        "Plotando a distribuição"
      ],
      "metadata": {
        "id": "s9xaeLrs-Kl2"
      }
    },
    {
      "cell_type": "code",
      "source": [
        "%matplotlib inline\n",
        "%config InlineBackend.figure_format='retina'\n",
        "\n",
        "plt.figure(figsize=(10, 5), dpi=100) #10,5\n",
        "sns.displot(data=token_lens, kde=True)\n",
        "plt.xlim([0, 60])\n",
        "plt.xlabel('Token count');"
      ],
      "metadata": {
        "colab": {
          "base_uri": "https://localhost:8080/",
          "height": 399
        },
        "id": "k7nkmeao8uIz",
        "outputId": "600b2550-db33-4b1c-c6f1-7ed39e9061c9"
      },
      "execution_count": 32,
      "outputs": [
        {
          "output_type": "display_data",
          "data": {
            "text/plain": [
              "<Figure size 1000x500 with 0 Axes>"
            ]
          },
          "metadata": {}
        },
        {
          "output_type": "display_data",
          "data": {
            "text/plain": [
              "<Figure size 360x360 with 1 Axes>"
            ],
            "image/png": "[encoded data removed]"
          },
          "metadata": {
            "image/png": {
              "width": 359,
              "height": 365
            },
            "needs_background": "light"
          }
        }
      ]
    },
    {
      "cell_type": "markdown",
      "source": [
        "O max length ficou igual a 45 (depois da lematização)"
      ],
      "metadata": {
        "id": "4IvIo67_ABRU"
      }
    },
    {
      "cell_type": "markdown",
      "metadata": {
        "id": "meNknNLN9S84"
      },
      "source": [
        "Instanciando parâmetros da rede neural"
      ]
    },
    {
      "cell_type": "code",
      "source": [
        "device = torch.device('cuda' if torch.cuda.is_available() else 'cpu')\n",
        "nclasses = 3\n",
        "nepochs = 4\n",
        "batch_size = 8\n",
        "batch_status = 32\n",
        "learning_rate = 2e-5\n",
        "early_stop = 2\n",
        "\n",
        "max_length = 128\n",
        "write_path = 'model'"
      ],
      "metadata": {
        "id": "Yf62BH_5aLHw"
      },
      "execution_count": 33,
      "outputs": []
    },
    {
      "cell_type": "markdown",
      "metadata": {
        "id": "453hnpIY9dZy"
      },
      "source": [
        "Separando os dados em batches"
      ]
    },
    {
      "cell_type": "code",
      "execution_count": 34,
      "metadata": {
        "id": "080A6una9gA2"
      },
      "outputs": [],
      "source": [
        "from torch.utils.data import DataLoader\n",
        "\n",
        "traindata = DataLoader(treino, batch_size=batch_size, shuffle=True)\n",
        "testdata = DataLoader(teste, batch_size=batch_size, shuffle=True)"
      ]
    },
    {
      "cell_type": "markdown",
      "metadata": {
        "id": "_Bipocm69o1n"
      },
      "source": [
        "Inicilizando tokenizador, modelo, função de erro e otimizador:"
      ]
    },
    {
      "cell_type": "code",
      "execution_count": 35,
      "metadata": {
        "id": "ny_tixSr9rDT",
        "colab": {
          "base_uri": "https://localhost:8080/"
        },
        "outputId": "45de1cd4-e599-4330-d55d-f12fe3a96daf"
      },
      "outputs": [
        {
          "output_type": "stream",
          "name": "stderr",
          "text": [
            "Some weights of the model checkpoint at neuralmind/bert-base-portuguese-cased were not used when initializing BertForSequenceClassification: ['cls.predictions.bias', 'cls.predictions.decoder.weight', 'cls.predictions.transform.LayerNorm.bias', 'cls.predictions.transform.dense.weight', 'cls.predictions.transform.LayerNorm.weight', 'cls.predictions.transform.dense.bias', 'cls.seq_relationship.weight', 'cls.seq_relationship.bias']\n",
            "- This IS expected if you are initializing BertForSequenceClassification from the checkpoint of a model trained on another task or with another architecture (e.g. initializing a BertForSequenceClassification model from a BertForPreTraining model).\n",
            "- This IS NOT expected if you are initializing BertForSequenceClassification from the checkpoint of a model that you expect to be exactly identical (initializing a BertForSequenceClassification model from a BertForSequenceClassification model).\n",
            "Some weights of BertForSequenceClassification were not initialized from the model checkpoint at neuralmind/bert-base-portuguese-cased and are newly initialized: ['classifier.weight', 'classifier.bias']\n",
            "You should probably TRAIN this model on a down-stream task to be able to use it for predictions and inference.\n"
          ]
        }
      ],
      "source": [
        "# instanciando o tokenizador e o modelo\n",
        "tokenizer = AutoTokenizer.from_pretrained('neuralmind/bert-base-portuguese-cased', do_lower_case=False)\n",
        "model = AutoModelForSequenceClassification.from_pretrained('neuralmind/bert-base-portuguese-cased', num_labels=nclasses).to(device)\n",
        "\n",
        "optimizer = optim.AdamW(model.parameters(), lr=learning_rate)"
      ]
    },
    {
      "cell_type": "markdown",
      "metadata": {
        "id": "cCg2LD2D963l"
      },
      "source": [
        "Definindo método de avaliação"
      ]
    },
    {
      "cell_type": "code",
      "execution_count": 36,
      "metadata": {
        "id": "NLi_crXN993u"
      },
      "outputs": [],
      "source": [
        "def evaluate(model, testdata):\n",
        "  model.eval()\n",
        "  y_real, y_pred = [], []\n",
        "  for batch_idx, inp in enumerate(testdata):\n",
        "    texts, labels = inp['X'], inp['y']\n",
        "    \n",
        "    # classifying\n",
        "    inputs = tokenizer(texts, return_tensors='pt', padding=True, truncation=True, max_length=max_length).to(device)\n",
        "    output = model(**inputs)\n",
        "                \n",
        "    pred_labels = torch.argmax(output.logits, 1)\n",
        "    \n",
        "    y_real.extend(labels.tolist())\n",
        "    y_pred.extend(pred_labels.tolist())\n",
        "    \n",
        "    if (batch_idx+1) % batch_status == 0:\n",
        "      print('Progress:', round(batch_idx / len(testdata), 2), batch_idx)\n",
        "  \n",
        "  print(classification_report(y_real, y_pred, labels=[0, 1, 2], target_names=['Negative', 'Neural', 'Positive']))\n",
        "  f1 = f1_score(y_real, y_pred, average='weighted')\n",
        "  acc = accuracy_score(y_real, y_pred)\n",
        "  return f1, acc"
      ]
    },
    {
      "cell_type": "markdown",
      "metadata": {
        "id": "FP2UYbYd-BmL"
      },
      "source": [
        "Treinamento"
      ]
    },
    {
      "cell_type": "code",
      "execution_count": 37,
      "metadata": {
        "id": "oXq1TCZ8-FYR",
        "colab": {
          "base_uri": "https://localhost:8080/"
        },
        "outputId": "0e3e922b-9b6b-4e70-9efc-fc2e2bd69541"
      },
      "outputs": [
        {
          "output_type": "stream",
          "name": "stdout",
          "text": [
            "Progress: 0.08 31\n",
            "Progress: 0.17 63\n",
            "Progress: 0.25 95\n",
            "Progress: 0.34 127\n",
            "Progress: 0.42 159\n",
            "Progress: 0.51 191\n",
            "Progress: 0.59 223\n",
            "Progress: 0.68 255\n",
            "Progress: 0.77 287\n",
            "Progress: 0.85 319\n",
            "Progress: 0.94 351\n",
            "              precision    recall  f1-score   support\n",
            "\n",
            "    Negative       0.55      0.01      0.02       920\n",
            "      Neural       0.24      0.09      0.13       620\n",
            "    Positive       0.49      0.92      0.64      1460\n",
            "\n",
            "    accuracy                           0.47      3000\n",
            "   macro avg       0.43      0.34      0.27      3000\n",
            "weighted avg       0.46      0.47      0.35      3000\n",
            "\n",
            "Train Epoch: 0 [32/1500 (2%)]\tLoss: 1.115900\tTotal Loss: 1.077520\n",
            "Train Epoch: 0 [64/1500 (4%)]\tLoss: 0.946315\tTotal Loss: 1.029780\n",
            "Train Epoch: 0 [96/1500 (6%)]\tLoss: 0.877340\tTotal Loss: 0.982270\n",
            "Train Epoch: 0 [128/1500 (8%)]\tLoss: 1.094980\tTotal Loss: 0.962610\n",
            "Train Epoch: 0 [160/1500 (11%)]\tLoss: 0.486435\tTotal Loss: 0.936660\n",
            "Train Epoch: 0 [192/1500 (13%)]\tLoss: 0.751967\tTotal Loss: 0.910670\n",
            "Train Epoch: 0 [224/1500 (15%)]\tLoss: 0.668451\tTotal Loss: 0.902010\n",
            "Train Epoch: 0 [256/1500 (17%)]\tLoss: 0.672711\tTotal Loss: 0.895150\n",
            "Train Epoch: 0 [288/1500 (19%)]\tLoss: 0.523314\tTotal Loss: 0.882100\n",
            "Train Epoch: 0 [320/1500 (21%)]\tLoss: 0.631633\tTotal Loss: 0.874980\n",
            "Train Epoch: 0 [352/1500 (23%)]\tLoss: 1.235299\tTotal Loss: 0.868110\n",
            "Train Epoch: 0 [384/1500 (26%)]\tLoss: 1.034128\tTotal Loss: 0.858110\n",
            "Train Epoch: 0 [416/1500 (28%)]\tLoss: 0.955845\tTotal Loss: 0.854460\n",
            "Train Epoch: 0 [448/1500 (30%)]\tLoss: 0.426383\tTotal Loss: 0.850520\n",
            "Train Epoch: 0 [480/1500 (32%)]\tLoss: 0.800626\tTotal Loss: 0.845300\n",
            "Train Epoch: 0 [512/1500 (34%)]\tLoss: 0.974795\tTotal Loss: 0.844930\n",
            "Train Epoch: 0 [544/1500 (36%)]\tLoss: 0.983150\tTotal Loss: 0.841660\n",
            "Train Epoch: 0 [576/1500 (38%)]\tLoss: 0.540319\tTotal Loss: 0.842770\n",
            "Train Epoch: 0 [608/1500 (40%)]\tLoss: 0.793847\tTotal Loss: 0.839510\n",
            "Train Epoch: 0 [640/1500 (43%)]\tLoss: 0.826657\tTotal Loss: 0.830360\n",
            "Train Epoch: 0 [672/1500 (45%)]\tLoss: 0.510972\tTotal Loss: 0.830430\n",
            "Train Epoch: 0 [704/1500 (47%)]\tLoss: 0.604985\tTotal Loss: 0.828180\n",
            "Train Epoch: 0 [736/1500 (49%)]\tLoss: 0.530070\tTotal Loss: 0.826280\n",
            "Train Epoch: 0 [768/1500 (51%)]\tLoss: 0.698699\tTotal Loss: 0.826310\n",
            "Train Epoch: 0 [800/1500 (53%)]\tLoss: 0.786533\tTotal Loss: 0.826410\n",
            "Train Epoch: 0 [832/1500 (55%)]\tLoss: 0.813082\tTotal Loss: 0.824420\n",
            "Train Epoch: 0 [864/1500 (58%)]\tLoss: 0.984753\tTotal Loss: 0.822990\n",
            "Train Epoch: 0 [896/1500 (60%)]\tLoss: 0.797127\tTotal Loss: 0.823300\n",
            "Train Epoch: 0 [928/1500 (62%)]\tLoss: 1.154187\tTotal Loss: 0.821940\n",
            "Train Epoch: 0 [960/1500 (64%)]\tLoss: 0.612656\tTotal Loss: 0.818620\n",
            "Train Epoch: 0 [992/1500 (66%)]\tLoss: 0.340916\tTotal Loss: 0.815050\n",
            "Train Epoch: 0 [1024/1500 (68%)]\tLoss: 0.825670\tTotal Loss: 0.812910\n",
            "Train Epoch: 0 [1056/1500 (70%)]\tLoss: 0.933843\tTotal Loss: 0.812300\n",
            "Train Epoch: 0 [1088/1500 (72%)]\tLoss: 1.009443\tTotal Loss: 0.809600\n",
            "Train Epoch: 0 [1120/1500 (75%)]\tLoss: 0.830919\tTotal Loss: 0.809830\n",
            "Train Epoch: 0 [1152/1500 (77%)]\tLoss: 0.689580\tTotal Loss: 0.810700\n",
            "Train Epoch: 0 [1184/1500 (79%)]\tLoss: 0.753180\tTotal Loss: 0.809080\n",
            "Train Epoch: 0 [1216/1500 (81%)]\tLoss: 1.048363\tTotal Loss: 0.806990\n",
            "Train Epoch: 0 [1248/1500 (83%)]\tLoss: 0.612168\tTotal Loss: 0.806620\n",
            "Train Epoch: 0 [1280/1500 (85%)]\tLoss: 0.903563\tTotal Loss: 0.805080\n",
            "Train Epoch: 0 [1312/1500 (87%)]\tLoss: 0.529446\tTotal Loss: 0.803940\n",
            "Train Epoch: 0 [1344/1500 (90%)]\tLoss: 0.763932\tTotal Loss: 0.802490\n",
            "Train Epoch: 0 [1376/1500 (92%)]\tLoss: 0.989473\tTotal Loss: 0.804370\n",
            "Train Epoch: 0 [1408/1500 (94%)]\tLoss: 0.812183\tTotal Loss: 0.803590\n",
            "Train Epoch: 0 [1440/1500 (96%)]\tLoss: 0.986734\tTotal Loss: 0.802470\n",
            "Train Epoch: 0 [1472/1500 (98%)]\tLoss: 0.890248\tTotal Loss: 0.799760\n",
            "Progress: 0.08 31\n",
            "Progress: 0.17 63\n",
            "Progress: 0.25 95\n",
            "Progress: 0.34 127\n",
            "Progress: 0.42 159\n",
            "Progress: 0.51 191\n",
            "Progress: 0.59 223\n",
            "Progress: 0.68 255\n",
            "Progress: 0.77 287\n",
            "Progress: 0.85 319\n",
            "Progress: 0.94 351\n",
            "              precision    recall  f1-score   support\n",
            "\n",
            "    Negative       0.64      0.71      0.67       920\n",
            "      Neural       0.40      0.60      0.48       620\n",
            "    Positive       0.85      0.61      0.71      1460\n",
            "\n",
            "    accuracy                           0.64      3000\n",
            "   macro avg       0.63      0.64      0.62      3000\n",
            "weighted avg       0.69      0.64      0.65      3000\n",
            "\n",
            "F1:  0.6511566136782253 Accuracy:  0.6383333333333333\n",
            "Saving best model...\n",
            "Progress: 0.08 31\n",
            "Progress: 0.17 63\n",
            "Progress: 0.25 95\n",
            "Progress: 0.34 127\n",
            "Progress: 0.42 159\n",
            "Progress: 0.51 191\n",
            "Progress: 0.59 223\n",
            "Progress: 0.68 255\n",
            "Progress: 0.77 287\n",
            "Progress: 0.85 319\n",
            "Progress: 0.94 351\n",
            "              precision    recall  f1-score   support\n",
            "\n",
            "    Negative       0.64      0.71      0.67       920\n",
            "      Neural       0.40      0.60      0.48       620\n",
            "    Positive       0.85      0.61      0.71      1460\n",
            "\n",
            "    accuracy                           0.64      3000\n",
            "   macro avg       0.63      0.64      0.62      3000\n",
            "weighted avg       0.69      0.64      0.65      3000\n",
            "\n",
            "Train Epoch: 1 [32/1500 (2%)]\tLoss: 0.326278\tTotal Loss: 0.556940\n",
            "Train Epoch: 1 [64/1500 (4%)]\tLoss: 0.447046\tTotal Loss: 0.523740\n",
            "Train Epoch: 1 [96/1500 (6%)]\tLoss: 0.264756\tTotal Loss: 0.544320\n",
            "Train Epoch: 1 [128/1500 (8%)]\tLoss: 0.821488\tTotal Loss: 0.529130\n",
            "Train Epoch: 1 [160/1500 (11%)]\tLoss: 0.427184\tTotal Loss: 0.534340\n",
            "Train Epoch: 1 [192/1500 (13%)]\tLoss: 0.556493\tTotal Loss: 0.535760\n",
            "Train Epoch: 1 [224/1500 (15%)]\tLoss: 0.241943\tTotal Loss: 0.538650\n",
            "Train Epoch: 1 [256/1500 (17%)]\tLoss: 0.917346\tTotal Loss: 0.535210\n",
            "Train Epoch: 1 [288/1500 (19%)]\tLoss: 0.287237\tTotal Loss: 0.540280\n",
            "Train Epoch: 1 [320/1500 (21%)]\tLoss: 0.212134\tTotal Loss: 0.538560\n",
            "Train Epoch: 1 [352/1500 (23%)]\tLoss: 0.241702\tTotal Loss: 0.540110\n",
            "Train Epoch: 1 [384/1500 (26%)]\tLoss: 0.301662\tTotal Loss: 0.550660\n",
            "Train Epoch: 1 [416/1500 (28%)]\tLoss: 0.617620\tTotal Loss: 0.558980\n",
            "Train Epoch: 1 [448/1500 (30%)]\tLoss: 0.500625\tTotal Loss: 0.556980\n",
            "Train Epoch: 1 [480/1500 (32%)]\tLoss: 0.409515\tTotal Loss: 0.554420\n",
            "Train Epoch: 1 [512/1500 (34%)]\tLoss: 0.390287\tTotal Loss: 0.553020\n",
            "Train Epoch: 1 [544/1500 (36%)]\tLoss: 0.770326\tTotal Loss: 0.554820\n",
            "Train Epoch: 1 [576/1500 (38%)]\tLoss: 1.159642\tTotal Loss: 0.560000\n",
            "Train Epoch: 1 [608/1500 (40%)]\tLoss: 0.427682\tTotal Loss: 0.559850\n",
            "Train Epoch: 1 [640/1500 (43%)]\tLoss: 0.273368\tTotal Loss: 0.556820\n",
            "Train Epoch: 1 [672/1500 (45%)]\tLoss: 0.317592\tTotal Loss: 0.559540\n",
            "Train Epoch: 1 [704/1500 (47%)]\tLoss: 1.032426\tTotal Loss: 0.560440\n",
            "Train Epoch: 1 [736/1500 (49%)]\tLoss: 0.366127\tTotal Loss: 0.561850\n",
            "Train Epoch: 1 [768/1500 (51%)]\tLoss: 0.858037\tTotal Loss: 0.564620\n",
            "Train Epoch: 1 [800/1500 (53%)]\tLoss: 0.401322\tTotal Loss: 0.563610\n",
            "Train Epoch: 1 [832/1500 (55%)]\tLoss: 0.470550\tTotal Loss: 0.562770\n",
            "Train Epoch: 1 [864/1500 (58%)]\tLoss: 0.463024\tTotal Loss: 0.563490\n",
            "Train Epoch: 1 [896/1500 (60%)]\tLoss: 0.857188\tTotal Loss: 0.563560\n",
            "Train Epoch: 1 [928/1500 (62%)]\tLoss: 1.299796\tTotal Loss: 0.564730\n",
            "Train Epoch: 1 [960/1500 (64%)]\tLoss: 0.055906\tTotal Loss: 0.561720\n",
            "Train Epoch: 1 [992/1500 (66%)]\tLoss: 0.895078\tTotal Loss: 0.562870\n",
            "Train Epoch: 1 [1024/1500 (68%)]\tLoss: 0.641634\tTotal Loss: 0.565840\n",
            "Train Epoch: 1 [1056/1500 (70%)]\tLoss: 0.582760\tTotal Loss: 0.567530\n",
            "Train Epoch: 1 [1088/1500 (72%)]\tLoss: 0.485735\tTotal Loss: 0.567060\n",
            "Train Epoch: 1 [1120/1500 (75%)]\tLoss: 0.388348\tTotal Loss: 0.566960\n",
            "Train Epoch: 1 [1152/1500 (77%)]\tLoss: 0.253685\tTotal Loss: 0.567500\n",
            "Train Epoch: 1 [1184/1500 (79%)]\tLoss: 0.834544\tTotal Loss: 0.566460\n",
            "Train Epoch: 1 [1216/1500 (81%)]\tLoss: 0.465162\tTotal Loss: 0.564070\n",
            "Train Epoch: 1 [1248/1500 (83%)]\tLoss: 0.856943\tTotal Loss: 0.564400\n",
            "Train Epoch: 1 [1280/1500 (85%)]\tLoss: 0.676596\tTotal Loss: 0.564280\n",
            "Train Epoch: 1 [1312/1500 (87%)]\tLoss: 0.825256\tTotal Loss: 0.565320\n",
            "Train Epoch: 1 [1344/1500 (90%)]\tLoss: 1.408935\tTotal Loss: 0.567100\n",
            "Train Epoch: 1 [1376/1500 (92%)]\tLoss: 0.920234\tTotal Loss: 0.569500\n",
            "Train Epoch: 1 [1408/1500 (94%)]\tLoss: 0.774181\tTotal Loss: 0.570290\n",
            "Train Epoch: 1 [1440/1500 (96%)]\tLoss: 0.224813\tTotal Loss: 0.569370\n",
            "Train Epoch: 1 [1472/1500 (98%)]\tLoss: 0.460980\tTotal Loss: 0.569800\n",
            "Progress: 0.08 31\n",
            "Progress: 0.17 63\n",
            "Progress: 0.25 95\n",
            "Progress: 0.34 127\n",
            "Progress: 0.42 159\n",
            "Progress: 0.51 191\n",
            "Progress: 0.59 223\n",
            "Progress: 0.68 255\n",
            "Progress: 0.77 287\n",
            "Progress: 0.85 319\n",
            "Progress: 0.94 351\n",
            "              precision    recall  f1-score   support\n",
            "\n",
            "    Negative       0.67      0.67      0.67       920\n",
            "      Neural       0.41      0.56      0.48       620\n",
            "    Positive       0.81      0.69      0.74      1460\n",
            "\n",
            "    accuracy                           0.66      3000\n",
            "   macro avg       0.63      0.64      0.63      3000\n",
            "weighted avg       0.68      0.66      0.67      3000\n",
            "\n",
            "F1:  0.6651888628643531 Accuracy:  0.6553333333333333\n",
            "Saving best model...\n",
            "Progress: 0.08 31\n",
            "Progress: 0.17 63\n",
            "Progress: 0.25 95\n",
            "Progress: 0.34 127\n",
            "Progress: 0.42 159\n",
            "Progress: 0.51 191\n",
            "Progress: 0.59 223\n",
            "Progress: 0.68 255\n",
            "Progress: 0.77 287\n",
            "Progress: 0.85 319\n",
            "Progress: 0.94 351\n",
            "              precision    recall  f1-score   support\n",
            "\n",
            "    Negative       0.67      0.67      0.67       920\n",
            "      Neural       0.41      0.56      0.48       620\n",
            "    Positive       0.81      0.69      0.74      1460\n",
            "\n",
            "    accuracy                           0.66      3000\n",
            "   macro avg       0.63      0.64      0.63      3000\n",
            "weighted avg       0.68      0.66      0.67      3000\n",
            "\n",
            "Train Epoch: 2 [32/1500 (2%)]\tLoss: 0.150179\tTotal Loss: 0.355270\n",
            "Train Epoch: 2 [64/1500 (4%)]\tLoss: 0.206495\tTotal Loss: 0.310860\n",
            "Train Epoch: 2 [96/1500 (6%)]\tLoss: 0.192641\tTotal Loss: 0.297340\n",
            "Train Epoch: 2 [128/1500 (8%)]\tLoss: 0.076607\tTotal Loss: 0.282960\n",
            "Train Epoch: 2 [160/1500 (11%)]\tLoss: 0.113861\tTotal Loss: 0.268230\n",
            "Train Epoch: 2 [192/1500 (13%)]\tLoss: 0.459060\tTotal Loss: 0.255000\n",
            "Train Epoch: 2 [224/1500 (15%)]\tLoss: 0.200910\tTotal Loss: 0.258440\n",
            "Train Epoch: 2 [256/1500 (17%)]\tLoss: 0.678598\tTotal Loss: 0.265760\n",
            "Train Epoch: 2 [288/1500 (19%)]\tLoss: 0.560396\tTotal Loss: 0.268910\n",
            "Train Epoch: 2 [320/1500 (21%)]\tLoss: 0.386767\tTotal Loss: 0.268940\n",
            "Train Epoch: 2 [352/1500 (23%)]\tLoss: 0.432838\tTotal Loss: 0.266660\n",
            "Train Epoch: 2 [384/1500 (26%)]\tLoss: 0.230336\tTotal Loss: 0.260050\n",
            "Train Epoch: 2 [416/1500 (28%)]\tLoss: 0.536844\tTotal Loss: 0.260670\n",
            "Train Epoch: 2 [448/1500 (30%)]\tLoss: 0.614393\tTotal Loss: 0.268550\n",
            "Train Epoch: 2 [480/1500 (32%)]\tLoss: 0.044680\tTotal Loss: 0.267890\n",
            "Train Epoch: 2 [512/1500 (34%)]\tLoss: 0.336306\tTotal Loss: 0.266780\n",
            "Train Epoch: 2 [544/1500 (36%)]\tLoss: 0.113551\tTotal Loss: 0.265960\n",
            "Train Epoch: 2 [576/1500 (38%)]\tLoss: 0.166972\tTotal Loss: 0.259800\n",
            "Train Epoch: 2 [608/1500 (40%)]\tLoss: 0.115353\tTotal Loss: 0.258450\n",
            "Train Epoch: 2 [640/1500 (43%)]\tLoss: 0.074831\tTotal Loss: 0.258440\n",
            "Train Epoch: 2 [672/1500 (45%)]\tLoss: 0.078843\tTotal Loss: 0.257350\n",
            "Train Epoch: 2 [704/1500 (47%)]\tLoss: 0.090390\tTotal Loss: 0.257440\n",
            "Train Epoch: 2 [736/1500 (49%)]\tLoss: 0.632906\tTotal Loss: 0.258720\n",
            "Train Epoch: 2 [768/1500 (51%)]\tLoss: 0.187538\tTotal Loss: 0.261250\n",
            "Train Epoch: 2 [800/1500 (53%)]\tLoss: 0.354529\tTotal Loss: 0.263040\n",
            "Train Epoch: 2 [832/1500 (55%)]\tLoss: 0.058170\tTotal Loss: 0.263590\n",
            "Train Epoch: 2 [864/1500 (58%)]\tLoss: 0.042198\tTotal Loss: 0.264000\n",
            "Train Epoch: 2 [896/1500 (60%)]\tLoss: 0.269646\tTotal Loss: 0.263960\n",
            "Train Epoch: 2 [928/1500 (62%)]\tLoss: 0.040458\tTotal Loss: 0.265180\n",
            "Train Epoch: 2 [960/1500 (64%)]\tLoss: 0.337182\tTotal Loss: 0.267110\n",
            "Train Epoch: 2 [992/1500 (66%)]\tLoss: 0.037233\tTotal Loss: 0.268150\n",
            "Train Epoch: 2 [1024/1500 (68%)]\tLoss: 0.127117\tTotal Loss: 0.266790\n",
            "Train Epoch: 2 [1056/1500 (70%)]\tLoss: 0.064373\tTotal Loss: 0.266230\n",
            "Train Epoch: 2 [1088/1500 (72%)]\tLoss: 0.245736\tTotal Loss: 0.265460\n",
            "Train Epoch: 2 [1120/1500 (75%)]\tLoss: 0.028718\tTotal Loss: 0.267380\n",
            "Train Epoch: 2 [1152/1500 (77%)]\tLoss: 0.413831\tTotal Loss: 0.268600\n",
            "Train Epoch: 2 [1184/1500 (79%)]\tLoss: 0.062572\tTotal Loss: 0.267200\n",
            "Train Epoch: 2 [1216/1500 (81%)]\tLoss: 0.350480\tTotal Loss: 0.267900\n",
            "Train Epoch: 2 [1248/1500 (83%)]\tLoss: 0.025105\tTotal Loss: 0.267180\n",
            "Train Epoch: 2 [1280/1500 (85%)]\tLoss: 0.567811\tTotal Loss: 0.270230\n",
            "Train Epoch: 2 [1312/1500 (87%)]\tLoss: 0.261027\tTotal Loss: 0.271860\n",
            "Train Epoch: 2 [1344/1500 (90%)]\tLoss: 0.229404\tTotal Loss: 0.270710\n",
            "Train Epoch: 2 [1376/1500 (92%)]\tLoss: 0.612472\tTotal Loss: 0.272030\n",
            "Train Epoch: 2 [1408/1500 (94%)]\tLoss: 0.108811\tTotal Loss: 0.272900\n",
            "Train Epoch: 2 [1440/1500 (96%)]\tLoss: 0.044412\tTotal Loss: 0.273030\n",
            "Train Epoch: 2 [1472/1500 (98%)]\tLoss: 0.078240\tTotal Loss: 0.273120\n",
            "Progress: 0.08 31\n",
            "Progress: 0.17 63\n",
            "Progress: 0.25 95\n",
            "Progress: 0.34 127\n",
            "Progress: 0.42 159\n",
            "Progress: 0.51 191\n",
            "Progress: 0.59 223\n",
            "Progress: 0.68 255\n",
            "Progress: 0.77 287\n",
            "Progress: 0.85 319\n",
            "Progress: 0.94 351\n",
            "              precision    recall  f1-score   support\n",
            "\n",
            "    Negative       0.68      0.62      0.65       920\n",
            "      Neural       0.41      0.51      0.45       620\n",
            "    Positive       0.77      0.73      0.75      1460\n",
            "\n",
            "    accuracy                           0.65      3000\n",
            "   macro avg       0.62      0.62      0.62      3000\n",
            "weighted avg       0.67      0.65      0.66      3000\n",
            "\n",
            "F1:  0.6590804896627912 Accuracy:  0.6526666666666666\n",
            "Progress: 0.08 31\n",
            "Progress: 0.17 63\n",
            "Progress: 0.25 95\n",
            "Progress: 0.34 127\n",
            "Progress: 0.42 159\n",
            "Progress: 0.51 191\n",
            "Progress: 0.59 223\n",
            "Progress: 0.68 255\n",
            "Progress: 0.77 287\n",
            "Progress: 0.85 319\n",
            "Progress: 0.94 351\n",
            "              precision    recall  f1-score   support\n",
            "\n",
            "    Negative       0.68      0.62      0.65       920\n",
            "      Neural       0.41      0.51      0.45       620\n",
            "    Positive       0.77      0.73      0.75      1460\n",
            "\n",
            "    accuracy                           0.65      3000\n",
            "   macro avg       0.62      0.62      0.62      3000\n",
            "weighted avg       0.67      0.65      0.66      3000\n",
            "\n",
            "Train Epoch: 3 [32/1500 (2%)]\tLoss: 0.069352\tTotal Loss: 0.105210\n",
            "Train Epoch: 3 [64/1500 (4%)]\tLoss: 0.088478\tTotal Loss: 0.097150\n",
            "Train Epoch: 3 [96/1500 (6%)]\tLoss: 0.037686\tTotal Loss: 0.122920\n",
            "Train Epoch: 3 [128/1500 (8%)]\tLoss: 0.142434\tTotal Loss: 0.110620\n",
            "Train Epoch: 3 [160/1500 (11%)]\tLoss: 0.011129\tTotal Loss: 0.103970\n",
            "Train Epoch: 3 [192/1500 (13%)]\tLoss: 0.059855\tTotal Loss: 0.109760\n",
            "Train Epoch: 3 [224/1500 (15%)]\tLoss: 0.125263\tTotal Loss: 0.102000\n",
            "Train Epoch: 3 [256/1500 (17%)]\tLoss: 0.004811\tTotal Loss: 0.105380\n",
            "Train Epoch: 3 [288/1500 (19%)]\tLoss: 0.006980\tTotal Loss: 0.108010\n",
            "Train Epoch: 3 [320/1500 (21%)]\tLoss: 0.097527\tTotal Loss: 0.109060\n",
            "Train Epoch: 3 [352/1500 (23%)]\tLoss: 0.194254\tTotal Loss: 0.111990\n",
            "Train Epoch: 3 [384/1500 (26%)]\tLoss: 0.010906\tTotal Loss: 0.107840\n",
            "Train Epoch: 3 [416/1500 (28%)]\tLoss: 0.005765\tTotal Loss: 0.106450\n",
            "Train Epoch: 3 [448/1500 (30%)]\tLoss: 0.009922\tTotal Loss: 0.107790\n",
            "Train Epoch: 3 [480/1500 (32%)]\tLoss: 0.005999\tTotal Loss: 0.108290\n",
            "Train Epoch: 3 [512/1500 (34%)]\tLoss: 0.078864\tTotal Loss: 0.109620\n",
            "Train Epoch: 3 [544/1500 (36%)]\tLoss: 0.077025\tTotal Loss: 0.108220\n",
            "Train Epoch: 3 [576/1500 (38%)]\tLoss: 0.129115\tTotal Loss: 0.110240\n",
            "Train Epoch: 3 [608/1500 (40%)]\tLoss: 0.114807\tTotal Loss: 0.110870\n",
            "Train Epoch: 3 [640/1500 (43%)]\tLoss: 0.032141\tTotal Loss: 0.111400\n",
            "Train Epoch: 3 [672/1500 (45%)]\tLoss: 0.108259\tTotal Loss: 0.110810\n",
            "Train Epoch: 3 [704/1500 (47%)]\tLoss: 0.065135\tTotal Loss: 0.111010\n",
            "Train Epoch: 3 [736/1500 (49%)]\tLoss: 0.023689\tTotal Loss: 0.110680\n",
            "Train Epoch: 3 [768/1500 (51%)]\tLoss: 0.411827\tTotal Loss: 0.110650\n",
            "Train Epoch: 3 [800/1500 (53%)]\tLoss: 0.086792\tTotal Loss: 0.113610\n",
            "Train Epoch: 3 [832/1500 (55%)]\tLoss: 0.070565\tTotal Loss: 0.113860\n",
            "Train Epoch: 3 [864/1500 (58%)]\tLoss: 0.285678\tTotal Loss: 0.115550\n",
            "Train Epoch: 3 [896/1500 (60%)]\tLoss: 0.803349\tTotal Loss: 0.115840\n",
            "Train Epoch: 3 [928/1500 (62%)]\tLoss: 0.007525\tTotal Loss: 0.118060\n",
            "Train Epoch: 3 [960/1500 (64%)]\tLoss: 0.172969\tTotal Loss: 0.119000\n",
            "Train Epoch: 3 [992/1500 (66%)]\tLoss: 0.011288\tTotal Loss: 0.119100\n",
            "Train Epoch: 3 [1024/1500 (68%)]\tLoss: 0.196277\tTotal Loss: 0.118630\n",
            "Train Epoch: 3 [1056/1500 (70%)]\tLoss: 0.030559\tTotal Loss: 0.119130\n",
            "Train Epoch: 3 [1088/1500 (72%)]\tLoss: 0.016809\tTotal Loss: 0.120540\n",
            "Train Epoch: 3 [1120/1500 (75%)]\tLoss: 0.134263\tTotal Loss: 0.121810\n",
            "Train Epoch: 3 [1152/1500 (77%)]\tLoss: 0.165847\tTotal Loss: 0.121330\n",
            "Train Epoch: 3 [1184/1500 (79%)]\tLoss: 0.004828\tTotal Loss: 0.119990\n",
            "Train Epoch: 3 [1216/1500 (81%)]\tLoss: 0.226817\tTotal Loss: 0.120740\n",
            "Train Epoch: 3 [1248/1500 (83%)]\tLoss: 0.112068\tTotal Loss: 0.120930\n",
            "Train Epoch: 3 [1280/1500 (85%)]\tLoss: 0.013586\tTotal Loss: 0.121690\n",
            "Train Epoch: 3 [1312/1500 (87%)]\tLoss: 0.242512\tTotal Loss: 0.122390\n",
            "Train Epoch: 3 [1344/1500 (90%)]\tLoss: 0.153924\tTotal Loss: 0.123790\n",
            "Train Epoch: 3 [1376/1500 (92%)]\tLoss: 0.026826\tTotal Loss: 0.124770\n",
            "Train Epoch: 3 [1408/1500 (94%)]\tLoss: 0.407434\tTotal Loss: 0.125470\n",
            "Train Epoch: 3 [1440/1500 (96%)]\tLoss: 0.687681\tTotal Loss: 0.127230\n",
            "Train Epoch: 3 [1472/1500 (98%)]\tLoss: 0.093329\tTotal Loss: 0.127240\n",
            "Progress: 0.08 31\n",
            "Progress: 0.17 63\n",
            "Progress: 0.25 95\n",
            "Progress: 0.34 127\n",
            "Progress: 0.42 159\n",
            "Progress: 0.51 191\n",
            "Progress: 0.59 223\n",
            "Progress: 0.68 255\n",
            "Progress: 0.77 287\n",
            "Progress: 0.85 319\n",
            "Progress: 0.94 351\n",
            "              precision    recall  f1-score   support\n",
            "\n",
            "    Negative       0.66      0.70      0.68       920\n",
            "      Neural       0.45      0.46      0.45       620\n",
            "    Positive       0.78      0.74      0.76      1460\n",
            "\n",
            "    accuracy                           0.67      3000\n",
            "   macro avg       0.63      0.63      0.63      3000\n",
            "weighted avg       0.68      0.67      0.67      3000\n",
            "\n",
            "F1:  0.67377225292483 Accuracy:  0.6723333333333333\n",
            "Saving best model...\n"
          ]
        }
      ],
      "source": [
        "max_f1, repeat = 0, 0\n",
        "for epoch in range(nepochs):\n",
        "  model.train()\n",
        "  f1, acc = evaluate(model, testdata)\n",
        "  losses = []\n",
        "  for batch_idx, inp in enumerate(traindata):\n",
        "    texts, labels = inp['X'], inp['y']\n",
        "\n",
        "    # classifying\n",
        "    inputs = tokenizer(texts, return_tensors='pt', padding=True, truncation=True, max_length=max_length).to(device)\n",
        "    output = model(**inputs, labels=labels.to(device))\n",
        "\n",
        "    # Calculate loss\n",
        "    loss = output.loss\n",
        "    losses.append(float(loss))\n",
        "\n",
        "    # Backpropagation\n",
        "    loss.backward()\n",
        "    optimizer.step()\n",
        "    optimizer.zero_grad()\n",
        "\n",
        "    # Display\n",
        "    if (batch_idx+1) % batch_status == 0:\n",
        "      print('Train Epoch: {} [{}/{} ({:.0f}%)]\\tLoss: {:.6f}\\tTotal Loss: {:.6f}'.format(epoch, \\\n",
        "        batch_idx+1, len(traindata), 100. * batch_idx / len(traindata), \n",
        "        float(loss), round(sum(losses) / len(losses), 5)))\n",
        "  \n",
        "  f1, acc = evaluate(model, testdata)\n",
        "  print('F1: ', f1, 'Accuracy: ', acc)\n",
        "  if f1 > max_f1:\n",
        "    model.save_pretrained(os.path.join(write_path, 'model'))\n",
        "    max_f1 = f1\n",
        "    repeat = 0\n",
        "    print('Saving best model...')\n",
        "  else:\n",
        "    repeat += 1\n",
        "  \n",
        "  if repeat == early_stop:\n",
        "    break"
      ]
    }
  ],
  "metadata": {
    "accelerator": "GPU",
    "colab": {
      "collapsed_sections": [],
      "name": "TCC_BERTimbau_analise_de_sentimento_lematizacao.ipynb",
      "provenance": []
    },
    "kernelspec": {
      "display_name": "Python 3",
      "name": "python3"
    },
    "language_info": {
      "name": "python"
    },
    "gpuClass": "standard"
  },
  "nbformat": 4,
  "nbformat_minor": 0
}