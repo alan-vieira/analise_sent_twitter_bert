{
  "cells": [
    {
      "cell_type": "markdown",
      "metadata": {
        "id": "8Rq50uNgNtob"
      },
      "source": [
        "# Análise de sentimento do Twitter (dataset tweetSentBR) com BERTimbau\n"
      ]
    },
    {
      "cell_type": "markdown",
      "metadata": {
        "id": "SYUE2JcFwjlN"
      },
      "source": [
        "# Modelos de Linguagem Neurais Pré-treinados\n",
        "\n",
        "Modelos Neurais estado-da-arte são baseados na arquitetura Transformer e têm todos seus parâmetros pré-treinados com base em tarefas genéricas. Sendo assim, estes modelo só precisam ser refinados (*fine-tuned*) numa tarefa específica.\n",
        "\n",
        "Vamos ver algumas aplicações de modelos pré-treinados utilizando a bibliotega [HuggingFace](https://huggingface.co/)\n"
      ]
    },
    {
      "cell_type": "markdown",
      "metadata": {
        "id": "CAca-Nfqw0R5"
      },
      "source": [
        "## Classificação de Texto\n",
        "\n",
        "Vamos refinar a arquitetura BERTimbau, versão em Português do BERT, numa tarefa de classificação onde uma revisão de produto será classificada em **Positiva**, **Neutra** ou **Negativa**."
      ]
    },
    {
      "cell_type": "markdown",
      "metadata": {
        "id": "IyivGtlnxvvC"
      },
      "source": [
        "# Preparando o córpus"
      ]
    },
    {
      "cell_type": "code",
      "execution_count": 2,
      "metadata": {
        "id": "qaz9Y6Ug5K9J"
      },
      "outputs": [],
      "source": [
        "import pandas as pd\n",
        "import matplotlib.pyplot as plt\n",
        "import seaborn as sns\n",
        "\n",
        "tweets_df = pd.read_csv('dataset') "
      ]
    },
    {
      "cell_type": "code",
      "execution_count": 3,
      "metadata": {
        "colab": {
          "base_uri": "https://localhost:8080/",
          "height": 206
        },
        "id": "pUxqSGx95dkc",
        "outputId": "79a1b034-2b67-46b7-ee58-60c5a1aa5460"
      },
      "outputs": [
        {
          "data": {
            "text/html": [
              "<div>\n",
              "<style scoped>\n",
              "    .dataframe tbody tr th:only-of-type {\n",
              "        vertical-align: middle;\n",
              "    }\n",
              "\n",
              "    .dataframe tbody tr th {\n",
              "        vertical-align: top;\n",
              "    }\n",
              "\n",
              "    .dataframe thead th {\n",
              "        text-align: right;\n",
              "    }\n",
              "</style>\n",
              "<table border=\"1\" class=\"dataframe\">\n",
              "  <thead>\n",
              "    <tr style=\"text-align: right;\">\n",
              "      <th></th>\n",
              "      <th>id</th>\n",
              "      <th>hashtag</th>\n",
              "      <th>votes</th>\n",
              "      <th>hard</th>\n",
              "      <th>sentiment</th>\n",
              "      <th>group</th>\n",
              "      <th>text</th>\n",
              "      <th>repeat</th>\n",
              "    </tr>\n",
              "  </thead>\n",
              "  <tbody>\n",
              "    <tr>\n",
              "      <th>0</th>\n",
              "      <td>863044774588272640</td>\n",
              "      <td>#encontro</td>\n",
              "      <td>[1, 1, 1, 1, 1, 1, 1]</td>\n",
              "      <td>0</td>\n",
              "      <td>1</td>\n",
              "      <td>test</td>\n",
              "      <td>que coisa linda O programa estava mostrando um...</td>\n",
              "      <td>False</td>\n",
              "    </tr>\n",
              "    <tr>\n",
              "      <th>1</th>\n",
              "      <td>865583716088766464</td>\n",
              "      <td>#encontro</td>\n",
              "      <td>[1, 1, 1, 1, 1, 1, 1]</td>\n",
              "      <td>0</td>\n",
              "      <td>1</td>\n",
              "      <td>test</td>\n",
              "      <td>por mais com as irmãs galvão adorei elas</td>\n",
              "      <td>False</td>\n",
              "    </tr>\n",
              "    <tr>\n",
              "      <th>2</th>\n",
              "      <td>865063232201011200</td>\n",
              "      <td>#TheNoite</td>\n",
              "      <td>[1, 0, 1, 1, 1, 0, 0]</td>\n",
              "      <td>2</td>\n",
              "      <td>1</td>\n",
              "      <td>test</td>\n",
              "      <td>mr CATRA USERNAME lançando sua nova música PPK...</td>\n",
              "      <td>False</td>\n",
              "    </tr>\n",
              "    <tr>\n",
              "      <th>3</th>\n",
              "      <td>864668391008763904</td>\n",
              "      <td>#masterchefbr</td>\n",
              "      <td>[0, 0, 0, 0, 0, 0, 0]</td>\n",
              "      <td>0</td>\n",
              "      <td>0</td>\n",
              "      <td>test</td>\n",
              "      <td>quem viu aquela lutadora modela barbuda tatuad...</td>\n",
              "      <td>False</td>\n",
              "    </tr>\n",
              "    <tr>\n",
              "      <th>4</th>\n",
              "      <td>865572794016378880</td>\n",
              "      <td>#encontro</td>\n",
              "      <td>[-1, -1, -1, -1, -1, -1, -1]</td>\n",
              "      <td>0</td>\n",
              "      <td>-1</td>\n",
              "      <td>test</td>\n",
              "      <td>tô passada com esse cara quanta merda pode sai...</td>\n",
              "      <td>False</td>\n",
              "    </tr>\n",
              "  </tbody>\n",
              "</table>\n",
              "</div>"
            ],
            "text/plain": [
              "                   id        hashtag                         votes  hard  \\\n",
              "0  863044774588272640      #encontro         [1, 1, 1, 1, 1, 1, 1]     0   \n",
              "1  865583716088766464      #encontro         [1, 1, 1, 1, 1, 1, 1]     0   \n",
              "2  865063232201011200      #TheNoite         [1, 0, 1, 1, 1, 0, 0]     2   \n",
              "3  864668391008763904  #masterchefbr         [0, 0, 0, 0, 0, 0, 0]     0   \n",
              "4  865572794016378880      #encontro  [-1, -1, -1, -1, -1, -1, -1]     0   \n",
              "\n",
              "  sentiment group                                               text  repeat  \n",
              "0         1  test  que coisa linda O programa estava mostrando um...   False  \n",
              "1         1  test           por mais com as irmãs galvão adorei elas   False  \n",
              "2         1  test  mr CATRA USERNAME lançando sua nova música PPK...   False  \n",
              "3         0  test  quem viu aquela lutadora modela barbuda tatuad...   False  \n",
              "4        -1  test  tô passada com esse cara quanta merda pode sai...   False  "
            ]
          },
          "execution_count": 3,
          "metadata": {},
          "output_type": "execute_result"
        }
      ],
      "source": [
        "tweets_df.head()"
      ]
    },
    {
      "cell_type": "markdown",
      "metadata": {
        "id": "K-UOBbMUBhEe"
      },
      "source": [
        "## Eliminando as colunas que não serão utilizada"
      ]
    },
    {
      "cell_type": "code",
      "execution_count": 4,
      "metadata": {
        "colab": {
          "base_uri": "https://localhost:8080/"
        },
        "id": "jprQHbvZBm-Y",
        "outputId": "8635155c-d465-407f-9be3-97d320433b40"
      },
      "outputs": [
        {
          "data": {
            "text/plain": [
              "Index(['id', 'hashtag', 'votes', 'hard', 'sentiment', 'group', 'text',\n",
              "       'repeat'],\n",
              "      dtype='object')"
            ]
          },
          "execution_count": 4,
          "metadata": {},
          "output_type": "execute_result"
        }
      ],
      "source": [
        "tweets_df.columns"
      ]
    },
    {
      "cell_type": "code",
      "execution_count": 5,
      "metadata": {
        "id": "NaxHrVb-Cffh"
      },
      "outputs": [],
      "source": [
        "tweets_df.drop(columns=['id', 'hashtag', 'votes', 'hard', 'group',\n",
        "       'repeat'], inplace=True)"
      ]
    },
    {
      "cell_type": "code",
      "execution_count": 6,
      "metadata": {
        "colab": {
          "base_uri": "https://localhost:8080/",
          "height": 206
        },
        "id": "EPrJEauXC3Aj",
        "outputId": "1b65157d-a89a-49b4-ee88-fdf31fd6eb2d"
      },
      "outputs": [
        {
          "data": {
            "text/html": [
              "<div>\n",
              "<style scoped>\n",
              "    .dataframe tbody tr th:only-of-type {\n",
              "        vertical-align: middle;\n",
              "    }\n",
              "\n",
              "    .dataframe tbody tr th {\n",
              "        vertical-align: top;\n",
              "    }\n",
              "\n",
              "    .dataframe thead th {\n",
              "        text-align: right;\n",
              "    }\n",
              "</style>\n",
              "<table border=\"1\" class=\"dataframe\">\n",
              "  <thead>\n",
              "    <tr style=\"text-align: right;\">\n",
              "      <th></th>\n",
              "      <th>sentiment</th>\n",
              "      <th>text</th>\n",
              "    </tr>\n",
              "  </thead>\n",
              "  <tbody>\n",
              "    <tr>\n",
              "      <th>0</th>\n",
              "      <td>1</td>\n",
              "      <td>que coisa linda O programa estava mostrando um...</td>\n",
              "    </tr>\n",
              "    <tr>\n",
              "      <th>1</th>\n",
              "      <td>1</td>\n",
              "      <td>por mais com as irmãs galvão adorei elas</td>\n",
              "    </tr>\n",
              "    <tr>\n",
              "      <th>2</th>\n",
              "      <td>1</td>\n",
              "      <td>mr CATRA USERNAME lançando sua nova música PPK...</td>\n",
              "    </tr>\n",
              "    <tr>\n",
              "      <th>3</th>\n",
              "      <td>0</td>\n",
              "      <td>quem viu aquela lutadora modela barbuda tatuad...</td>\n",
              "    </tr>\n",
              "    <tr>\n",
              "      <th>4</th>\n",
              "      <td>-1</td>\n",
              "      <td>tô passada com esse cara quanta merda pode sai...</td>\n",
              "    </tr>\n",
              "  </tbody>\n",
              "</table>\n",
              "</div>"
            ],
            "text/plain": [
              "  sentiment                                               text\n",
              "0         1  que coisa linda O programa estava mostrando um...\n",
              "1         1           por mais com as irmãs galvão adorei elas\n",
              "2         1  mr CATRA USERNAME lançando sua nova música PPK...\n",
              "3         0  quem viu aquela lutadora modela barbuda tatuad...\n",
              "4        -1  tô passada com esse cara quanta merda pode sai..."
            ]
          },
          "execution_count": 6,
          "metadata": {},
          "output_type": "execute_result"
        }
      ],
      "source": [
        "tweets_df.head()"
      ]
    },
    {
      "cell_type": "code",
      "execution_count": 7,
      "metadata": {
        "colab": {
          "base_uri": "https://localhost:8080/"
        },
        "id": "e__bGyZq51cg",
        "outputId": "df2b45a7-3d42-48d6-ed0c-52d04e15ef43"
      },
      "outputs": [
        {
          "name": "stdout",
          "output_type": "stream",
          "text": [
            "<class 'pandas.core.frame.DataFrame'>\n",
            "RangeIndex: 15047 entries, 0 to 15046\n",
            "Data columns (total 2 columns):\n",
            " #   Column     Non-Null Count  Dtype \n",
            "---  ------     --------------  ----- \n",
            " 0   sentiment  15047 non-null  object\n",
            " 1   text       15047 non-null  object\n",
            "dtypes: object(2)\n",
            "memory usage: 235.2+ KB\n"
          ]
        }
      ],
      "source": [
        " tweets_df.info()"
      ]
    },
    {
      "cell_type": "code",
      "execution_count": 8,
      "metadata": {
        "colab": {
          "base_uri": "https://localhost:8080/",
          "height": 206
        },
        "id": "_KvtR_olPC0N",
        "outputId": "da8fbb43-27be-4392-ee72-6f1c199367e9"
      },
      "outputs": [
        {
          "data": {
            "text/html": [
              "<div>\n",
              "<style scoped>\n",
              "    .dataframe tbody tr th:only-of-type {\n",
              "        vertical-align: middle;\n",
              "    }\n",
              "\n",
              "    .dataframe tbody tr th {\n",
              "        vertical-align: top;\n",
              "    }\n",
              "\n",
              "    .dataframe thead th {\n",
              "        text-align: right;\n",
              "    }\n",
              "</style>\n",
              "<table border=\"1\" class=\"dataframe\">\n",
              "  <thead>\n",
              "    <tr style=\"text-align: right;\">\n",
              "      <th></th>\n",
              "      <th>text</th>\n",
              "    </tr>\n",
              "    <tr>\n",
              "      <th>sentiment</th>\n",
              "      <th></th>\n",
              "    </tr>\n",
              "  </thead>\n",
              "  <tbody>\n",
              "    <tr>\n",
              "      <th>-</th>\n",
              "      <td>47</td>\n",
              "    </tr>\n",
              "    <tr>\n",
              "      <th>-1</th>\n",
              "      <td>4426</td>\n",
              "    </tr>\n",
              "    <tr>\n",
              "      <th>0</th>\n",
              "      <td>3926</td>\n",
              "    </tr>\n",
              "    <tr>\n",
              "      <th>1</th>\n",
              "      <td>6648</td>\n",
              "    </tr>\n",
              "  </tbody>\n",
              "</table>\n",
              "</div>"
            ],
            "text/plain": [
              "           text\n",
              "sentiment      \n",
              "-            47\n",
              "-1         4426\n",
              "0          3926\n",
              "1          6648"
            ]
          },
          "execution_count": 8,
          "metadata": {},
          "output_type": "execute_result"
        }
      ],
      "source": [
        "tweets_df.groupby(['sentiment']).count()"
      ]
    },
    {
      "cell_type": "code",
      "execution_count": 9,
      "metadata": {
        "id": "t69SJTSS7dSc"
      },
      "outputs": [],
      "source": [
        "# removendo as linhas com a variável sentimento como traço '-'\n",
        "\n",
        "indexNames = tweets_df[ tweets_df['sentiment'] == '-' ].index #obtendo o valor para ajudar a remover a linha\n",
        "tweets_df.drop(indexNames , inplace=True) #removendo a linha correspondente ao valor informado"
      ]
    },
    {
      "cell_type": "code",
      "execution_count": 10,
      "metadata": {
        "id": "nkDJhkN27hVV"
      },
      "outputs": [],
      "source": [
        "# tranformando valores para adequar a os classificadores\n",
        "tweets_df['sentiment'] = tweets_df['sentiment'].replace(['-1', '0', '1'], [3, 6, 9])\n",
        "tweets_df['sentiment'] = tweets_df['sentiment'].replace([3, 6, 9], [0, 1, 2])"
      ]
    },
    {
      "cell_type": "code",
      "execution_count": 11,
      "metadata": {
        "colab": {
          "base_uri": "https://localhost:8080/",
          "height": 279
        },
        "id": "0hCJJW_hPJuh",
        "outputId": "17d42572-54c5-4572-d99b-6759f5a5c8a4"
      },
      "outputs": [
        {
          "data": {
            "image/png": "[encoded data removed]",
            "text/plain": [
              "<Figure size 640x480 with 1 Axes>"
            ]
          },
          "metadata": {},
          "output_type": "display_data"
        }
      ],
      "source": [
        "# Visualizando os dados graficamente\n",
        "sns.countplot(x=tweets_df.sentiment)\n",
        "plt.xlabel('class label')\n",
        "plt.ylabel('number of tweets')\n",
        "plt.show()"
      ]
    },
    {
      "cell_type": "code",
      "execution_count": 12,
      "metadata": {
        "colab": {
          "base_uri": "https://localhost:8080/",
          "height": 175
        },
        "id": "rXl1HYKD708m",
        "outputId": "231a7f61-9616-4a78-f127-b109ea360c8e"
      },
      "outputs": [
        {
          "data": {
            "text/html": [
              "<div>\n",
              "<style scoped>\n",
              "    .dataframe tbody tr th:only-of-type {\n",
              "        vertical-align: middle;\n",
              "    }\n",
              "\n",
              "    .dataframe tbody tr th {\n",
              "        vertical-align: top;\n",
              "    }\n",
              "\n",
              "    .dataframe thead th {\n",
              "        text-align: right;\n",
              "    }\n",
              "</style>\n",
              "<table border=\"1\" class=\"dataframe\">\n",
              "  <thead>\n",
              "    <tr style=\"text-align: right;\">\n",
              "      <th></th>\n",
              "      <th>text</th>\n",
              "    </tr>\n",
              "    <tr>\n",
              "      <th>sentiment</th>\n",
              "      <th></th>\n",
              "    </tr>\n",
              "  </thead>\n",
              "  <tbody>\n",
              "    <tr>\n",
              "      <th>0</th>\n",
              "      <td>4426</td>\n",
              "    </tr>\n",
              "    <tr>\n",
              "      <th>1</th>\n",
              "      <td>3926</td>\n",
              "    </tr>\n",
              "    <tr>\n",
              "      <th>2</th>\n",
              "      <td>6648</td>\n",
              "    </tr>\n",
              "  </tbody>\n",
              "</table>\n",
              "</div>"
            ],
            "text/plain": [
              "           text\n",
              "sentiment      \n",
              "0          4426\n",
              "1          3926\n",
              "2          6648"
            ]
          },
          "execution_count": 12,
          "metadata": {},
          "output_type": "execute_result"
        }
      ],
      "source": [
        "tweets_df.groupby(['sentiment']).count()"
      ]
    },
    {
      "cell_type": "markdown",
      "metadata": {
        "id": "3stzwvzcPyS4"
      },
      "source": [
        "## Efetuando a limpeza dos dados"
      ]
    },
    {
      "cell_type": "markdown",
      "metadata": {
        "id": "OIHQcLVngXrM"
      },
      "source": [
        "## Removendo apenas os emojis e as palavras USERNAME e NUMBER"
      ]
    },
    {
      "cell_type": "code",
      "execution_count": 13,
      "metadata": {
        "id": "2ldo1HEAgSXP"
      },
      "outputs": [],
      "source": [
        "# removendo as palavras USERNAME e NUMBER\n",
        "tweets_df['text_parcial_clean'] = tweets_df['text'].str.replace('USERNAME', '').str.replace('NUMBER', '')"
      ]
    },
    {
      "cell_type": "code",
      "execution_count": 14,
      "metadata": {
        "id": "0WWWaunE8Ntw"
      },
      "outputs": [],
      "source": [
        "# remover emojis utilizado regex (re)\n",
        "import re\n",
        "\n",
        "def remove_emoji(string):\n",
        "    emoji_pattern = re.compile(\"[\"\n",
        "                               u\"\\U0001F600-\\U0001F64F\"  # emoticons\n",
        "                               u\"\\U0001F300-\\U0001F5FF\"  # symbols & pictographs\n",
        "                               u\"\\U0001F680-\\U0001F6FF\"  # transport & map symbols\n",
        "                               u\"\\U0001F1E0-\\U0001F1FF\"  # flags (iOS)\n",
        "                               u\"\\U00002500-\\U00002BEF\"  # chinese char\n",
        "                               u\"\\U00002702-\\U000027B0\"\n",
        "                               u\"\\U00002702-\\U000027B0\"\n",
        "                               u\"\\U000024C2-\\U0001F251\"\n",
        "                               u\"\\U0001f926-\\U0001f937\"\n",
        "                               u\"\\U00010000-\\U0010ffff\"\n",
        "                               u\"\\u2640-\\u2642\"\n",
        "                               u\"\\u2600-\\u2B55\"\n",
        "                               u\"\\u200d\"\n",
        "                               u\"\\u23cf\"\n",
        "                               u\"\\u23e9\"\n",
        "                               u\"\\u231a\"\n",
        "                               u\"\\ufe0f\"  # dingbats\n",
        "                               u\"\\u3030\"\n",
        "                               \"]+\", flags=re.UNICODE)\n",
        "    return emoji_pattern.sub(r'', string)"
      ]
    },
    {
      "cell_type": "code",
      "execution_count": 15,
      "metadata": {
        "colab": {
          "base_uri": "https://localhost:8080/",
          "height": 302
        },
        "id": "SVxRzNTvhKyo",
        "outputId": "a36102dd-e68b-4ab2-f53d-746f660aea2a"
      },
      "outputs": [
        {
          "data": {
            "text/html": [
              "<div>\n",
              "<style scoped>\n",
              "    .dataframe tbody tr th:only-of-type {\n",
              "        vertical-align: middle;\n",
              "    }\n",
              "\n",
              "    .dataframe tbody tr th {\n",
              "        vertical-align: top;\n",
              "    }\n",
              "\n",
              "    .dataframe thead th {\n",
              "        text-align: right;\n",
              "    }\n",
              "</style>\n",
              "<table border=\"1\" class=\"dataframe\">\n",
              "  <thead>\n",
              "    <tr style=\"text-align: right;\">\n",
              "      <th></th>\n",
              "      <th>sentiment</th>\n",
              "      <th>text</th>\n",
              "      <th>text_parcial_clean</th>\n",
              "    </tr>\n",
              "  </thead>\n",
              "  <tbody>\n",
              "    <tr>\n",
              "      <th>0</th>\n",
              "      <td>2</td>\n",
              "      <td>que coisa linda O programa estava mostrando uma familia que adotou um adolescente de NUMBER anos que amor !</td>\n",
              "      <td>que coisa linda O programa estava mostrando uma familia que adotou um adolescente de  anos que amor !</td>\n",
              "    </tr>\n",
              "    <tr>\n",
              "      <th>1</th>\n",
              "      <td>2</td>\n",
              "      <td>por mais com as irmãs galvão adorei elas</td>\n",
              "      <td>por mais com as irmãs galvão adorei elas</td>\n",
              "    </tr>\n",
              "    <tr>\n",
              "      <th>2</th>\n",
              "      <td>2</td>\n",
              "      <td>mr CATRA USERNAME lançando sua nova música PPK CHORA no USERNAME k k k 👅 😉 #MrCatra #PpkChora</td>\n",
              "      <td>mr CATRA  lançando sua nova música PPK CHORA no  k k k   #MrCatra #PpkChora</td>\n",
              "    </tr>\n",
              "    <tr>\n",
              "      <th>3</th>\n",
              "      <td>1</td>\n",
              "      <td>quem viu aquela lutadora modela barbuda tatuada #MasterChefBR</td>\n",
              "      <td>quem viu aquela lutadora modela barbuda tatuada #MasterChefBR</td>\n",
              "    </tr>\n",
              "    <tr>\n",
              "      <th>4</th>\n",
              "      <td>0</td>\n",
              "      <td>tô passada com esse cara quanta merda pode sair da boca de alguém em alguns minutos 😠</td>\n",
              "      <td>tô passada com esse cara quanta merda pode sair da boca de alguém em alguns minutos</td>\n",
              "    </tr>\n",
              "  </tbody>\n",
              "</table>\n",
              "</div>"
            ],
            "text/plain": [
              "   sentiment  \\\n",
              "0          2   \n",
              "1          2   \n",
              "2          2   \n",
              "3          1   \n",
              "4          0   \n",
              "\n",
              "                                                                                                          text  \\\n",
              "0  que coisa linda O programa estava mostrando uma familia que adotou um adolescente de NUMBER anos que amor !   \n",
              "1                                                                     por mais com as irmãs galvão adorei elas   \n",
              "2                mr CATRA USERNAME lançando sua nova música PPK CHORA no USERNAME k k k 👅 😉 #MrCatra #PpkChora   \n",
              "3                                                quem viu aquela lutadora modela barbuda tatuada #MasterChefBR   \n",
              "4                        tô passada com esse cara quanta merda pode sair da boca de alguém em alguns minutos 😠   \n",
              "\n",
              "                                                                                      text_parcial_clean  \n",
              "0  que coisa linda O programa estava mostrando uma familia que adotou um adolescente de  anos que amor !  \n",
              "1                                                               por mais com as irmãs galvão adorei elas  \n",
              "2                            mr CATRA  lançando sua nova música PPK CHORA no  k k k   #MrCatra #PpkChora  \n",
              "3                                          quem viu aquela lutadora modela barbuda tatuada #MasterChefBR  \n",
              "4                   tô passada com esse cara quanta merda pode sair da boca de alguém em alguns minutos   "
            ]
          },
          "execution_count": 15,
          "metadata": {},
          "output_type": "execute_result"
        }
      ],
      "source": [
        "# aplicando a função de limpeza de dados:\n",
        "tweets_df['text_parcial_clean'] = [remove_emoji(i) for i in tweets_df['text_parcial_clean']]\n",
        "pd.set_option('display.max_colwidth', None) \n",
        "\n",
        "tweets_df.head()"
      ]
    },
    {
      "cell_type": "code",
      "execution_count": 16,
      "metadata": {
        "id": "4qDgmHl4RYIn"
      },
      "outputs": [],
      "source": [
        "# carregando os textos\n",
        "text = tweets_df['text']\n",
        "\n",
        "# carregando as classes\n",
        "sentiment = tweets_df['sentiment']\n",
        "\n",
        "# salvando em um dicionário\n",
        "data = [{ 'X': text, 'y': sentiment} for (text, sentiment) in zip(text, sentiment)] "
      ]
    },
    {
      "cell_type": "markdown",
      "metadata": {
        "id": "JCESPgia65w3"
      },
      "source": [
        "Separando os dados em conjunto de treino e teste"
      ]
    },
    {
      "cell_type": "code",
      "execution_count": 17,
      "metadata": {
        "colab": {
          "base_uri": "https://localhost:8080/"
        },
        "id": "LEvPIvcX65R7",
        "outputId": "ac11b43e-dc4b-492a-f4d1-3905214b9910"
      },
      "outputs": [
        {
          "data": {
            "text/plain": [
              "(12000, 3000)"
            ]
          },
          "execution_count": 17,
          "metadata": {},
          "output_type": "execute_result"
        }
      ],
      "source": [
        "size = int(len(data) * 0.2)\n",
        "treino = data[size:]\n",
        "teste = data[:size]\n",
        "\n",
        "len(treino), len(teste)"
      ]
    },
    {
      "cell_type": "markdown",
      "metadata": {
        "id": "aaORU_4_8uA6"
      },
      "source": [
        "Importando as dependências. Perceba que o tokenizador e modelo de classificação do BERTimbau são instanciados com os métodos `AutoTokenizer` e `AutoModelForSequenceClassification`. \n",
        "\n",
        "Para mais informações, consulte [este link](https://github.com/neuralmind-ai/portuguese-bert)."
      ]
    },
    {
      "cell_type": "code",
      "execution_count": 18,
      "metadata": {
        "colab": {
          "base_uri": "https://localhost:8080/"
        },
        "id": "85K8tVznEWGv",
        "outputId": "694bfbc9-c312-409d-ca45-29dae18fb711"
      },
      "outputs": [
        {
          "name": "stdout",
          "output_type": "stream",
          "text": [
            "Collecting transformers\n",
            "  Downloading transformers-4.21.3-py3-none-any.whl (4.7 MB)\n",
            "     ---------------------------------------- 4.7/4.7 MB 4.0 MB/s eta 0:00:00\n",
            "Collecting regex!=2019.12.17\n",
            "  Downloading regex-2022.9.13-cp39-cp39-win_amd64.whl (267 kB)\n",
            "     -------------------------------------- 267.7/267.7 kB 4.1 MB/s eta 0:00:00\n",
            "Collecting pyyaml>=5.1\n",
            "  Using cached PyYAML-6.0-cp39-cp39-win_amd64.whl (151 kB)\n",
            "Collecting filelock\n",
            "  Downloading filelock-3.8.0-py3-none-any.whl (10 kB)\n",
            "Collecting tokenizers!=0.11.3,<0.13,>=0.11.1\n",
            "  Using cached tokenizers-0.12.1-cp39-cp39-win_amd64.whl (3.3 MB)\n",
            "Requirement already satisfied: numpy>=1.17 in c:\\users\\alsvi\\notebooks\\analise_sent_twitter_bert-main\\venv\\lib\\site-packages (from transformers) (1.23.3)\n",
            "Collecting requests\n",
            "  Using cached requests-2.28.1-py3-none-any.whl (62 kB)\n",
            "Requirement already satisfied: packaging>=20.0 in c:\\users\\alsvi\\notebooks\\analise_sent_twitter_bert-main\\venv\\lib\\site-packages (from transformers) (21.3)\n",
            "Collecting huggingface-hub<1.0,>=0.1.0\n",
            "  Downloading huggingface_hub-0.9.1-py3-none-any.whl (120 kB)\n",
            "     -------------------------------------- 120.7/120.7 kB 2.4 MB/s eta 0:00:00\n",
            "Collecting tqdm>=4.27\n",
            "  Downloading tqdm-4.64.1-py2.py3-none-any.whl (78 kB)\n",
            "     ---------------------------------------- 78.5/78.5 kB 4.5 MB/s eta 0:00:00\n",
            "Collecting typing-extensions>=3.7.4.3\n",
            "  Using cached typing_extensions-4.3.0-py3-none-any.whl (25 kB)\n",
            "Requirement already satisfied: pyparsing!=3.0.5,>=2.0.2 in c:\\users\\alsvi\\notebooks\\analise_sent_twitter_bert-main\\venv\\lib\\site-packages (from packaging>=20.0->transformers) (3.0.9)\n",
            "Requirement already satisfied: colorama in c:\\users\\alsvi\\notebooks\\analise_sent_twitter_bert-main\\venv\\lib\\site-packages (from tqdm>=4.27->transformers) (0.4.5)\n",
            "Collecting idna<4,>=2.5\n",
            "  Downloading idna-3.4-py3-none-any.whl (61 kB)\n",
            "     ---------------------------------------- 61.5/61.5 kB 3.2 MB/s eta 0:00:00\n",
            "Collecting urllib3<1.27,>=1.21.1\n",
            "  Using cached urllib3-1.26.12-py2.py3-none-any.whl (140 kB)\n",
            "Collecting certifi>=2017.4.17\n",
            "  Downloading certifi-2022.6.15.2-py3-none-any.whl (160 kB)\n",
            "     -------------------------------------- 160.4/160.4 kB 3.2 MB/s eta 0:00:00\n",
            "Collecting charset-normalizer<3,>=2\n",
            "  Using cached charset_normalizer-2.1.1-py3-none-any.whl (39 kB)\n",
            "Installing collected packages: tokenizers, urllib3, typing-extensions, tqdm, regex, pyyaml, idna, filelock, charset-normalizer, certifi, requests, huggingface-hub, transformers\n",
            "Successfully installed certifi-2022.6.15.2 charset-normalizer-2.1.1 filelock-3.8.0 huggingface-hub-0.9.1 idna-3.4 pyyaml-6.0 regex-2022.9.13 requests-2.28.1 tokenizers-0.12.1 tqdm-4.64.1 transformers-4.21.3 typing-extensions-4.3.0 urllib3-1.26.12\n"
          ]
        }
      ],
      "source": [
        "!pip install transformers"
      ]
    },
    {
      "cell_type": "code",
      "execution_count": 21,
      "metadata": {
        "id": "D63q9uHS8tQa"
      },
      "outputs": [],
      "source": [
        "import os\n",
        "import torch\n",
        "import torch.nn as nn\n",
        "from torch import optim\n",
        "from transformers import AutoTokenizer, AutoModelForSequenceClassification\n",
        "from sklearn.metrics import accuracy_score, f1_score, classification_report"
      ]
    },
    {
      "cell_type": "markdown",
      "metadata": {
        "id": "BqhTjLyQ9Jor"
      },
      "source": [
        "### Escolhendo o tamanho da sequência\n",
        "\n",
        "O BERT trabalha com sequências de comprimento fixo. Usaremos uma estratégia simples para escolher o comprimento máximo. Vamos armazenar o tamanho do token de cada avaliação:"
      ]
    },
    {
      "cell_type": "code",
      "execution_count": 22,
      "metadata": {
        "colab": {
          "base_uri": "https://localhost:8080/"
        },
        "id": "X0ucKGAC88EM",
        "outputId": "89ce0295-3e0b-41de-aedf-ecdff26b845c"
      },
      "outputs": [
        {
          "name": "stderr",
          "output_type": "stream",
          "text": [
            "Truncation was not explicitly activated but `max_length` is provided a specific value, please use `truncation=True` to explicitly truncate examples to max length. Defaulting to 'longest_first' truncation strategy. If you encode pairs of sequences (GLUE-style) with the tokenizer you can select this strategy more precisely by providing a specific strategy to `truncation`.\n"
          ]
        }
      ],
      "source": [
        "tokenizer = AutoTokenizer.from_pretrained('neuralmind/bert-base-portuguese-cased', do_lower_case=False)\n",
        "\n",
        "token_lens = []\n",
        "\n",
        "for txt in tweets_df['text']:\n",
        "  tokens = tokenizer.encode(txt, max_length=512)\n",
        "  token_lens.append(len(tokens))"
      ]
    },
    {
      "cell_type": "code",
      "execution_count": 23,
      "metadata": {
        "colab": {
          "base_uri": "https://localhost:8080/"
        },
        "id": "9j4oRRnc-5GB",
        "outputId": "6004c9f1-e5e6-415b-a709-ac9b1f84ebb0"
      },
      "outputs": [
        {
          "data": {
            "text/plain": [
              "79"
            ]
          },
          "execution_count": 23,
          "metadata": {},
          "output_type": "execute_result"
        }
      ],
      "source": [
        "max(token_lens)"
      ]
    },
    {
      "cell_type": "markdown",
      "metadata": {
        "id": "s9xaeLrs-Kl2"
      },
      "source": [
        "Plotando a distribuição"
      ]
    },
    {
      "cell_type": "code",
      "execution_count": 24,
      "metadata": {
        "colab": {
          "base_uri": "https://localhost:8080/",
          "height": 399
        },
        "id": "k7nkmeao8uIz",
        "outputId": "d33cef4e-5e43-432d-ad99-9c4914a738ea"
      },
      "outputs": [
        {
          "data": {
            "text/plain": [
              "<Figure size 1000x500 with 0 Axes>"
            ]
          },
          "metadata": {},
          "output_type": "display_data"
        },
        {
          "data": {
            "image/png": "[encoded data removed]",
            "text/plain": [
              "<Figure size 500x500 with 1 Axes>"
            ]
          },
          "metadata": {
            "image/png": {
              "height": 509,
              "width": 499
            }
          },
          "output_type": "display_data"
        }
      ],
      "source": [
        "%matplotlib inline\n",
        "%config InlineBackend.figure_format='retina'\n",
        "\n",
        "plt.figure(figsize=(10, 5), dpi=100)\n",
        "sns.displot(data=token_lens, kde=True)\n",
        "plt.xlim([0, 90])\n",
        "plt.xlabel('Token count');"
      ]
    },
    {
      "cell_type": "markdown",
      "metadata": {
        "id": "4IvIo67_ABRU"
      },
      "source": [
        "O max length ficou igual a 79"
      ]
    },
    {
      "cell_type": "markdown",
      "metadata": {
        "id": "meNknNLN9S84"
      },
      "source": [
        "Instanciando parâmetros da rede neural"
      ]
    },
    {
      "cell_type": "code",
      "execution_count": 25,
      "metadata": {
        "id": "Yf62BH_5aLHw"
      },
      "outputs": [],
      "source": [
        "device = torch.device('cuda' if torch.cuda.is_available() else 'cpu')\n",
        "nclasses = 3\n",
        "nepochs = 4\n",
        "batch_size = 8\n",
        "batch_status = 32\n",
        "learning_rate = 2e-5\n",
        "early_stop = 2\n",
        "\n",
        "max_length = 128\n",
        "write_path = 'model'"
      ]
    },
    {
      "cell_type": "markdown",
      "metadata": {
        "id": "453hnpIY9dZy"
      },
      "source": [
        "Separando os dados em batches"
      ]
    },
    {
      "cell_type": "code",
      "execution_count": 26,
      "metadata": {
        "id": "080A6una9gA2"
      },
      "outputs": [],
      "source": [
        "from torch.utils.data import DataLoader\n",
        "\n",
        "traindata = DataLoader(treino, batch_size=batch_size, shuffle=True)\n",
        "testdata = DataLoader(teste, batch_size=batch_size, shuffle=True)"
      ]
    },
    {
      "cell_type": "markdown",
      "metadata": {
        "id": "_Bipocm69o1n"
      },
      "source": [
        "Inicilizando tokenizador, modelo, função de erro e otimizador:"
      ]
    },
    {
      "cell_type": "code",
      "execution_count": 27,
      "metadata": {
        "colab": {
          "base_uri": "https://localhost:8080/"
        },
        "id": "ny_tixSr9rDT",
        "outputId": "a9557798-f836-4236-e6a2-5c567b74d03f"
      },
      "outputs": [
        {
          "name": "stderr",
          "output_type": "stream",
          "text": [
            "Some weights of the model checkpoint at neuralmind/bert-base-portuguese-cased were not used when initializing BertForSequenceClassification: ['cls.predictions.transform.dense.bias', 'cls.predictions.transform.LayerNorm.bias', 'cls.predictions.bias', 'cls.predictions.transform.dense.weight', 'cls.seq_relationship.bias', 'cls.predictions.decoder.weight', 'cls.seq_relationship.weight', 'cls.predictions.transform.LayerNorm.weight']\n",
            "- This IS expected if you are initializing BertForSequenceClassification from the checkpoint of a model trained on another task or with another architecture (e.g. initializing a BertForSequenceClassification model from a BertForPreTraining model).\n",
            "- This IS NOT expected if you are initializing BertForSequenceClassification from the checkpoint of a model that you expect to be exactly identical (initializing a BertForSequenceClassification model from a BertForSequenceClassification model).\n",
            "Some weights of BertForSequenceClassification were not initialized from the model checkpoint at neuralmind/bert-base-portuguese-cased and are newly initialized: ['classifier.weight', 'classifier.bias']\n",
            "You should probably TRAIN this model on a down-stream task to be able to use it for predictions and inference.\n"
          ]
        }
      ],
      "source": [
        "# instanciando o tokenizador e o modelo\n",
        "tokenizer = AutoTokenizer.from_pretrained('neuralmind/bert-base-portuguese-cased', do_lower_case=False)\n",
        "model = AutoModelForSequenceClassification.from_pretrained('neuralmind/bert-base-portuguese-cased', num_labels=nclasses).to(device)\n",
        "\n",
        "optimizer = optim.AdamW(model.parameters(), lr=learning_rate)"
      ]
    },
    {
      "cell_type": "markdown",
      "metadata": {
        "id": "cCg2LD2D963l"
      },
      "source": [
        "Definindo método de avaliação"
      ]
    },
    {
      "cell_type": "code",
      "execution_count": 28,
      "metadata": {
        "id": "NLi_crXN993u"
      },
      "outputs": [],
      "source": [
        "def evaluate(model, testdata):\n",
        "  model.eval()\n",
        "  y_real, y_pred = [], []\n",
        "  for batch_idx, inp in enumerate(testdata):\n",
        "    texts, labels = inp['X'], inp['y']\n",
        "    \n",
        "    # classifying\n",
        "    inputs = tokenizer(texts, return_tensors='pt', padding=True, truncation=True, max_length=max_length).to(device)\n",
        "    output = model(**inputs)\n",
        "                \n",
        "    pred_labels = torch.argmax(output.logits, 1)\n",
        "    \n",
        "    y_real.extend(labels.tolist())\n",
        "    y_pred.extend(pred_labels.tolist())\n",
        "    \n",
        "    if (batch_idx+1) % batch_status == 0:\n",
        "      print('Progress:', round(batch_idx / len(testdata), 2), batch_idx)\n",
        "  \n",
        "  print(classification_report(y_real, y_pred, labels=[0, 1, 2], target_names=['Negative', 'Neutral', 'Positive']))\n",
        "  f1 = f1_score(y_real, y_pred, average='weighted')\n",
        "  acc = accuracy_score(y_real, y_pred)\n",
        "  return f1, acc"
      ]
    },
    {
      "cell_type": "markdown",
      "metadata": {
        "id": "FP2UYbYd-BmL"
      },
      "source": [
        "Treinamento"
      ]
    },
    {
      "cell_type": "code",
      "execution_count": 29,
      "metadata": {
        "colab": {
          "base_uri": "https://localhost:8080/"
        },
        "id": "oXq1TCZ8-FYR",
        "outputId": "5ffbc243-6629-4047-84b9-b6b164eab128"
      },
      "outputs": [
        {
          "name": "stdout",
          "output_type": "stream",
          "text": [
            "Progress: 0.08 31\n",
            "Progress: 0.17 63\n",
            "Progress: 0.25 95\n",
            "Progress: 0.34 127\n",
            "Progress: 0.42 159\n",
            "Progress: 0.51 191\n",
            "Progress: 0.59 223\n",
            "Progress: 0.68 255\n",
            "Progress: 0.77 287\n",
            "Progress: 0.85 319\n",
            "Progress: 0.94 351\n",
            "              precision    recall  f1-score   support\n",
            "\n",
            "    Negative       0.31      0.99      0.47       920\n",
            "     Neutral       0.33      0.02      0.03       620\n",
            "    Positive       0.17      0.00      0.00      1460\n",
            "\n",
            "    accuracy                           0.31      3000\n",
            "   macro avg       0.27      0.33      0.17      3000\n",
            "weighted avg       0.24      0.31      0.15      3000\n",
            "\n",
            "Train Epoch: 0 [32/1500 (2%)]\tLoss: 0.949912\tTotal Loss: 1.064410\n",
            "Train Epoch: 0 [64/1500 (4%)]\tLoss: 0.486323\tTotal Loss: 1.005990\n",
            "Train Epoch: 0 [96/1500 (6%)]\tLoss: 0.674527\tTotal Loss: 0.929750\n",
            "Train Epoch: 0 [128/1500 (8%)]\tLoss: 0.960153\tTotal Loss: 0.905140\n",
            "Train Epoch: 0 [160/1500 (11%)]\tLoss: 0.937442\tTotal Loss: 0.869420\n",
            "Train Epoch: 0 [192/1500 (13%)]\tLoss: 0.589224\tTotal Loss: 0.850570\n",
            "Train Epoch: 0 [224/1500 (15%)]\tLoss: 0.956996\tTotal Loss: 0.838970\n",
            "Train Epoch: 0 [256/1500 (17%)]\tLoss: 0.522961\tTotal Loss: 0.838340\n",
            "Train Epoch: 0 [288/1500 (19%)]\tLoss: 0.777270\tTotal Loss: 0.826450\n",
            "Train Epoch: 0 [320/1500 (21%)]\tLoss: 0.480324\tTotal Loss: 0.819390\n",
            "Train Epoch: 0 [352/1500 (23%)]\tLoss: 0.752144\tTotal Loss: 0.811300\n",
            "Train Epoch: 0 [384/1500 (26%)]\tLoss: 0.481145\tTotal Loss: 0.800760\n",
            "Train Epoch: 0 [416/1500 (28%)]\tLoss: 0.582425\tTotal Loss: 0.795660\n",
            "Train Epoch: 0 [448/1500 (30%)]\tLoss: 0.688112\tTotal Loss: 0.795860\n",
            "Train Epoch: 0 [480/1500 (32%)]\tLoss: 0.217094\tTotal Loss: 0.788140\n",
            "Train Epoch: 0 [512/1500 (34%)]\tLoss: 0.392303\tTotal Loss: 0.783580\n",
            "Train Epoch: 0 [544/1500 (36%)]\tLoss: 0.625930\tTotal Loss: 0.779440\n",
            "Train Epoch: 0 [576/1500 (38%)]\tLoss: 0.639073\tTotal Loss: 0.781140\n",
            "Train Epoch: 0 [608/1500 (40%)]\tLoss: 0.814101\tTotal Loss: 0.775100\n",
            "Train Epoch: 0 [640/1500 (43%)]\tLoss: 0.382545\tTotal Loss: 0.772850\n",
            "Train Epoch: 0 [672/1500 (45%)]\tLoss: 0.758027\tTotal Loss: 0.770200\n",
            "Train Epoch: 0 [704/1500 (47%)]\tLoss: 0.559730\tTotal Loss: 0.765150\n",
            "Train Epoch: 0 [736/1500 (49%)]\tLoss: 0.782111\tTotal Loss: 0.761260\n",
            "Train Epoch: 0 [768/1500 (51%)]\tLoss: 0.482203\tTotal Loss: 0.760150\n",
            "Train Epoch: 0 [800/1500 (53%)]\tLoss: 0.872769\tTotal Loss: 0.758910\n",
            "Train Epoch: 0 [832/1500 (55%)]\tLoss: 0.498859\tTotal Loss: 0.754500\n",
            "Train Epoch: 0 [864/1500 (58%)]\tLoss: 0.633327\tTotal Loss: 0.752750\n",
            "Train Epoch: 0 [896/1500 (60%)]\tLoss: 0.776393\tTotal Loss: 0.750690\n",
            "Train Epoch: 0 [928/1500 (62%)]\tLoss: 0.648386\tTotal Loss: 0.747720\n",
            "Train Epoch: 0 [960/1500 (64%)]\tLoss: 0.457383\tTotal Loss: 0.746920\n",
            "Train Epoch: 0 [992/1500 (66%)]\tLoss: 0.626162\tTotal Loss: 0.745290\n",
            "Train Epoch: 0 [1024/1500 (68%)]\tLoss: 0.732485\tTotal Loss: 0.742760\n",
            "Train Epoch: 0 [1056/1500 (70%)]\tLoss: 1.014609\tTotal Loss: 0.744140\n",
            "Train Epoch: 0 [1088/1500 (72%)]\tLoss: 0.613627\tTotal Loss: 0.741580\n",
            "Train Epoch: 0 [1120/1500 (75%)]\tLoss: 0.592707\tTotal Loss: 0.739570\n",
            "Train Epoch: 0 [1152/1500 (77%)]\tLoss: 0.764117\tTotal Loss: 0.737170\n",
            "Train Epoch: 0 [1184/1500 (79%)]\tLoss: 0.901111\tTotal Loss: 0.735550\n",
            "Train Epoch: 0 [1216/1500 (81%)]\tLoss: 0.908323\tTotal Loss: 0.735430\n",
            "Train Epoch: 0 [1248/1500 (83%)]\tLoss: 0.872678\tTotal Loss: 0.732740\n",
            "Train Epoch: 0 [1280/1500 (85%)]\tLoss: 0.407380\tTotal Loss: 0.729840\n",
            "Train Epoch: 0 [1312/1500 (87%)]\tLoss: 0.682120\tTotal Loss: 0.728660\n",
            "Train Epoch: 0 [1344/1500 (90%)]\tLoss: 0.724055\tTotal Loss: 0.727220\n",
            "Train Epoch: 0 [1376/1500 (92%)]\tLoss: 0.303970\tTotal Loss: 0.723730\n",
            "Train Epoch: 0 [1408/1500 (94%)]\tLoss: 0.670781\tTotal Loss: 0.719630\n",
            "Train Epoch: 0 [1440/1500 (96%)]\tLoss: 1.129206\tTotal Loss: 0.717970\n",
            "Train Epoch: 0 [1472/1500 (98%)]\tLoss: 0.419141\tTotal Loss: 0.717260\n",
            "Progress: 0.08 31\n",
            "Progress: 0.17 63\n",
            "Progress: 0.25 95\n",
            "Progress: 0.34 127\n",
            "Progress: 0.42 159\n",
            "Progress: 0.51 191\n",
            "Progress: 0.59 223\n",
            "Progress: 0.68 255\n",
            "Progress: 0.77 287\n",
            "Progress: 0.85 319\n",
            "Progress: 0.94 351\n",
            "              precision    recall  f1-score   support\n",
            "\n",
            "    Negative       0.67      0.80      0.73       920\n",
            "     Neutral       0.50      0.46      0.48       620\n",
            "    Positive       0.84      0.76      0.80      1460\n",
            "\n",
            "    accuracy                           0.71      3000\n",
            "   macro avg       0.67      0.67      0.67      3000\n",
            "weighted avg       0.72      0.71      0.71      3000\n",
            "\n",
            "F1:  0.7115945948297796 Accuracy:  0.712\n",
            "Saving best model...\n",
            "Progress: 0.08 31\n",
            "Progress: 0.17 63\n",
            "Progress: 0.25 95\n",
            "Progress: 0.34 127\n",
            "Progress: 0.42 159\n",
            "Progress: 0.51 191\n",
            "Progress: 0.59 223\n",
            "Progress: 0.68 255\n",
            "Progress: 0.77 287\n",
            "Progress: 0.85 319\n",
            "Progress: 0.94 351\n",
            "              precision    recall  f1-score   support\n",
            "\n",
            "    Negative       0.67      0.80      0.73       920\n",
            "     Neutral       0.50      0.46      0.48       620\n",
            "    Positive       0.84      0.76      0.80      1460\n",
            "\n",
            "    accuracy                           0.71      3000\n",
            "   macro avg       0.67      0.67      0.67      3000\n",
            "weighted avg       0.72      0.71      0.71      3000\n",
            "\n",
            "Train Epoch: 1 [32/1500 (2%)]\tLoss: 0.099741\tTotal Loss: 0.474270\n",
            "Train Epoch: 1 [64/1500 (4%)]\tLoss: 0.955963\tTotal Loss: 0.455330\n",
            "Train Epoch: 1 [96/1500 (6%)]\tLoss: 0.626090\tTotal Loss: 0.445890\n",
            "Train Epoch: 1 [128/1500 (8%)]\tLoss: 0.096975\tTotal Loss: 0.431610\n",
            "Train Epoch: 1 [160/1500 (11%)]\tLoss: 0.533095\tTotal Loss: 0.411230\n",
            "Train Epoch: 1 [192/1500 (13%)]\tLoss: 0.166980\tTotal Loss: 0.408390\n",
            "Train Epoch: 1 [224/1500 (15%)]\tLoss: 0.612991\tTotal Loss: 0.415950\n",
            "Train Epoch: 1 [256/1500 (17%)]\tLoss: 0.231140\tTotal Loss: 0.408600\n",
            "Train Epoch: 1 [288/1500 (19%)]\tLoss: 0.455494\tTotal Loss: 0.414650\n",
            "Train Epoch: 1 [320/1500 (21%)]\tLoss: 0.184209\tTotal Loss: 0.406230\n",
            "Train Epoch: 1 [352/1500 (23%)]\tLoss: 0.582089\tTotal Loss: 0.398900\n",
            "Train Epoch: 1 [384/1500 (26%)]\tLoss: 0.970943\tTotal Loss: 0.402020\n",
            "Train Epoch: 1 [416/1500 (28%)]\tLoss: 0.786116\tTotal Loss: 0.412140\n",
            "Train Epoch: 1 [448/1500 (30%)]\tLoss: 0.181373\tTotal Loss: 0.415170\n",
            "Train Epoch: 1 [480/1500 (32%)]\tLoss: 0.467624\tTotal Loss: 0.417010\n",
            "Train Epoch: 1 [512/1500 (34%)]\tLoss: 0.200371\tTotal Loss: 0.421610\n",
            "Train Epoch: 1 [544/1500 (36%)]\tLoss: 0.319421\tTotal Loss: 0.422440\n",
            "Train Epoch: 1 [576/1500 (38%)]\tLoss: 0.572097\tTotal Loss: 0.419820\n",
            "Train Epoch: 1 [608/1500 (40%)]\tLoss: 0.162153\tTotal Loss: 0.423040\n",
            "Train Epoch: 1 [640/1500 (43%)]\tLoss: 0.302290\tTotal Loss: 0.419640\n",
            "Train Epoch: 1 [672/1500 (45%)]\tLoss: 0.806690\tTotal Loss: 0.422940\n",
            "Train Epoch: 1 [704/1500 (47%)]\tLoss: 0.638463\tTotal Loss: 0.423030\n",
            "Train Epoch: 1 [736/1500 (49%)]\tLoss: 0.033645\tTotal Loss: 0.420230\n",
            "Train Epoch: 1 [768/1500 (51%)]\tLoss: 0.033428\tTotal Loss: 0.418900\n",
            "Train Epoch: 1 [800/1500 (53%)]\tLoss: 0.296874\tTotal Loss: 0.423530\n",
            "Train Epoch: 1 [832/1500 (55%)]\tLoss: 0.270667\tTotal Loss: 0.424070\n",
            "Train Epoch: 1 [864/1500 (58%)]\tLoss: 0.490452\tTotal Loss: 0.426620\n",
            "Train Epoch: 1 [896/1500 (60%)]\tLoss: 0.583308\tTotal Loss: 0.426450\n",
            "Train Epoch: 1 [928/1500 (62%)]\tLoss: 0.570445\tTotal Loss: 0.427920\n",
            "Train Epoch: 1 [960/1500 (64%)]\tLoss: 0.415259\tTotal Loss: 0.429030\n",
            "Train Epoch: 1 [992/1500 (66%)]\tLoss: 0.383008\tTotal Loss: 0.428670\n",
            "Train Epoch: 1 [1024/1500 (68%)]\tLoss: 0.317279\tTotal Loss: 0.427930\n",
            "Train Epoch: 1 [1056/1500 (70%)]\tLoss: 0.413187\tTotal Loss: 0.427670\n",
            "Train Epoch: 1 [1088/1500 (72%)]\tLoss: 0.314095\tTotal Loss: 0.427220\n",
            "Train Epoch: 1 [1120/1500 (75%)]\tLoss: 0.361139\tTotal Loss: 0.428290\n",
            "Train Epoch: 1 [1152/1500 (77%)]\tLoss: 0.785175\tTotal Loss: 0.430590\n",
            "Train Epoch: 1 [1184/1500 (79%)]\tLoss: 0.349547\tTotal Loss: 0.430150\n",
            "Train Epoch: 1 [1216/1500 (81%)]\tLoss: 0.185007\tTotal Loss: 0.429730\n",
            "Train Epoch: 1 [1248/1500 (83%)]\tLoss: 1.288625\tTotal Loss: 0.430730\n",
            "Train Epoch: 1 [1280/1500 (85%)]\tLoss: 0.686297\tTotal Loss: 0.432170\n",
            "Train Epoch: 1 [1312/1500 (87%)]\tLoss: 0.360105\tTotal Loss: 0.432640\n",
            "Train Epoch: 1 [1344/1500 (90%)]\tLoss: 0.172128\tTotal Loss: 0.430820\n",
            "Train Epoch: 1 [1376/1500 (92%)]\tLoss: 0.347666\tTotal Loss: 0.430520\n",
            "Train Epoch: 1 [1408/1500 (94%)]\tLoss: 0.097565\tTotal Loss: 0.429710\n",
            "Train Epoch: 1 [1440/1500 (96%)]\tLoss: 0.263728\tTotal Loss: 0.430150\n",
            "Train Epoch: 1 [1472/1500 (98%)]\tLoss: 0.291258\tTotal Loss: 0.429080\n",
            "Progress: 0.08 31\n",
            "Progress: 0.17 63\n",
            "Progress: 0.25 95\n",
            "Progress: 0.34 127\n",
            "Progress: 0.42 159\n",
            "Progress: 0.51 191\n",
            "Progress: 0.59 223\n",
            "Progress: 0.68 255\n",
            "Progress: 0.77 287\n",
            "Progress: 0.85 319\n",
            "Progress: 0.94 351\n",
            "              precision    recall  f1-score   support\n",
            "\n",
            "    Negative       0.70      0.73      0.71       920\n",
            "     Neutral       0.45      0.55      0.49       620\n",
            "    Positive       0.84      0.73      0.78      1460\n",
            "\n",
            "    accuracy                           0.69      3000\n",
            "   macro avg       0.66      0.67      0.66      3000\n",
            "weighted avg       0.72      0.69      0.70      3000\n",
            "\n",
            "F1:  0.7026193123429524 Accuracy:  0.695\n",
            "Progress: 0.08 31\n",
            "Progress: 0.17 63\n",
            "Progress: 0.25 95\n",
            "Progress: 0.34 127\n",
            "Progress: 0.42 159\n",
            "Progress: 0.51 191\n",
            "Progress: 0.59 223\n",
            "Progress: 0.68 255\n",
            "Progress: 0.77 287\n",
            "Progress: 0.85 319\n",
            "Progress: 0.94 351\n",
            "              precision    recall  f1-score   support\n",
            "\n",
            "    Negative       0.70      0.73      0.71       920\n",
            "     Neutral       0.45      0.55      0.49       620\n",
            "    Positive       0.84      0.73      0.78      1460\n",
            "\n",
            "    accuracy                           0.69      3000\n",
            "   macro avg       0.66      0.67      0.66      3000\n",
            "weighted avg       0.72      0.69      0.70      3000\n",
            "\n",
            "Train Epoch: 2 [32/1500 (2%)]\tLoss: 0.044136\tTotal Loss: 0.165030\n",
            "Train Epoch: 2 [64/1500 (4%)]\tLoss: 0.019568\tTotal Loss: 0.169890\n",
            "Train Epoch: 2 [96/1500 (6%)]\tLoss: 0.039092\tTotal Loss: 0.154100\n",
            "Train Epoch: 2 [128/1500 (8%)]\tLoss: 0.116358\tTotal Loss: 0.152200\n",
            "Train Epoch: 2 [160/1500 (11%)]\tLoss: 0.015479\tTotal Loss: 0.150080\n",
            "Train Epoch: 2 [192/1500 (13%)]\tLoss: 0.106879\tTotal Loss: 0.150610\n",
            "Train Epoch: 2 [224/1500 (15%)]\tLoss: 0.188029\tTotal Loss: 0.153800\n",
            "Train Epoch: 2 [256/1500 (17%)]\tLoss: 0.432625\tTotal Loss: 0.161820\n",
            "Train Epoch: 2 [288/1500 (19%)]\tLoss: 0.163341\tTotal Loss: 0.161420\n",
            "Train Epoch: 2 [320/1500 (21%)]\tLoss: 0.019028\tTotal Loss: 0.155500\n",
            "Train Epoch: 2 [352/1500 (23%)]\tLoss: 0.016075\tTotal Loss: 0.149880\n",
            "Train Epoch: 2 [384/1500 (26%)]\tLoss: 0.049124\tTotal Loss: 0.152430\n",
            "Train Epoch: 2 [416/1500 (28%)]\tLoss: 0.043038\tTotal Loss: 0.153240\n",
            "Train Epoch: 2 [448/1500 (30%)]\tLoss: 0.302447\tTotal Loss: 0.156310\n",
            "Train Epoch: 2 [480/1500 (32%)]\tLoss: 0.085587\tTotal Loss: 0.156820\n",
            "Train Epoch: 2 [512/1500 (34%)]\tLoss: 0.030635\tTotal Loss: 0.155150\n",
            "Train Epoch: 2 [544/1500 (36%)]\tLoss: 0.014001\tTotal Loss: 0.154900\n",
            "Train Epoch: 2 [576/1500 (38%)]\tLoss: 0.074210\tTotal Loss: 0.158200\n",
            "Train Epoch: 2 [608/1500 (40%)]\tLoss: 0.042285\tTotal Loss: 0.158020\n",
            "Train Epoch: 2 [640/1500 (43%)]\tLoss: 0.013416\tTotal Loss: 0.156680\n",
            "Train Epoch: 2 [672/1500 (45%)]\tLoss: 0.144385\tTotal Loss: 0.155430\n",
            "Train Epoch: 2 [704/1500 (47%)]\tLoss: 0.037440\tTotal Loss: 0.157510\n",
            "Train Epoch: 2 [736/1500 (49%)]\tLoss: 0.149090\tTotal Loss: 0.157530\n",
            "Train Epoch: 2 [768/1500 (51%)]\tLoss: 0.014541\tTotal Loss: 0.158670\n",
            "Train Epoch: 2 [800/1500 (53%)]\tLoss: 0.028301\tTotal Loss: 0.157130\n",
            "Train Epoch: 2 [832/1500 (55%)]\tLoss: 0.102240\tTotal Loss: 0.158190\n",
            "Train Epoch: 2 [864/1500 (58%)]\tLoss: 0.017258\tTotal Loss: 0.156730\n",
            "Train Epoch: 2 [896/1500 (60%)]\tLoss: 0.104729\tTotal Loss: 0.155710\n",
            "Train Epoch: 2 [928/1500 (62%)]\tLoss: 0.048842\tTotal Loss: 0.155080\n",
            "Train Epoch: 2 [960/1500 (64%)]\tLoss: 0.142238\tTotal Loss: 0.157510\n",
            "Train Epoch: 2 [992/1500 (66%)]\tLoss: 0.073365\tTotal Loss: 0.156730\n",
            "Train Epoch: 2 [1024/1500 (68%)]\tLoss: 0.338533\tTotal Loss: 0.155480\n",
            "Train Epoch: 2 [1056/1500 (70%)]\tLoss: 0.018697\tTotal Loss: 0.155140\n",
            "Train Epoch: 2 [1088/1500 (72%)]\tLoss: 1.369423\tTotal Loss: 0.158690\n",
            "Train Epoch: 2 [1120/1500 (75%)]\tLoss: 0.419897\tTotal Loss: 0.159460\n",
            "Train Epoch: 2 [1152/1500 (77%)]\tLoss: 0.118081\tTotal Loss: 0.160520\n",
            "Train Epoch: 2 [1184/1500 (79%)]\tLoss: 0.033399\tTotal Loss: 0.162520\n",
            "Train Epoch: 2 [1216/1500 (81%)]\tLoss: 0.057168\tTotal Loss: 0.163970\n",
            "Train Epoch: 2 [1248/1500 (83%)]\tLoss: 0.027429\tTotal Loss: 0.163620\n",
            "Train Epoch: 2 [1280/1500 (85%)]\tLoss: 0.549392\tTotal Loss: 0.163330\n",
            "Train Epoch: 2 [1312/1500 (87%)]\tLoss: 0.005072\tTotal Loss: 0.163010\n",
            "Train Epoch: 2 [1344/1500 (90%)]\tLoss: 0.531779\tTotal Loss: 0.162370\n",
            "Train Epoch: 2 [1376/1500 (92%)]\tLoss: 0.270186\tTotal Loss: 0.164640\n",
            "Train Epoch: 2 [1408/1500 (94%)]\tLoss: 0.011754\tTotal Loss: 0.163680\n",
            "Train Epoch: 2 [1440/1500 (96%)]\tLoss: 0.080560\tTotal Loss: 0.163380\n",
            "Train Epoch: 2 [1472/1500 (98%)]\tLoss: 0.274385\tTotal Loss: 0.163510\n",
            "Progress: 0.08 31\n",
            "Progress: 0.17 63\n",
            "Progress: 0.25 95\n",
            "Progress: 0.34 127\n",
            "Progress: 0.42 159\n",
            "Progress: 0.51 191\n",
            "Progress: 0.59 223\n",
            "Progress: 0.68 255\n",
            "Progress: 0.77 287\n",
            "Progress: 0.85 319\n",
            "Progress: 0.94 351\n",
            "              precision    recall  f1-score   support\n",
            "\n",
            "    Negative       0.71      0.65      0.68       920\n",
            "     Neutral       0.41      0.68      0.51       620\n",
            "    Positive       0.88      0.67      0.76      1460\n",
            "\n",
            "    accuracy                           0.67      3000\n",
            "   macro avg       0.66      0.67      0.65      3000\n",
            "weighted avg       0.73      0.67      0.68      3000\n",
            "\n",
            "F1:  0.6817660040592081 Accuracy:  0.6653333333333333\n"
          ]
        }
      ],
      "source": [
        "max_f1, repeat = 0, 0\n",
        "for epoch in range(nepochs):\n",
        "  model.train()\n",
        "  f1, acc = evaluate(model, testdata)\n",
        "  losses = []\n",
        "  for batch_idx, inp in enumerate(traindata):\n",
        "    texts, labels = inp['X'], inp['y']\n",
        "\n",
        "    # classifying\n",
        "    inputs = tokenizer(texts, return_tensors='pt', padding=True, truncation=True, max_length=max_length).to(device)\n",
        "    output = model(**inputs, labels=labels.to(device))\n",
        "\n",
        "    # Calculate loss\n",
        "    loss = output.loss\n",
        "    losses.append(float(loss))\n",
        "\n",
        "    # Backpropagation\n",
        "    loss.backward()\n",
        "    optimizer.step()\n",
        "    optimizer.zero_grad()\n",
        "\n",
        "    # Display\n",
        "    if (batch_idx+1) % batch_status == 0:\n",
        "      print('Train Epoch: {} [{}/{} ({:.0f}%)]\\tLoss: {:.6f}\\tTotal Loss: {:.6f}'.format(epoch, \\\n",
        "        batch_idx+1, len(traindata), 100. * batch_idx / len(traindata), \n",
        "        float(loss), round(sum(losses) / len(losses), 5)))\n",
        "  \n",
        "  f1, acc = evaluate(model, testdata)\n",
        "  print('F1: ', f1, 'Accuracy: ', acc)\n",
        "  if f1 > max_f1:\n",
        "    model.save_pretrained(os.path.join(write_path, 'model'))\n",
        "    max_f1 = f1\n",
        "    repeat = 0\n",
        "    print('Saving best model...')\n",
        "  else:\n",
        "    repeat += 1\n",
        "  \n",
        "  if repeat == early_stop:\n",
        "    break"
      ]
    }
  ],
  "metadata": {
    "accelerator": "GPU",
    "colab": {
      "collapsed_sections": [],
      "name": "TCC_BERTimbau_analise_de_sentimento_lematizacao.ipynb",
      "provenance": []
    },
    "gpuClass": "standard",
    "kernelspec": {
      "display_name": "Python 3.9.4 ('venv': venv)",
      "language": "python",
      "name": "python3"
    },
    "language_info": {
      "codemirror_mode": {
        "name": "ipython",
        "version": 3
      },
      "file_extension": ".py",
      "mimetype": "text/x-python",
      "name": "python",
      "nbconvert_exporter": "python",
      "pygments_lexer": "ipython3",
      "version": "3.9.4"
    },
    "vscode": {
      "interpreter": {
        "hash": "ff82ce02d43606d4b2f59641f6fbdbfb71f6311f00c4cbdce9f8724111417d32"
      }
    }
  },
  "nbformat": 4,
  "nbformat_minor": 0
}
