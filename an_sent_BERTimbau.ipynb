{
  "cells": [
    {
      "cell_type": "markdown",
      "metadata": {
        "id": "8Rq50uNgNtob"
      },
      "source": [
        "# Análise de sentimento do Twitter (dataset tweetSentBR) com BERTimbau\n"
      ]
    },
    {
      "cell_type": "markdown",
      "metadata": {
        "id": "SYUE2JcFwjlN"
      },
      "source": [
        "# Modelos de Linguagem Neurais Pré-treinados\n",
        "\n",
        "Modelos Neurais estado-da-arte são baseados na arquitetura Transformer e têm todos seus parâmetros pré-treinados com base em tarefas genéricas. Sendo assim, estes modelo só precisam ser refinados (*fine-tuned*) numa tarefa específica.\n",
        "\n",
        "Vamos ver algumas aplicações de modelos pré-treinados utilizando a bibliotega [HuggingFace](https://huggingface.co/)\n"
      ]
    },
    {
      "cell_type": "markdown",
      "metadata": {
        "id": "CAca-Nfqw0R5"
      },
      "source": [
        "## Classificação de Texto\n",
        "\n",
        "Vamos refinar a arquitetura BERTimbau, versão em Português do BERT, numa tarefa de classificação onde uma revisão de produto será classificada em **Positiva**, **Neutra** ou **Negativa**."
      ]
    },
    {
      "cell_type": "markdown",
      "metadata": {
        "id": "IyivGtlnxvvC"
      },
      "source": [
        "# Preparando o córpus"
      ]
    },
    {
      "cell_type": "code",
      "execution_count": 1,
      "metadata": {
        "id": "qaz9Y6Ug5K9J"
      },
      "outputs": [],
      "source": [
        "import pandas as pd\n",
        "import matplotlib.pyplot as plt\n",
        "import seaborn as sns\n",
        "\n",
        "tweets_df = pd.read_csv('https://www.dropbox.com/s/kvf25yvk7wd75a4/tweetSentBR.csv?dl=1') "
      ]
    },
    {
      "cell_type": "code",
      "execution_count": 2,
      "metadata": {
        "colab": {
          "base_uri": "https://localhost:8080/",
          "height": 206
        },
        "id": "pUxqSGx95dkc",
        "outputId": "79a1b034-2b67-46b7-ee58-60c5a1aa5460"
      },
      "outputs": [
        {
          "output_type": "execute_result",
          "data": {
            "text/plain": [
              "                   id        hashtag                         votes  hard  \\\n",
              "0  863044774588272640      #encontro         [1, 1, 1, 1, 1, 1, 1]     0   \n",
              "1  865583716088766464      #encontro         [1, 1, 1, 1, 1, 1, 1]     0   \n",
              "2  865063232201011200      #TheNoite         [1, 0, 1, 1, 1, 0, 0]     2   \n",
              "3  864668391008763904  #masterchefbr         [0, 0, 0, 0, 0, 0, 0]     0   \n",
              "4  865572794016378880      #encontro  [-1, -1, -1, -1, -1, -1, -1]     0   \n",
              "\n",
              "  sentiment group                                               text  repeat  \n",
              "0         1  test  que coisa linda O programa estava mostrando um...   False  \n",
              "1         1  test           por mais com as irmãs galvão adorei elas   False  \n",
              "2         1  test  mr CATRA USERNAME lançando sua nova música PPK...   False  \n",
              "3         0  test  quem viu aquela lutadora modela barbuda tatuad...   False  \n",
              "4        -1  test  tô passada com esse cara quanta merda pode sai...   False  "
            ],
            "text/html": [
              "\n",
              "  <div id=\"df-0bc87f1b-2a8b-41d5-9783-12484d837d04\">\n",
              "    <div class=\"colab-df-container\">\n",
              "      <div>\n",
              "<style scoped>\n",
              "    .dataframe tbody tr th:only-of-type {\n",
              "        vertical-align: middle;\n",
              "    }\n",
              "\n",
              "    .dataframe tbody tr th {\n",
              "        vertical-align: top;\n",
              "    }\n",
              "\n",
              "    .dataframe thead th {\n",
              "        text-align: right;\n",
              "    }\n",
              "</style>\n",
              "<table border=\"1\" class=\"dataframe\">\n",
              "  <thead>\n",
              "    <tr style=\"text-align: right;\">\n",
              "      <th></th>\n",
              "      <th>id</th>\n",
              "      <th>hashtag</th>\n",
              "      <th>votes</th>\n",
              "      <th>hard</th>\n",
              "      <th>sentiment</th>\n",
              "      <th>group</th>\n",
              "      <th>text</th>\n",
              "      <th>repeat</th>\n",
              "    </tr>\n",
              "  </thead>\n",
              "  <tbody>\n",
              "    <tr>\n",
              "      <th>0</th>\n",
              "      <td>863044774588272640</td>\n",
              "      <td>#encontro</td>\n",
              "      <td>[1, 1, 1, 1, 1, 1, 1]</td>\n",
              "      <td>0</td>\n",
              "      <td>1</td>\n",
              "      <td>test</td>\n",
              "      <td>que coisa linda O programa estava mostrando um...</td>\n",
              "      <td>False</td>\n",
              "    </tr>\n",
              "    <tr>\n",
              "      <th>1</th>\n",
              "      <td>865583716088766464</td>\n",
              "      <td>#encontro</td>\n",
              "      <td>[1, 1, 1, 1, 1, 1, 1]</td>\n",
              "      <td>0</td>\n",
              "      <td>1</td>\n",
              "      <td>test</td>\n",
              "      <td>por mais com as irmãs galvão adorei elas</td>\n",
              "      <td>False</td>\n",
              "    </tr>\n",
              "    <tr>\n",
              "      <th>2</th>\n",
              "      <td>865063232201011200</td>\n",
              "      <td>#TheNoite</td>\n",
              "      <td>[1, 0, 1, 1, 1, 0, 0]</td>\n",
              "      <td>2</td>\n",
              "      <td>1</td>\n",
              "      <td>test</td>\n",
              "      <td>mr CATRA USERNAME lançando sua nova música PPK...</td>\n",
              "      <td>False</td>\n",
              "    </tr>\n",
              "    <tr>\n",
              "      <th>3</th>\n",
              "      <td>864668391008763904</td>\n",
              "      <td>#masterchefbr</td>\n",
              "      <td>[0, 0, 0, 0, 0, 0, 0]</td>\n",
              "      <td>0</td>\n",
              "      <td>0</td>\n",
              "      <td>test</td>\n",
              "      <td>quem viu aquela lutadora modela barbuda tatuad...</td>\n",
              "      <td>False</td>\n",
              "    </tr>\n",
              "    <tr>\n",
              "      <th>4</th>\n",
              "      <td>865572794016378880</td>\n",
              "      <td>#encontro</td>\n",
              "      <td>[-1, -1, -1, -1, -1, -1, -1]</td>\n",
              "      <td>0</td>\n",
              "      <td>-1</td>\n",
              "      <td>test</td>\n",
              "      <td>tô passada com esse cara quanta merda pode sai...</td>\n",
              "      <td>False</td>\n",
              "    </tr>\n",
              "  </tbody>\n",
              "</table>\n",
              "</div>\n",
              "      <button class=\"colab-df-convert\" onclick=\"convertToInteractive('df-0bc87f1b-2a8b-41d5-9783-12484d837d04')\"\n",
              "              title=\"Convert this dataframe to an interactive table.\"\n",
              "              style=\"display:none;\">\n",
              "        \n",
              "  <svg xmlns=\"http://www.w3.org/2000/svg\" height=\"24px\"viewBox=\"0 0 24 24\"\n",
              "       width=\"24px\">\n",
              "    <path d=\"M0 0h24v24H0V0z\" fill=\"none\"/>\n",
              "    <path d=\"M18.56 5.44l.94 2.06.94-2.06 2.06-.94-2.06-.94-.94-2.06-.94 2.06-2.06.94zm-11 1L8.5 8.5l.94-2.06 2.06-.94-2.06-.94L8.5 2.5l-.94 2.06-2.06.94zm10 10l.94 2.06.94-2.06 2.06-.94-2.06-.94-.94-2.06-.94 2.06-2.06.94z\"/><path d=\"M17.41 7.96l-1.37-1.37c-.4-.4-.92-.59-1.43-.59-.52 0-1.04.2-1.43.59L10.3 9.45l-7.72 7.72c-.78.78-.78 2.05 0 2.83L4 21.41c.39.39.9.59 1.41.59.51 0 1.02-.2 1.41-.59l7.78-7.78 2.81-2.81c.8-.78.8-2.07 0-2.86zM5.41 20L4 18.59l7.72-7.72 1.47 1.35L5.41 20z\"/>\n",
              "  </svg>\n",
              "      </button>\n",
              "      \n",
              "  <style>\n",
              "    .colab-df-container {\n",
              "      display:flex;\n",
              "      flex-wrap:wrap;\n",
              "      gap: 12px;\n",
              "    }\n",
              "\n",
              "    .colab-df-convert {\n",
              "      background-color: #E8F0FE;\n",
              "      border: none;\n",
              "      border-radius: 50%;\n",
              "      cursor: pointer;\n",
              "      display: none;\n",
              "      fill: #1967D2;\n",
              "      height: 32px;\n",
              "      padding: 0 0 0 0;\n",
              "      width: 32px;\n",
              "    }\n",
              "\n",
              "    .colab-df-convert:hover {\n",
              "      background-color: #E2EBFA;\n",
              "      box-shadow: 0px 1px 2px rgba(60, 64, 67, 0.3), 0px 1px 3px 1px rgba(60, 64, 67, 0.15);\n",
              "      fill: #174EA6;\n",
              "    }\n",
              "\n",
              "    [theme=dark] .colab-df-convert {\n",
              "      background-color: #3B4455;\n",
              "      fill: #D2E3FC;\n",
              "    }\n",
              "\n",
              "    [theme=dark] .colab-df-convert:hover {\n",
              "      background-color: #434B5C;\n",
              "      box-shadow: 0px 1px 3px 1px rgba(0, 0, 0, 0.15);\n",
              "      filter: drop-shadow(0px 1px 2px rgba(0, 0, 0, 0.3));\n",
              "      fill: #FFFFFF;\n",
              "    }\n",
              "  </style>\n",
              "\n",
              "      <script>\n",
              "        const buttonEl =\n",
              "          document.querySelector('#df-0bc87f1b-2a8b-41d5-9783-12484d837d04 button.colab-df-convert');\n",
              "        buttonEl.style.display =\n",
              "          google.colab.kernel.accessAllowed ? 'block' : 'none';\n",
              "\n",
              "        async function convertToInteractive(key) {\n",
              "          const element = document.querySelector('#df-0bc87f1b-2a8b-41d5-9783-12484d837d04');\n",
              "          const dataTable =\n",
              "            await google.colab.kernel.invokeFunction('convertToInteractive',\n",
              "                                                     [key], {});\n",
              "          if (!dataTable) return;\n",
              "\n",
              "          const docLinkHtml = 'Like what you see? Visit the ' +\n",
              "            '<a target=\"_blank\" href=https://colab.research.google.com/notebooks/data_table.ipynb>data table notebook</a>'\n",
              "            + ' to learn more about interactive tables.';\n",
              "          element.innerHTML = '';\n",
              "          dataTable['output_type'] = 'display_data';\n",
              "          await google.colab.output.renderOutput(dataTable, element);\n",
              "          const docLink = document.createElement('div');\n",
              "          docLink.innerHTML = docLinkHtml;\n",
              "          element.appendChild(docLink);\n",
              "        }\n",
              "      </script>\n",
              "    </div>\n",
              "  </div>\n",
              "  "
            ]
          },
          "metadata": {},
          "execution_count": 2
        }
      ],
      "source": [
        "tweets_df.head()"
      ]
    },
    {
      "cell_type": "markdown",
      "source": [
        "## Eliminando as colunas que não serão utilizada"
      ],
      "metadata": {
        "id": "K-UOBbMUBhEe"
      }
    },
    {
      "cell_type": "code",
      "source": [
        "tweets_df.columns"
      ],
      "metadata": {
        "colab": {
          "base_uri": "https://localhost:8080/"
        },
        "id": "jprQHbvZBm-Y",
        "outputId": "8635155c-d465-407f-9be3-97d320433b40"
      },
      "execution_count": 3,
      "outputs": [
        {
          "output_type": "execute_result",
          "data": {
            "text/plain": [
              "Index(['id', 'hashtag', 'votes', 'hard', 'sentiment', 'group', 'text',\n",
              "       'repeat'],\n",
              "      dtype='object')"
            ]
          },
          "metadata": {},
          "execution_count": 3
        }
      ]
    },
    {
      "cell_type": "code",
      "source": [
        "tweets_df.drop(columns=['id', 'hashtag', 'votes', 'hard', 'group',\n",
        "       'repeat'], inplace=True)"
      ],
      "metadata": {
        "id": "NaxHrVb-Cffh"
      },
      "execution_count": 4,
      "outputs": []
    },
    {
      "cell_type": "code",
      "source": [
        "tweets_df.head()"
      ],
      "metadata": {
        "colab": {
          "base_uri": "https://localhost:8080/",
          "height": 206
        },
        "id": "EPrJEauXC3Aj",
        "outputId": "1b65157d-a89a-49b4-ee88-fdf31fd6eb2d"
      },
      "execution_count": 5,
      "outputs": [
        {
          "output_type": "execute_result",
          "data": {
            "text/plain": [
              "  sentiment                                               text\n",
              "0         1  que coisa linda O programa estava mostrando um...\n",
              "1         1           por mais com as irmãs galvão adorei elas\n",
              "2         1  mr CATRA USERNAME lançando sua nova música PPK...\n",
              "3         0  quem viu aquela lutadora modela barbuda tatuad...\n",
              "4        -1  tô passada com esse cara quanta merda pode sai..."
            ],
            "text/html": [
              "\n",
              "  <div id=\"df-c34233ed-4ead-482f-a544-42a931dc1571\">\n",
              "    <div class=\"colab-df-container\">\n",
              "      <div>\n",
              "<style scoped>\n",
              "    .dataframe tbody tr th:only-of-type {\n",
              "        vertical-align: middle;\n",
              "    }\n",
              "\n",
              "    .dataframe tbody tr th {\n",
              "        vertical-align: top;\n",
              "    }\n",
              "\n",
              "    .dataframe thead th {\n",
              "        text-align: right;\n",
              "    }\n",
              "</style>\n",
              "<table border=\"1\" class=\"dataframe\">\n",
              "  <thead>\n",
              "    <tr style=\"text-align: right;\">\n",
              "      <th></th>\n",
              "      <th>sentiment</th>\n",
              "      <th>text</th>\n",
              "    </tr>\n",
              "  </thead>\n",
              "  <tbody>\n",
              "    <tr>\n",
              "      <th>0</th>\n",
              "      <td>1</td>\n",
              "      <td>que coisa linda O programa estava mostrando um...</td>\n",
              "    </tr>\n",
              "    <tr>\n",
              "      <th>1</th>\n",
              "      <td>1</td>\n",
              "      <td>por mais com as irmãs galvão adorei elas</td>\n",
              "    </tr>\n",
              "    <tr>\n",
              "      <th>2</th>\n",
              "      <td>1</td>\n",
              "      <td>mr CATRA USERNAME lançando sua nova música PPK...</td>\n",
              "    </tr>\n",
              "    <tr>\n",
              "      <th>3</th>\n",
              "      <td>0</td>\n",
              "      <td>quem viu aquela lutadora modela barbuda tatuad...</td>\n",
              "    </tr>\n",
              "    <tr>\n",
              "      <th>4</th>\n",
              "      <td>-1</td>\n",
              "      <td>tô passada com esse cara quanta merda pode sai...</td>\n",
              "    </tr>\n",
              "  </tbody>\n",
              "</table>\n",
              "</div>\n",
              "      <button class=\"colab-df-convert\" onclick=\"convertToInteractive('df-c34233ed-4ead-482f-a544-42a931dc1571')\"\n",
              "              title=\"Convert this dataframe to an interactive table.\"\n",
              "              style=\"display:none;\">\n",
              "        \n",
              "  <svg xmlns=\"http://www.w3.org/2000/svg\" height=\"24px\"viewBox=\"0 0 24 24\"\n",
              "       width=\"24px\">\n",
              "    <path d=\"M0 0h24v24H0V0z\" fill=\"none\"/>\n",
              "    <path d=\"M18.56 5.44l.94 2.06.94-2.06 2.06-.94-2.06-.94-.94-2.06-.94 2.06-2.06.94zm-11 1L8.5 8.5l.94-2.06 2.06-.94-2.06-.94L8.5 2.5l-.94 2.06-2.06.94zm10 10l.94 2.06.94-2.06 2.06-.94-2.06-.94-.94-2.06-.94 2.06-2.06.94z\"/><path d=\"M17.41 7.96l-1.37-1.37c-.4-.4-.92-.59-1.43-.59-.52 0-1.04.2-1.43.59L10.3 9.45l-7.72 7.72c-.78.78-.78 2.05 0 2.83L4 21.41c.39.39.9.59 1.41.59.51 0 1.02-.2 1.41-.59l7.78-7.78 2.81-2.81c.8-.78.8-2.07 0-2.86zM5.41 20L4 18.59l7.72-7.72 1.47 1.35L5.41 20z\"/>\n",
              "  </svg>\n",
              "      </button>\n",
              "      \n",
              "  <style>\n",
              "    .colab-df-container {\n",
              "      display:flex;\n",
              "      flex-wrap:wrap;\n",
              "      gap: 12px;\n",
              "    }\n",
              "\n",
              "    .colab-df-convert {\n",
              "      background-color: #E8F0FE;\n",
              "      border: none;\n",
              "      border-radius: 50%;\n",
              "      cursor: pointer;\n",
              "      display: none;\n",
              "      fill: #1967D2;\n",
              "      height: 32px;\n",
              "      padding: 0 0 0 0;\n",
              "      width: 32px;\n",
              "    }\n",
              "\n",
              "    .colab-df-convert:hover {\n",
              "      background-color: #E2EBFA;\n",
              "      box-shadow: 0px 1px 2px rgba(60, 64, 67, 0.3), 0px 1px 3px 1px rgba(60, 64, 67, 0.15);\n",
              "      fill: #174EA6;\n",
              "    }\n",
              "\n",
              "    [theme=dark] .colab-df-convert {\n",
              "      background-color: #3B4455;\n",
              "      fill: #D2E3FC;\n",
              "    }\n",
              "\n",
              "    [theme=dark] .colab-df-convert:hover {\n",
              "      background-color: #434B5C;\n",
              "      box-shadow: 0px 1px 3px 1px rgba(0, 0, 0, 0.15);\n",
              "      filter: drop-shadow(0px 1px 2px rgba(0, 0, 0, 0.3));\n",
              "      fill: #FFFFFF;\n",
              "    }\n",
              "  </style>\n",
              "\n",
              "      <script>\n",
              "        const buttonEl =\n",
              "          document.querySelector('#df-c34233ed-4ead-482f-a544-42a931dc1571 button.colab-df-convert');\n",
              "        buttonEl.style.display =\n",
              "          google.colab.kernel.accessAllowed ? 'block' : 'none';\n",
              "\n",
              "        async function convertToInteractive(key) {\n",
              "          const element = document.querySelector('#df-c34233ed-4ead-482f-a544-42a931dc1571');\n",
              "          const dataTable =\n",
              "            await google.colab.kernel.invokeFunction('convertToInteractive',\n",
              "                                                     [key], {});\n",
              "          if (!dataTable) return;\n",
              "\n",
              "          const docLinkHtml = 'Like what you see? Visit the ' +\n",
              "            '<a target=\"_blank\" href=https://colab.research.google.com/notebooks/data_table.ipynb>data table notebook</a>'\n",
              "            + ' to learn more about interactive tables.';\n",
              "          element.innerHTML = '';\n",
              "          dataTable['output_type'] = 'display_data';\n",
              "          await google.colab.output.renderOutput(dataTable, element);\n",
              "          const docLink = document.createElement('div');\n",
              "          docLink.innerHTML = docLinkHtml;\n",
              "          element.appendChild(docLink);\n",
              "        }\n",
              "      </script>\n",
              "    </div>\n",
              "  </div>\n",
              "  "
            ]
          },
          "metadata": {},
          "execution_count": 5
        }
      ]
    },
    {
      "cell_type": "code",
      "execution_count": 6,
      "metadata": {
        "colab": {
          "base_uri": "https://localhost:8080/"
        },
        "id": "e__bGyZq51cg",
        "outputId": "df2b45a7-3d42-48d6-ed0c-52d04e15ef43"
      },
      "outputs": [
        {
          "output_type": "stream",
          "name": "stdout",
          "text": [
            "<class 'pandas.core.frame.DataFrame'>\n",
            "RangeIndex: 15047 entries, 0 to 15046\n",
            "Data columns (total 2 columns):\n",
            " #   Column     Non-Null Count  Dtype \n",
            "---  ------     --------------  ----- \n",
            " 0   sentiment  15047 non-null  object\n",
            " 1   text       15047 non-null  object\n",
            "dtypes: object(2)\n",
            "memory usage: 235.2+ KB\n"
          ]
        }
      ],
      "source": [
        " tweets_df.info()"
      ]
    },
    {
      "cell_type": "code",
      "execution_count": 7,
      "metadata": {
        "colab": {
          "base_uri": "https://localhost:8080/",
          "height": 206
        },
        "id": "_KvtR_olPC0N",
        "outputId": "da8fbb43-27be-4392-ee72-6f1c199367e9"
      },
      "outputs": [
        {
          "output_type": "execute_result",
          "data": {
            "text/plain": [
              "           text\n",
              "sentiment      \n",
              "-            47\n",
              "-1         4426\n",
              "0          3926\n",
              "1          6648"
            ],
            "text/html": [
              "\n",
              "  <div id=\"df-cbadaef7-f438-4583-9b5a-5d1e794eab56\">\n",
              "    <div class=\"colab-df-container\">\n",
              "      <div>\n",
              "<style scoped>\n",
              "    .dataframe tbody tr th:only-of-type {\n",
              "        vertical-align: middle;\n",
              "    }\n",
              "\n",
              "    .dataframe tbody tr th {\n",
              "        vertical-align: top;\n",
              "    }\n",
              "\n",
              "    .dataframe thead th {\n",
              "        text-align: right;\n",
              "    }\n",
              "</style>\n",
              "<table border=\"1\" class=\"dataframe\">\n",
              "  <thead>\n",
              "    <tr style=\"text-align: right;\">\n",
              "      <th></th>\n",
              "      <th>text</th>\n",
              "    </tr>\n",
              "    <tr>\n",
              "      <th>sentiment</th>\n",
              "      <th></th>\n",
              "    </tr>\n",
              "  </thead>\n",
              "  <tbody>\n",
              "    <tr>\n",
              "      <th>-</th>\n",
              "      <td>47</td>\n",
              "    </tr>\n",
              "    <tr>\n",
              "      <th>-1</th>\n",
              "      <td>4426</td>\n",
              "    </tr>\n",
              "    <tr>\n",
              "      <th>0</th>\n",
              "      <td>3926</td>\n",
              "    </tr>\n",
              "    <tr>\n",
              "      <th>1</th>\n",
              "      <td>6648</td>\n",
              "    </tr>\n",
              "  </tbody>\n",
              "</table>\n",
              "</div>\n",
              "      <button class=\"colab-df-convert\" onclick=\"convertToInteractive('df-cbadaef7-f438-4583-9b5a-5d1e794eab56')\"\n",
              "              title=\"Convert this dataframe to an interactive table.\"\n",
              "              style=\"display:none;\">\n",
              "        \n",
              "  <svg xmlns=\"http://www.w3.org/2000/svg\" height=\"24px\"viewBox=\"0 0 24 24\"\n",
              "       width=\"24px\">\n",
              "    <path d=\"M0 0h24v24H0V0z\" fill=\"none\"/>\n",
              "    <path d=\"M18.56 5.44l.94 2.06.94-2.06 2.06-.94-2.06-.94-.94-2.06-.94 2.06-2.06.94zm-11 1L8.5 8.5l.94-2.06 2.06-.94-2.06-.94L8.5 2.5l-.94 2.06-2.06.94zm10 10l.94 2.06.94-2.06 2.06-.94-2.06-.94-.94-2.06-.94 2.06-2.06.94z\"/><path d=\"M17.41 7.96l-1.37-1.37c-.4-.4-.92-.59-1.43-.59-.52 0-1.04.2-1.43.59L10.3 9.45l-7.72 7.72c-.78.78-.78 2.05 0 2.83L4 21.41c.39.39.9.59 1.41.59.51 0 1.02-.2 1.41-.59l7.78-7.78 2.81-2.81c.8-.78.8-2.07 0-2.86zM5.41 20L4 18.59l7.72-7.72 1.47 1.35L5.41 20z\"/>\n",
              "  </svg>\n",
              "      </button>\n",
              "      \n",
              "  <style>\n",
              "    .colab-df-container {\n",
              "      display:flex;\n",
              "      flex-wrap:wrap;\n",
              "      gap: 12px;\n",
              "    }\n",
              "\n",
              "    .colab-df-convert {\n",
              "      background-color: #E8F0FE;\n",
              "      border: none;\n",
              "      border-radius: 50%;\n",
              "      cursor: pointer;\n",
              "      display: none;\n",
              "      fill: #1967D2;\n",
              "      height: 32px;\n",
              "      padding: 0 0 0 0;\n",
              "      width: 32px;\n",
              "    }\n",
              "\n",
              "    .colab-df-convert:hover {\n",
              "      background-color: #E2EBFA;\n",
              "      box-shadow: 0px 1px 2px rgba(60, 64, 67, 0.3), 0px 1px 3px 1px rgba(60, 64, 67, 0.15);\n",
              "      fill: #174EA6;\n",
              "    }\n",
              "\n",
              "    [theme=dark] .colab-df-convert {\n",
              "      background-color: #3B4455;\n",
              "      fill: #D2E3FC;\n",
              "    }\n",
              "\n",
              "    [theme=dark] .colab-df-convert:hover {\n",
              "      background-color: #434B5C;\n",
              "      box-shadow: 0px 1px 3px 1px rgba(0, 0, 0, 0.15);\n",
              "      filter: drop-shadow(0px 1px 2px rgba(0, 0, 0, 0.3));\n",
              "      fill: #FFFFFF;\n",
              "    }\n",
              "  </style>\n",
              "\n",
              "      <script>\n",
              "        const buttonEl =\n",
              "          document.querySelector('#df-cbadaef7-f438-4583-9b5a-5d1e794eab56 button.colab-df-convert');\n",
              "        buttonEl.style.display =\n",
              "          google.colab.kernel.accessAllowed ? 'block' : 'none';\n",
              "\n",
              "        async function convertToInteractive(key) {\n",
              "          const element = document.querySelector('#df-cbadaef7-f438-4583-9b5a-5d1e794eab56');\n",
              "          const dataTable =\n",
              "            await google.colab.kernel.invokeFunction('convertToInteractive',\n",
              "                                                     [key], {});\n",
              "          if (!dataTable) return;\n",
              "\n",
              "          const docLinkHtml = 'Like what you see? Visit the ' +\n",
              "            '<a target=\"_blank\" href=https://colab.research.google.com/notebooks/data_table.ipynb>data table notebook</a>'\n",
              "            + ' to learn more about interactive tables.';\n",
              "          element.innerHTML = '';\n",
              "          dataTable['output_type'] = 'display_data';\n",
              "          await google.colab.output.renderOutput(dataTable, element);\n",
              "          const docLink = document.createElement('div');\n",
              "          docLink.innerHTML = docLinkHtml;\n",
              "          element.appendChild(docLink);\n",
              "        }\n",
              "      </script>\n",
              "    </div>\n",
              "  </div>\n",
              "  "
            ]
          },
          "metadata": {},
          "execution_count": 7
        }
      ],
      "source": [
        "tweets_df.groupby(['sentiment']).count()"
      ]
    },
    {
      "cell_type": "code",
      "source": [
        "# removendo as linhas com a variável sentimento como traço '-'\n",
        "\n",
        "indexNames = tweets_df[ tweets_df['sentiment'] == '-' ].index #obtendo o valor para ajudar a remover a linha\n",
        "tweets_df.drop(indexNames , inplace=True) #removendo a linha correspondente ao valor informado"
      ],
      "metadata": {
        "id": "t69SJTSS7dSc"
      },
      "execution_count": 8,
      "outputs": []
    },
    {
      "cell_type": "code",
      "source": [
        "# tranformando valores para adequar a os classificadores\n",
        "tweets_df['sentiment'] = tweets_df['sentiment'].replace(['-1', '0', '1'], [3, 6, 9])\n",
        "tweets_df['sentiment'] = tweets_df['sentiment'].replace([3, 6, 9], [0, 1, 2])"
      ],
      "metadata": {
        "id": "nkDJhkN27hVV"
      },
      "execution_count": 9,
      "outputs": []
    },
    {
      "cell_type": "code",
      "execution_count": 10,
      "metadata": {
        "colab": {
          "base_uri": "https://localhost:8080/",
          "height": 279
        },
        "id": "0hCJJW_hPJuh",
        "outputId": "17d42572-54c5-4572-d99b-6759f5a5c8a4"
      },
      "outputs": [
        {
          "output_type": "display_data",
          "data": {
            "text/plain": [
              "<Figure size 432x288 with 1 Axes>"
            ],
            "image/png": "[encoded data removed]"
          },
          "metadata": {
            "needs_background": "light"
          }
        }
      ],
      "source": [
        "# Visualizando os dados graficamente\n",
        "sns.countplot(x=tweets_df.sentiment)\n",
        "plt.xlabel('class label')\n",
        "plt.ylabel('number of tweets')\n",
        "plt.show()"
      ]
    },
    {
      "cell_type": "code",
      "source": [
        "tweets_df.groupby(['sentiment']).count()"
      ],
      "metadata": {
        "colab": {
          "base_uri": "https://localhost:8080/",
          "height": 175
        },
        "id": "rXl1HYKD708m",
        "outputId": "231a7f61-9616-4a78-f127-b109ea360c8e"
      },
      "execution_count": 11,
      "outputs": [
        {
          "output_type": "execute_result",
          "data": {
            "text/plain": [
              "           text\n",
              "sentiment      \n",
              "0          4426\n",
              "1          3926\n",
              "2          6648"
            ],
            "text/html": [
              "\n",
              "  <div id=\"df-f63cd355-d7a1-4c1c-9aac-5cd9e019f1b2\">\n",
              "    <div class=\"colab-df-container\">\n",
              "      <div>\n",
              "<style scoped>\n",
              "    .dataframe tbody tr th:only-of-type {\n",
              "        vertical-align: middle;\n",
              "    }\n",
              "\n",
              "    .dataframe tbody tr th {\n",
              "        vertical-align: top;\n",
              "    }\n",
              "\n",
              "    .dataframe thead th {\n",
              "        text-align: right;\n",
              "    }\n",
              "</style>\n",
              "<table border=\"1\" class=\"dataframe\">\n",
              "  <thead>\n",
              "    <tr style=\"text-align: right;\">\n",
              "      <th></th>\n",
              "      <th>text</th>\n",
              "    </tr>\n",
              "    <tr>\n",
              "      <th>sentiment</th>\n",
              "      <th></th>\n",
              "    </tr>\n",
              "  </thead>\n",
              "  <tbody>\n",
              "    <tr>\n",
              "      <th>0</th>\n",
              "      <td>4426</td>\n",
              "    </tr>\n",
              "    <tr>\n",
              "      <th>1</th>\n",
              "      <td>3926</td>\n",
              "    </tr>\n",
              "    <tr>\n",
              "      <th>2</th>\n",
              "      <td>6648</td>\n",
              "    </tr>\n",
              "  </tbody>\n",
              "</table>\n",
              "</div>\n",
              "      <button class=\"colab-df-convert\" onclick=\"convertToInteractive('df-f63cd355-d7a1-4c1c-9aac-5cd9e019f1b2')\"\n",
              "              title=\"Convert this dataframe to an interactive table.\"\n",
              "              style=\"display:none;\">\n",
              "        \n",
              "  <svg xmlns=\"http://www.w3.org/2000/svg\" height=\"24px\"viewBox=\"0 0 24 24\"\n",
              "       width=\"24px\">\n",
              "    <path d=\"M0 0h24v24H0V0z\" fill=\"none\"/>\n",
              "    <path d=\"M18.56 5.44l.94 2.06.94-2.06 2.06-.94-2.06-.94-.94-2.06-.94 2.06-2.06.94zm-11 1L8.5 8.5l.94-2.06 2.06-.94-2.06-.94L8.5 2.5l-.94 2.06-2.06.94zm10 10l.94 2.06.94-2.06 2.06-.94-2.06-.94-.94-2.06-.94 2.06-2.06.94z\"/><path d=\"M17.41 7.96l-1.37-1.37c-.4-.4-.92-.59-1.43-.59-.52 0-1.04.2-1.43.59L10.3 9.45l-7.72 7.72c-.78.78-.78 2.05 0 2.83L4 21.41c.39.39.9.59 1.41.59.51 0 1.02-.2 1.41-.59l7.78-7.78 2.81-2.81c.8-.78.8-2.07 0-2.86zM5.41 20L4 18.59l7.72-7.72 1.47 1.35L5.41 20z\"/>\n",
              "  </svg>\n",
              "      </button>\n",
              "      \n",
              "  <style>\n",
              "    .colab-df-container {\n",
              "      display:flex;\n",
              "      flex-wrap:wrap;\n",
              "      gap: 12px;\n",
              "    }\n",
              "\n",
              "    .colab-df-convert {\n",
              "      background-color: #E8F0FE;\n",
              "      border: none;\n",
              "      border-radius: 50%;\n",
              "      cursor: pointer;\n",
              "      display: none;\n",
              "      fill: #1967D2;\n",
              "      height: 32px;\n",
              "      padding: 0 0 0 0;\n",
              "      width: 32px;\n",
              "    }\n",
              "\n",
              "    .colab-df-convert:hover {\n",
              "      background-color: #E2EBFA;\n",
              "      box-shadow: 0px 1px 2px rgba(60, 64, 67, 0.3), 0px 1px 3px 1px rgba(60, 64, 67, 0.15);\n",
              "      fill: #174EA6;\n",
              "    }\n",
              "\n",
              "    [theme=dark] .colab-df-convert {\n",
              "      background-color: #3B4455;\n",
              "      fill: #D2E3FC;\n",
              "    }\n",
              "\n",
              "    [theme=dark] .colab-df-convert:hover {\n",
              "      background-color: #434B5C;\n",
              "      box-shadow: 0px 1px 3px 1px rgba(0, 0, 0, 0.15);\n",
              "      filter: drop-shadow(0px 1px 2px rgba(0, 0, 0, 0.3));\n",
              "      fill: #FFFFFF;\n",
              "    }\n",
              "  </style>\n",
              "\n",
              "      <script>\n",
              "        const buttonEl =\n",
              "          document.querySelector('#df-f63cd355-d7a1-4c1c-9aac-5cd9e019f1b2 button.colab-df-convert');\n",
              "        buttonEl.style.display =\n",
              "          google.colab.kernel.accessAllowed ? 'block' : 'none';\n",
              "\n",
              "        async function convertToInteractive(key) {\n",
              "          const element = document.querySelector('#df-f63cd355-d7a1-4c1c-9aac-5cd9e019f1b2');\n",
              "          const dataTable =\n",
              "            await google.colab.kernel.invokeFunction('convertToInteractive',\n",
              "                                                     [key], {});\n",
              "          if (!dataTable) return;\n",
              "\n",
              "          const docLinkHtml = 'Like what you see? Visit the ' +\n",
              "            '<a target=\"_blank\" href=https://colab.research.google.com/notebooks/data_table.ipynb>data table notebook</a>'\n",
              "            + ' to learn more about interactive tables.';\n",
              "          element.innerHTML = '';\n",
              "          dataTable['output_type'] = 'display_data';\n",
              "          await google.colab.output.renderOutput(dataTable, element);\n",
              "          const docLink = document.createElement('div');\n",
              "          docLink.innerHTML = docLinkHtml;\n",
              "          element.appendChild(docLink);\n",
              "        }\n",
              "      </script>\n",
              "    </div>\n",
              "  </div>\n",
              "  "
            ]
          },
          "metadata": {},
          "execution_count": 11
        }
      ]
    },
    {
      "cell_type": "markdown",
      "metadata": {
        "id": "3stzwvzcPyS4"
      },
      "source": [
        "## Efetuando a limpeza dos dados"
      ]
    },
    {
      "cell_type": "markdown",
      "source": [
        "## Removendo apenas os emojis e as palavras USERNAME e NUMBER"
      ],
      "metadata": {
        "id": "OIHQcLVngXrM"
      }
    },
    {
      "cell_type": "code",
      "source": [
        "# removendo as palavras USERNAME e NUMBER\n",
        "tweets_df['text_parcial_clean'] = tweets_df['text'].str.replace('USERNAME', '').str.replace('NUMBER', '')"
      ],
      "metadata": {
        "id": "2ldo1HEAgSXP"
      },
      "execution_count": 12,
      "outputs": []
    },
    {
      "cell_type": "code",
      "source": [
        "# remover emojis utilizado regex (re)\n",
        "import re\n",
        "\n",
        "def remove_emoji(string):\n",
        "    emoji_pattern = re.compile(\"[\"\n",
        "                               u\"\\U0001F600-\\U0001F64F\"  # emoticons\n",
        "                               u\"\\U0001F300-\\U0001F5FF\"  # symbols & pictographs\n",
        "                               u\"\\U0001F680-\\U0001F6FF\"  # transport & map symbols\n",
        "                               u\"\\U0001F1E0-\\U0001F1FF\"  # flags (iOS)\n",
        "                               u\"\\U00002500-\\U00002BEF\"  # chinese char\n",
        "                               u\"\\U00002702-\\U000027B0\"\n",
        "                               u\"\\U00002702-\\U000027B0\"\n",
        "                               u\"\\U000024C2-\\U0001F251\"\n",
        "                               u\"\\U0001f926-\\U0001f937\"\n",
        "                               u\"\\U00010000-\\U0010ffff\"\n",
        "                               u\"\\u2640-\\u2642\"\n",
        "                               u\"\\u2600-\\u2B55\"\n",
        "                               u\"\\u200d\"\n",
        "                               u\"\\u23cf\"\n",
        "                               u\"\\u23e9\"\n",
        "                               u\"\\u231a\"\n",
        "                               u\"\\ufe0f\"  # dingbats\n",
        "                               u\"\\u3030\"\n",
        "                               \"]+\", flags=re.UNICODE)\n",
        "    return emoji_pattern.sub(r'', string)"
      ],
      "metadata": {
        "id": "0WWWaunE8Ntw"
      },
      "execution_count": 13,
      "outputs": []
    },
    {
      "cell_type": "code",
      "source": [
        "# aplicando a função de limpeza de dados:\n",
        "tweets_df['text_parcial_clean'] = [remove_emoji(i) for i in tweets_df['text_parcial_clean']]\n",
        "pd.set_option('display.max_colwidth', None) \n",
        "\n",
        "tweets_df.head()"
      ],
      "metadata": {
        "colab": {
          "base_uri": "https://localhost:8080/",
          "height": 302
        },
        "id": "SVxRzNTvhKyo",
        "outputId": "a36102dd-e68b-4ab2-f53d-746f660aea2a"
      },
      "execution_count": 14,
      "outputs": [
        {
          "output_type": "execute_result",
          "data": {
            "text/plain": [
              "   sentiment  \\\n",
              "0          2   \n",
              "1          2   \n",
              "2          2   \n",
              "3          1   \n",
              "4          0   \n",
              "\n",
              "                                                                                                          text  \\\n",
              "0  que coisa linda O programa estava mostrando uma familia que adotou um adolescente de NUMBER anos que amor !   \n",
              "1                                                                     por mais com as irmãs galvão adorei elas   \n",
              "2                mr CATRA USERNAME lançando sua nova música PPK CHORA no USERNAME k k k 👅 😉 #MrCatra #PpkChora   \n",
              "3                                                quem viu aquela lutadora modela barbuda tatuada #MasterChefBR   \n",
              "4                        tô passada com esse cara quanta merda pode sair da boca de alguém em alguns minutos 😠   \n",
              "\n",
              "                                                                                      text_parcial_clean  \n",
              "0  que coisa linda O programa estava mostrando uma familia que adotou um adolescente de  anos que amor !  \n",
              "1                                                               por mais com as irmãs galvão adorei elas  \n",
              "2                            mr CATRA  lançando sua nova música PPK CHORA no  k k k   #MrCatra #PpkChora  \n",
              "3                                          quem viu aquela lutadora modela barbuda tatuada #MasterChefBR  \n",
              "4                   tô passada com esse cara quanta merda pode sair da boca de alguém em alguns minutos   "
            ],
            "text/html": [
              "\n",
              "  <div id=\"df-4293e2e2-afe6-4882-87bc-2dc2116d8459\">\n",
              "    <div class=\"colab-df-container\">\n",
              "      <div>\n",
              "<style scoped>\n",
              "    .dataframe tbody tr th:only-of-type {\n",
              "        vertical-align: middle;\n",
              "    }\n",
              "\n",
              "    .dataframe tbody tr th {\n",
              "        vertical-align: top;\n",
              "    }\n",
              "\n",
              "    .dataframe thead th {\n",
              "        text-align: right;\n",
              "    }\n",
              "</style>\n",
              "<table border=\"1\" class=\"dataframe\">\n",
              "  <thead>\n",
              "    <tr style=\"text-align: right;\">\n",
              "      <th></th>\n",
              "      <th>sentiment</th>\n",
              "      <th>text</th>\n",
              "      <th>text_parcial_clean</th>\n",
              "    </tr>\n",
              "  </thead>\n",
              "  <tbody>\n",
              "    <tr>\n",
              "      <th>0</th>\n",
              "      <td>2</td>\n",
              "      <td>que coisa linda O programa estava mostrando uma familia que adotou um adolescente de NUMBER anos que amor !</td>\n",
              "      <td>que coisa linda O programa estava mostrando uma familia que adotou um adolescente de  anos que amor !</td>\n",
              "    </tr>\n",
              "    <tr>\n",
              "      <th>1</th>\n",
              "      <td>2</td>\n",
              "      <td>por mais com as irmãs galvão adorei elas</td>\n",
              "      <td>por mais com as irmãs galvão adorei elas</td>\n",
              "    </tr>\n",
              "    <tr>\n",
              "      <th>2</th>\n",
              "      <td>2</td>\n",
              "      <td>mr CATRA USERNAME lançando sua nova música PPK CHORA no USERNAME k k k 👅 😉 #MrCatra #PpkChora</td>\n",
              "      <td>mr CATRA  lançando sua nova música PPK CHORA no  k k k   #MrCatra #PpkChora</td>\n",
              "    </tr>\n",
              "    <tr>\n",
              "      <th>3</th>\n",
              "      <td>1</td>\n",
              "      <td>quem viu aquela lutadora modela barbuda tatuada #MasterChefBR</td>\n",
              "      <td>quem viu aquela lutadora modela barbuda tatuada #MasterChefBR</td>\n",
              "    </tr>\n",
              "    <tr>\n",
              "      <th>4</th>\n",
              "      <td>0</td>\n",
              "      <td>tô passada com esse cara quanta merda pode sair da boca de alguém em alguns minutos 😠</td>\n",
              "      <td>tô passada com esse cara quanta merda pode sair da boca de alguém em alguns minutos</td>\n",
              "    </tr>\n",
              "  </tbody>\n",
              "</table>\n",
              "</div>\n",
              "      <button class=\"colab-df-convert\" onclick=\"convertToInteractive('df-4293e2e2-afe6-4882-87bc-2dc2116d8459')\"\n",
              "              title=\"Convert this dataframe to an interactive table.\"\n",
              "              style=\"display:none;\">\n",
              "        \n",
              "  <svg xmlns=\"http://www.w3.org/2000/svg\" height=\"24px\"viewBox=\"0 0 24 24\"\n",
              "       width=\"24px\">\n",
              "    <path d=\"M0 0h24v24H0V0z\" fill=\"none\"/>\n",
              "    <path d=\"M18.56 5.44l.94 2.06.94-2.06 2.06-.94-2.06-.94-.94-2.06-.94 2.06-2.06.94zm-11 1L8.5 8.5l.94-2.06 2.06-.94-2.06-.94L8.5 2.5l-.94 2.06-2.06.94zm10 10l.94 2.06.94-2.06 2.06-.94-2.06-.94-.94-2.06-.94 2.06-2.06.94z\"/><path d=\"M17.41 7.96l-1.37-1.37c-.4-.4-.92-.59-1.43-.59-.52 0-1.04.2-1.43.59L10.3 9.45l-7.72 7.72c-.78.78-.78 2.05 0 2.83L4 21.41c.39.39.9.59 1.41.59.51 0 1.02-.2 1.41-.59l7.78-7.78 2.81-2.81c.8-.78.8-2.07 0-2.86zM5.41 20L4 18.59l7.72-7.72 1.47 1.35L5.41 20z\"/>\n",
              "  </svg>\n",
              "      </button>\n",
              "      \n",
              "  <style>\n",
              "    .colab-df-container {\n",
              "      display:flex;\n",
              "      flex-wrap:wrap;\n",
              "      gap: 12px;\n",
              "    }\n",
              "\n",
              "    .colab-df-convert {\n",
              "      background-color: #E8F0FE;\n",
              "      border: none;\n",
              "      border-radius: 50%;\n",
              "      cursor: pointer;\n",
              "      display: none;\n",
              "      fill: #1967D2;\n",
              "      height: 32px;\n",
              "      padding: 0 0 0 0;\n",
              "      width: 32px;\n",
              "    }\n",
              "\n",
              "    .colab-df-convert:hover {\n",
              "      background-color: #E2EBFA;\n",
              "      box-shadow: 0px 1px 2px rgba(60, 64, 67, 0.3), 0px 1px 3px 1px rgba(60, 64, 67, 0.15);\n",
              "      fill: #174EA6;\n",
              "    }\n",
              "\n",
              "    [theme=dark] .colab-df-convert {\n",
              "      background-color: #3B4455;\n",
              "      fill: #D2E3FC;\n",
              "    }\n",
              "\n",
              "    [theme=dark] .colab-df-convert:hover {\n",
              "      background-color: #434B5C;\n",
              "      box-shadow: 0px 1px 3px 1px rgba(0, 0, 0, 0.15);\n",
              "      filter: drop-shadow(0px 1px 2px rgba(0, 0, 0, 0.3));\n",
              "      fill: #FFFFFF;\n",
              "    }\n",
              "  </style>\n",
              "\n",
              "      <script>\n",
              "        const buttonEl =\n",
              "          document.querySelector('#df-4293e2e2-afe6-4882-87bc-2dc2116d8459 button.colab-df-convert');\n",
              "        buttonEl.style.display =\n",
              "          google.colab.kernel.accessAllowed ? 'block' : 'none';\n",
              "\n",
              "        async function convertToInteractive(key) {\n",
              "          const element = document.querySelector('#df-4293e2e2-afe6-4882-87bc-2dc2116d8459');\n",
              "          const dataTable =\n",
              "            await google.colab.kernel.invokeFunction('convertToInteractive',\n",
              "                                                     [key], {});\n",
              "          if (!dataTable) return;\n",
              "\n",
              "          const docLinkHtml = 'Like what you see? Visit the ' +\n",
              "            '<a target=\"_blank\" href=https://colab.research.google.com/notebooks/data_table.ipynb>data table notebook</a>'\n",
              "            + ' to learn more about interactive tables.';\n",
              "          element.innerHTML = '';\n",
              "          dataTable['output_type'] = 'display_data';\n",
              "          await google.colab.output.renderOutput(dataTable, element);\n",
              "          const docLink = document.createElement('div');\n",
              "          docLink.innerHTML = docLinkHtml;\n",
              "          element.appendChild(docLink);\n",
              "        }\n",
              "      </script>\n",
              "    </div>\n",
              "  </div>\n",
              "  "
            ]
          },
          "metadata": {},
          "execution_count": 14
        }
      ]
    },
    {
      "cell_type": "code",
      "execution_count": 15,
      "metadata": {
        "id": "4qDgmHl4RYIn"
      },
      "outputs": [],
      "source": [
        "# carregando os textos\n",
        "text = tweets_df['text']\n",
        "\n",
        "# carregando as classes\n",
        "sentiment = tweets_df['sentiment']\n",
        "\n",
        "# salvando em um dicionário\n",
        "data = [{ 'X': text, 'y': sentiment} for (text, sentiment) in zip(text, sentiment)] "
      ]
    },
    {
      "cell_type": "markdown",
      "metadata": {
        "id": "JCESPgia65w3"
      },
      "source": [
        "Separando os dados em conjunto de treino e teste"
      ]
    },
    {
      "cell_type": "code",
      "execution_count": 16,
      "metadata": {
        "colab": {
          "base_uri": "https://localhost:8080/"
        },
        "id": "LEvPIvcX65R7",
        "outputId": "ac11b43e-dc4b-492a-f4d1-3905214b9910"
      },
      "outputs": [
        {
          "output_type": "execute_result",
          "data": {
            "text/plain": [
              "(12000, 3000)"
            ]
          },
          "metadata": {},
          "execution_count": 16
        }
      ],
      "source": [
        "size = int(len(data) * 0.2)\n",
        "treino = data[size:]\n",
        "teste = data[:size]\n",
        "\n",
        "len(treino), len(teste)"
      ]
    },
    {
      "cell_type": "markdown",
      "metadata": {
        "id": "aaORU_4_8uA6"
      },
      "source": [
        "Importando as dependências. Perceba que o tokenizador e modelo de classificação do BERTimbau são instanciados com os métodos `AutoTokenizer` e `AutoModelForSequenceClassification`. \n",
        "\n",
        "Para mais informações, consulte [este link](https://github.com/neuralmind-ai/portuguese-bert)."
      ]
    },
    {
      "cell_type": "code",
      "source": [
        "!pip install transformers"
      ],
      "metadata": {
        "colab": {
          "base_uri": "https://localhost:8080/"
        },
        "id": "85K8tVznEWGv",
        "outputId": "694bfbc9-c312-409d-ca45-29dae18fb711"
      },
      "execution_count": 17,
      "outputs": [
        {
          "output_type": "stream",
          "name": "stdout",
          "text": [
            "Looking in indexes: https://pypi.org/simple, https://us-python.pkg.dev/colab-wheels/public/simple/\n",
            "Requirement already satisfied: transformers in /usr/local/lib/python3.7/dist-packages (4.20.1)\n",
            "Requirement already satisfied: tqdm>=4.27 in /usr/local/lib/python3.7/dist-packages (from transformers) (4.64.0)\n",
            "Requirement already satisfied: regex!=2019.12.17 in /usr/local/lib/python3.7/dist-packages (from transformers) (2022.6.2)\n",
            "Requirement already satisfied: importlib-metadata in /usr/local/lib/python3.7/dist-packages (from transformers) (4.12.0)\n",
            "Requirement already satisfied: filelock in /usr/local/lib/python3.7/dist-packages (from transformers) (3.7.1)\n",
            "Requirement already satisfied: huggingface-hub<1.0,>=0.1.0 in /usr/local/lib/python3.7/dist-packages (from transformers) (0.8.1)\n",
            "Requirement already satisfied: requests in /usr/local/lib/python3.7/dist-packages (from transformers) (2.23.0)\n",
            "Requirement already satisfied: numpy>=1.17 in /usr/local/lib/python3.7/dist-packages (from transformers) (1.21.6)\n",
            "Requirement already satisfied: packaging>=20.0 in /usr/local/lib/python3.7/dist-packages (from transformers) (21.3)\n",
            "Requirement already satisfied: tokenizers!=0.11.3,<0.13,>=0.11.1 in /usr/local/lib/python3.7/dist-packages (from transformers) (0.12.1)\n",
            "Requirement already satisfied: pyyaml>=5.1 in /usr/local/lib/python3.7/dist-packages (from transformers) (6.0)\n",
            "Requirement already satisfied: typing-extensions>=3.7.4.3 in /usr/local/lib/python3.7/dist-packages (from huggingface-hub<1.0,>=0.1.0->transformers) (4.1.1)\n",
            "Requirement already satisfied: pyparsing!=3.0.5,>=2.0.2 in /usr/local/lib/python3.7/dist-packages (from packaging>=20.0->transformers) (3.0.9)\n",
            "Requirement already satisfied: zipp>=0.5 in /usr/local/lib/python3.7/dist-packages (from importlib-metadata->transformers) (3.8.1)\n",
            "Requirement already satisfied: certifi>=2017.4.17 in /usr/local/lib/python3.7/dist-packages (from requests->transformers) (2022.6.15)\n",
            "Requirement already satisfied: chardet<4,>=3.0.2 in /usr/local/lib/python3.7/dist-packages (from requests->transformers) (3.0.4)\n",
            "Requirement already satisfied: idna<3,>=2.5 in /usr/local/lib/python3.7/dist-packages (from requests->transformers) (2.10)\n",
            "Requirement already satisfied: urllib3!=1.25.0,!=1.25.1,<1.26,>=1.21.1 in /usr/local/lib/python3.7/dist-packages (from requests->transformers) (1.24.3)\n",
            "\u001b[33mWARNING: Running pip as the 'root' user can result in broken permissions and conflicting behaviour with the system package manager. It is recommended to use a virtual environment instead: https://pip.pypa.io/warnings/venv\u001b[0m\u001b[33m\n",
            "\u001b[0m"
          ]
        }
      ]
    },
    {
      "cell_type": "code",
      "execution_count": 18,
      "metadata": {
        "id": "D63q9uHS8tQa"
      },
      "outputs": [],
      "source": [
        "import os\n",
        "import torch\n",
        "import torch.nn as nn\n",
        "from torch import optim\n",
        "from transformers import AutoTokenizer, AutoModelForSequenceClassification\n",
        "from sklearn.metrics import accuracy_score, f1_score, classification_report"
      ]
    },
    {
      "cell_type": "markdown",
      "source": [
        "### Escolhendo o tamanho da sequência\n",
        "\n",
        "O BERT trabalha com sequências de comprimento fixo. Usaremos uma estratégia simples para escolher o comprimento máximo. Vamos armazenar o tamanho do token de cada avaliação:"
      ],
      "metadata": {
        "id": "BqhTjLyQ9Jor"
      }
    },
    {
      "cell_type": "code",
      "source": [
        "tokenizer = AutoTokenizer.from_pretrained('neuralmind/bert-base-portuguese-cased', do_lower_case=False)\n",
        "\n",
        "token_lens = []\n",
        "\n",
        "for txt in tweets_df['text']:\n",
        "  tokens = tokenizer.encode(txt, max_length=512)\n",
        "  token_lens.append(len(tokens))"
      ],
      "metadata": {
        "colab": {
          "base_uri": "https://localhost:8080/"
        },
        "id": "X0ucKGAC88EM",
        "outputId": "89ce0295-3e0b-41de-aedf-ecdff26b845c"
      },
      "execution_count": 19,
      "outputs": [
        {
          "output_type": "stream",
          "name": "stderr",
          "text": [
            "Truncation was not explicitly activated but `max_length` is provided a specific value, please use `truncation=True` to explicitly truncate examples to max length. Defaulting to 'longest_first' truncation strategy. If you encode pairs of sequences (GLUE-style) with the tokenizer you can select this strategy more precisely by providing a specific strategy to `truncation`.\n"
          ]
        }
      ]
    },
    {
      "cell_type": "code",
      "source": [
        "max(token_lens)"
      ],
      "metadata": {
        "colab": {
          "base_uri": "https://localhost:8080/"
        },
        "id": "9j4oRRnc-5GB",
        "outputId": "6004c9f1-e5e6-415b-a709-ac9b1f84ebb0"
      },
      "execution_count": 20,
      "outputs": [
        {
          "output_type": "execute_result",
          "data": {
            "text/plain": [
              "79"
            ]
          },
          "metadata": {},
          "execution_count": 20
        }
      ]
    },
    {
      "cell_type": "markdown",
      "source": [
        "Plotando a distribuição"
      ],
      "metadata": {
        "id": "s9xaeLrs-Kl2"
      }
    },
    {
      "cell_type": "code",
      "source": [
        "%matplotlib inline\n",
        "%config InlineBackend.figure_format='retina'\n",
        "\n",
        "plt.figure(figsize=(10, 5), dpi=100)\n",
        "sns.displot(data=token_lens, kde=True)\n",
        "plt.xlim([0, 90])\n",
        "plt.xlabel('Token count');"
      ],
      "metadata": {
        "colab": {
          "base_uri": "https://localhost:8080/",
          "height": 399
        },
        "id": "k7nkmeao8uIz",
        "outputId": "d33cef4e-5e43-432d-ad99-9c4914a738ea"
      },
      "execution_count": 21,
      "outputs": [
        {
          "output_type": "display_data",
          "data": {
            "text/plain": [
              "<Figure size 1000x500 with 0 Axes>"
            ]
          },
          "metadata": {}
        },
        {
          "output_type": "display_data",
          "data": {
            "text/plain": [
              "<Figure size 360x360 with 1 Axes>"
            ],
            "image/png": "[encoded data removed]"
          },
          "metadata": {
            "image/png": {
              "width": 359,
              "height": 365
            },
            "needs_background": "light"
          }
        }
      ]
    },
    {
      "cell_type": "markdown",
      "source": [
        "O max length ficou igual a 79"
      ],
      "metadata": {
        "id": "4IvIo67_ABRU"
      }
    },
    {
      "cell_type": "markdown",
      "metadata": {
        "id": "meNknNLN9S84"
      },
      "source": [
        "Instanciando parâmetros da rede neural"
      ]
    },
    {
      "cell_type": "code",
      "source": [
        "device = torch.device('cuda' if torch.cuda.is_available() else 'cpu')\n",
        "nclasses = 3\n",
        "nepochs = 4\n",
        "batch_size = 8\n",
        "batch_status = 32\n",
        "learning_rate = 2e-5\n",
        "early_stop = 2\n",
        "\n",
        "max_length = 128\n",
        "write_path = 'model'"
      ],
      "metadata": {
        "id": "Yf62BH_5aLHw"
      },
      "execution_count": 22,
      "outputs": []
    },
    {
      "cell_type": "markdown",
      "metadata": {
        "id": "453hnpIY9dZy"
      },
      "source": [
        "Separando os dados em batches"
      ]
    },
    {
      "cell_type": "code",
      "execution_count": 23,
      "metadata": {
        "id": "080A6una9gA2"
      },
      "outputs": [],
      "source": [
        "from torch.utils.data import DataLoader\n",
        "\n",
        "traindata = DataLoader(treino, batch_size=batch_size, shuffle=True)\n",
        "testdata = DataLoader(teste, batch_size=batch_size, shuffle=True)"
      ]
    },
    {
      "cell_type": "markdown",
      "metadata": {
        "id": "_Bipocm69o1n"
      },
      "source": [
        "Inicilizando tokenizador, modelo, função de erro e otimizador:"
      ]
    },
    {
      "cell_type": "code",
      "execution_count": 24,
      "metadata": {
        "id": "ny_tixSr9rDT",
        "colab": {
          "base_uri": "https://localhost:8080/"
        },
        "outputId": "a9557798-f836-4236-e6a2-5c567b74d03f"
      },
      "outputs": [
        {
          "output_type": "stream",
          "name": "stderr",
          "text": [
            "Some weights of the model checkpoint at neuralmind/bert-base-portuguese-cased were not used when initializing BertForSequenceClassification: ['cls.seq_relationship.bias', 'cls.predictions.transform.dense.weight', 'cls.predictions.transform.LayerNorm.weight', 'cls.predictions.decoder.weight', 'cls.seq_relationship.weight', 'cls.predictions.transform.LayerNorm.bias', 'cls.predictions.transform.dense.bias', 'cls.predictions.bias']\n",
            "- This IS expected if you are initializing BertForSequenceClassification from the checkpoint of a model trained on another task or with another architecture (e.g. initializing a BertForSequenceClassification model from a BertForPreTraining model).\n",
            "- This IS NOT expected if you are initializing BertForSequenceClassification from the checkpoint of a model that you expect to be exactly identical (initializing a BertForSequenceClassification model from a BertForSequenceClassification model).\n",
            "Some weights of BertForSequenceClassification were not initialized from the model checkpoint at neuralmind/bert-base-portuguese-cased and are newly initialized: ['classifier.weight', 'classifier.bias']\n",
            "You should probably TRAIN this model on a down-stream task to be able to use it for predictions and inference.\n"
          ]
        }
      ],
      "source": [
        "# instanciando o tokenizador e o modelo\n",
        "tokenizer = AutoTokenizer.from_pretrained('neuralmind/bert-base-portuguese-cased', do_lower_case=False)\n",
        "model = AutoModelForSequenceClassification.from_pretrained('neuralmind/bert-base-portuguese-cased', num_labels=nclasses).to(device)\n",
        "\n",
        "optimizer = optim.AdamW(model.parameters(), lr=learning_rate)"
      ]
    },
    {
      "cell_type": "markdown",
      "metadata": {
        "id": "cCg2LD2D963l"
      },
      "source": [
        "Definindo método de avaliação"
      ]
    },
    {
      "cell_type": "code",
      "execution_count": 25,
      "metadata": {
        "id": "NLi_crXN993u"
      },
      "outputs": [],
      "source": [
        "def evaluate(model, testdata):\n",
        "  model.eval()\n",
        "  y_real, y_pred = [], []\n",
        "  for batch_idx, inp in enumerate(testdata):\n",
        "    texts, labels = inp['X'], inp['y']\n",
        "    \n",
        "    # classifying\n",
        "    inputs = tokenizer(texts, return_tensors='pt', padding=True, truncation=True, max_length=max_length).to(device)\n",
        "    output = model(**inputs)\n",
        "                \n",
        "    pred_labels = torch.argmax(output.logits, 1)\n",
        "    \n",
        "    y_real.extend(labels.tolist())\n",
        "    y_pred.extend(pred_labels.tolist())\n",
        "    \n",
        "    if (batch_idx+1) % batch_status == 0:\n",
        "      print('Progress:', round(batch_idx / len(testdata), 2), batch_idx)\n",
        "  \n",
        "  print(classification_report(y_real, y_pred, labels=[0, 1, 2], target_names=['Negative', 'Neutral', 'Positive']))\n",
        "  f1 = f1_score(y_real, y_pred, average='weighted')\n",
        "  acc = accuracy_score(y_real, y_pred)\n",
        "  return f1, acc"
      ]
    },
    {
      "cell_type": "markdown",
      "metadata": {
        "id": "FP2UYbYd-BmL"
      },
      "source": [
        "Treinamento"
      ]
    },
    {
      "cell_type": "code",
      "execution_count": 26,
      "metadata": {
        "id": "oXq1TCZ8-FYR",
        "colab": {
          "base_uri": "https://localhost:8080/"
        },
        "outputId": "5ffbc243-6629-4047-84b9-b6b164eab128"
      },
      "outputs": [
        {
          "output_type": "stream",
          "name": "stdout",
          "text": [
            "Progress: 0.08 31\n",
            "Progress: 0.17 63\n",
            "Progress: 0.25 95\n",
            "Progress: 0.34 127\n",
            "Progress: 0.42 159\n",
            "Progress: 0.51 191\n",
            "Progress: 0.59 223\n",
            "Progress: 0.68 255\n",
            "Progress: 0.77 287\n",
            "Progress: 0.85 319\n",
            "Progress: 0.94 351\n",
            "              precision    recall  f1-score   support\n",
            "\n",
            "    Negative       0.35      0.01      0.02       920\n",
            "     Neutral       0.20      0.95      0.34       620\n",
            "    Positive       0.36      0.02      0.03      1460\n",
            "\n",
            "    accuracy                           0.21      3000\n",
            "   macro avg       0.30      0.33      0.13      3000\n",
            "weighted avg       0.32      0.21      0.09      3000\n",
            "\n",
            "Train Epoch: 0 [32/1500 (2%)]\tLoss: 0.857097\tTotal Loss: 1.083690\n",
            "Train Epoch: 0 [64/1500 (4%)]\tLoss: 0.848575\tTotal Loss: 0.997950\n",
            "Train Epoch: 0 [96/1500 (6%)]\tLoss: 0.723399\tTotal Loss: 0.953110\n",
            "Train Epoch: 0 [128/1500 (8%)]\tLoss: 0.929648\tTotal Loss: 0.904960\n",
            "Train Epoch: 0 [160/1500 (11%)]\tLoss: 0.661597\tTotal Loss: 0.874550\n",
            "Train Epoch: 0 [192/1500 (13%)]\tLoss: 0.739998\tTotal Loss: 0.852950\n",
            "Train Epoch: 0 [224/1500 (15%)]\tLoss: 1.058957\tTotal Loss: 0.838860\n",
            "Train Epoch: 0 [256/1500 (17%)]\tLoss: 0.770406\tTotal Loss: 0.811760\n",
            "Train Epoch: 0 [288/1500 (19%)]\tLoss: 0.577849\tTotal Loss: 0.811090\n",
            "Train Epoch: 0 [320/1500 (21%)]\tLoss: 0.522533\tTotal Loss: 0.797080\n",
            "Train Epoch: 0 [352/1500 (23%)]\tLoss: 0.857533\tTotal Loss: 0.791350\n",
            "Train Epoch: 0 [384/1500 (26%)]\tLoss: 0.585820\tTotal Loss: 0.789650\n",
            "Train Epoch: 0 [416/1500 (28%)]\tLoss: 1.284208\tTotal Loss: 0.789120\n",
            "Train Epoch: 0 [448/1500 (30%)]\tLoss: 1.211977\tTotal Loss: 0.784460\n",
            "Train Epoch: 0 [480/1500 (32%)]\tLoss: 0.668868\tTotal Loss: 0.784490\n",
            "Train Epoch: 0 [512/1500 (34%)]\tLoss: 0.910486\tTotal Loss: 0.778000\n",
            "Train Epoch: 0 [544/1500 (36%)]\tLoss: 0.344860\tTotal Loss: 0.770630\n",
            "Train Epoch: 0 [576/1500 (38%)]\tLoss: 1.051427\tTotal Loss: 0.764780\n",
            "Train Epoch: 0 [608/1500 (40%)]\tLoss: 0.697727\tTotal Loss: 0.760510\n",
            "Train Epoch: 0 [640/1500 (43%)]\tLoss: 1.061381\tTotal Loss: 0.756490\n",
            "Train Epoch: 0 [672/1500 (45%)]\tLoss: 0.635381\tTotal Loss: 0.752850\n",
            "Train Epoch: 0 [704/1500 (47%)]\tLoss: 0.687795\tTotal Loss: 0.750620\n",
            "Train Epoch: 0 [736/1500 (49%)]\tLoss: 0.807241\tTotal Loss: 0.744660\n",
            "Train Epoch: 0 [768/1500 (51%)]\tLoss: 0.568649\tTotal Loss: 0.743160\n",
            "Train Epoch: 0 [800/1500 (53%)]\tLoss: 0.975849\tTotal Loss: 0.743120\n",
            "Train Epoch: 0 [832/1500 (55%)]\tLoss: 0.568876\tTotal Loss: 0.739960\n",
            "Train Epoch: 0 [864/1500 (58%)]\tLoss: 0.492827\tTotal Loss: 0.737500\n",
            "Train Epoch: 0 [896/1500 (60%)]\tLoss: 0.265534\tTotal Loss: 0.732370\n",
            "Train Epoch: 0 [928/1500 (62%)]\tLoss: 0.659307\tTotal Loss: 0.732530\n",
            "Train Epoch: 0 [960/1500 (64%)]\tLoss: 1.395362\tTotal Loss: 0.731090\n",
            "Train Epoch: 0 [992/1500 (66%)]\tLoss: 0.629074\tTotal Loss: 0.730790\n",
            "Train Epoch: 0 [1024/1500 (68%)]\tLoss: 0.610772\tTotal Loss: 0.728730\n",
            "Train Epoch: 0 [1056/1500 (70%)]\tLoss: 1.179789\tTotal Loss: 0.726770\n",
            "Train Epoch: 0 [1088/1500 (72%)]\tLoss: 0.839911\tTotal Loss: 0.723250\n",
            "Train Epoch: 0 [1120/1500 (75%)]\tLoss: 0.584376\tTotal Loss: 0.722740\n",
            "Train Epoch: 0 [1152/1500 (77%)]\tLoss: 0.326140\tTotal Loss: 0.720820\n",
            "Train Epoch: 0 [1184/1500 (79%)]\tLoss: 0.281751\tTotal Loss: 0.717380\n",
            "Train Epoch: 0 [1216/1500 (81%)]\tLoss: 1.282012\tTotal Loss: 0.717120\n",
            "Train Epoch: 0 [1248/1500 (83%)]\tLoss: 0.882329\tTotal Loss: 0.716970\n",
            "Train Epoch: 0 [1280/1500 (85%)]\tLoss: 0.876230\tTotal Loss: 0.716190\n",
            "Train Epoch: 0 [1312/1500 (87%)]\tLoss: 0.249746\tTotal Loss: 0.715120\n",
            "Train Epoch: 0 [1344/1500 (90%)]\tLoss: 0.467295\tTotal Loss: 0.713180\n",
            "Train Epoch: 0 [1376/1500 (92%)]\tLoss: 0.732804\tTotal Loss: 0.712530\n",
            "Train Epoch: 0 [1408/1500 (94%)]\tLoss: 0.732876\tTotal Loss: 0.712660\n",
            "Train Epoch: 0 [1440/1500 (96%)]\tLoss: 0.418968\tTotal Loss: 0.712500\n",
            "Train Epoch: 0 [1472/1500 (98%)]\tLoss: 1.014358\tTotal Loss: 0.711990\n",
            "Progress: 0.08 31\n",
            "Progress: 0.17 63\n",
            "Progress: 0.25 95\n",
            "Progress: 0.34 127\n",
            "Progress: 0.42 159\n",
            "Progress: 0.51 191\n",
            "Progress: 0.59 223\n",
            "Progress: 0.68 255\n",
            "Progress: 0.77 287\n",
            "Progress: 0.85 319\n",
            "Progress: 0.94 351\n",
            "              precision    recall  f1-score   support\n",
            "\n",
            "    Negative       0.61      0.85      0.71       920\n",
            "     Neutral       0.48      0.43      0.45       620\n",
            "    Positive       0.87      0.69      0.77      1460\n",
            "\n",
            "    accuracy                           0.69      3000\n",
            "   macro avg       0.65      0.66      0.64      3000\n",
            "weighted avg       0.71      0.69      0.69      3000\n",
            "\n",
            "F1:  0.6857495649016847 Accuracy:  0.6856666666666666\n",
            "Saving best model...\n",
            "Progress: 0.08 31\n",
            "Progress: 0.17 63\n",
            "Progress: 0.25 95\n",
            "Progress: 0.34 127\n",
            "Progress: 0.42 159\n",
            "Progress: 0.51 191\n",
            "Progress: 0.59 223\n",
            "Progress: 0.68 255\n",
            "Progress: 0.77 287\n",
            "Progress: 0.85 319\n",
            "Progress: 0.94 351\n",
            "              precision    recall  f1-score   support\n",
            "\n",
            "    Negative       0.61      0.85      0.71       920\n",
            "     Neutral       0.48      0.43      0.45       620\n",
            "    Positive       0.87      0.69      0.77      1460\n",
            "\n",
            "    accuracy                           0.69      3000\n",
            "   macro avg       0.65      0.66      0.64      3000\n",
            "weighted avg       0.71      0.69      0.69      3000\n",
            "\n",
            "Train Epoch: 1 [32/1500 (2%)]\tLoss: 0.378374\tTotal Loss: 0.391900\n",
            "Train Epoch: 1 [64/1500 (4%)]\tLoss: 0.056580\tTotal Loss: 0.381920\n",
            "Train Epoch: 1 [96/1500 (6%)]\tLoss: 0.896727\tTotal Loss: 0.390350\n",
            "Train Epoch: 1 [128/1500 (8%)]\tLoss: 0.184689\tTotal Loss: 0.380910\n",
            "Train Epoch: 1 [160/1500 (11%)]\tLoss: 0.159057\tTotal Loss: 0.388520\n",
            "Train Epoch: 1 [192/1500 (13%)]\tLoss: 0.877998\tTotal Loss: 0.388710\n",
            "Train Epoch: 1 [224/1500 (15%)]\tLoss: 0.103169\tTotal Loss: 0.389540\n",
            "Train Epoch: 1 [256/1500 (17%)]\tLoss: 0.820939\tTotal Loss: 0.398280\n",
            "Train Epoch: 1 [288/1500 (19%)]\tLoss: 0.415835\tTotal Loss: 0.406310\n",
            "Train Epoch: 1 [320/1500 (21%)]\tLoss: 0.752174\tTotal Loss: 0.406070\n",
            "Train Epoch: 1 [352/1500 (23%)]\tLoss: 0.438791\tTotal Loss: 0.409350\n",
            "Train Epoch: 1 [384/1500 (26%)]\tLoss: 0.351345\tTotal Loss: 0.411310\n",
            "Train Epoch: 1 [416/1500 (28%)]\tLoss: 0.585856\tTotal Loss: 0.403370\n",
            "Train Epoch: 1 [448/1500 (30%)]\tLoss: 0.523201\tTotal Loss: 0.400860\n",
            "Train Epoch: 1 [480/1500 (32%)]\tLoss: 0.435579\tTotal Loss: 0.404300\n",
            "Train Epoch: 1 [512/1500 (34%)]\tLoss: 0.477084\tTotal Loss: 0.410470\n",
            "Train Epoch: 1 [544/1500 (36%)]\tLoss: 0.410801\tTotal Loss: 0.410000\n",
            "Train Epoch: 1 [576/1500 (38%)]\tLoss: 0.809828\tTotal Loss: 0.410470\n",
            "Train Epoch: 1 [608/1500 (40%)]\tLoss: 0.560660\tTotal Loss: 0.409130\n",
            "Train Epoch: 1 [640/1500 (43%)]\tLoss: 0.141184\tTotal Loss: 0.413260\n",
            "Train Epoch: 1 [672/1500 (45%)]\tLoss: 0.375151\tTotal Loss: 0.414630\n",
            "Train Epoch: 1 [704/1500 (47%)]\tLoss: 0.433219\tTotal Loss: 0.417800\n",
            "Train Epoch: 1 [736/1500 (49%)]\tLoss: 0.347950\tTotal Loss: 0.418880\n",
            "Train Epoch: 1 [768/1500 (51%)]\tLoss: 0.565332\tTotal Loss: 0.418830\n",
            "Train Epoch: 1 [800/1500 (53%)]\tLoss: 0.567528\tTotal Loss: 0.418140\n",
            "Train Epoch: 1 [832/1500 (55%)]\tLoss: 0.423317\tTotal Loss: 0.418050\n",
            "Train Epoch: 1 [864/1500 (58%)]\tLoss: 0.606222\tTotal Loss: 0.419070\n",
            "Train Epoch: 1 [896/1500 (60%)]\tLoss: 0.487939\tTotal Loss: 0.420060\n",
            "Train Epoch: 1 [928/1500 (62%)]\tLoss: 0.598692\tTotal Loss: 0.423580\n",
            "Train Epoch: 1 [960/1500 (64%)]\tLoss: 0.162902\tTotal Loss: 0.423880\n",
            "Train Epoch: 1 [992/1500 (66%)]\tLoss: 0.621789\tTotal Loss: 0.425670\n",
            "Train Epoch: 1 [1024/1500 (68%)]\tLoss: 0.257218\tTotal Loss: 0.425350\n",
            "Train Epoch: 1 [1056/1500 (70%)]\tLoss: 0.610810\tTotal Loss: 0.426740\n",
            "Train Epoch: 1 [1088/1500 (72%)]\tLoss: 0.200085\tTotal Loss: 0.423890\n",
            "Train Epoch: 1 [1120/1500 (75%)]\tLoss: 0.180058\tTotal Loss: 0.423920\n",
            "Train Epoch: 1 [1152/1500 (77%)]\tLoss: 0.096311\tTotal Loss: 0.424090\n",
            "Train Epoch: 1 [1184/1500 (79%)]\tLoss: 0.607494\tTotal Loss: 0.423320\n",
            "Train Epoch: 1 [1216/1500 (81%)]\tLoss: 0.308864\tTotal Loss: 0.422560\n",
            "Train Epoch: 1 [1248/1500 (83%)]\tLoss: 0.592356\tTotal Loss: 0.422810\n",
            "Train Epoch: 1 [1280/1500 (85%)]\tLoss: 0.297459\tTotal Loss: 0.421180\n",
            "Train Epoch: 1 [1312/1500 (87%)]\tLoss: 0.555171\tTotal Loss: 0.422700\n",
            "Train Epoch: 1 [1344/1500 (90%)]\tLoss: 0.242311\tTotal Loss: 0.421060\n",
            "Train Epoch: 1 [1376/1500 (92%)]\tLoss: 0.733917\tTotal Loss: 0.422970\n",
            "Train Epoch: 1 [1408/1500 (94%)]\tLoss: 0.546672\tTotal Loss: 0.422320\n",
            "Train Epoch: 1 [1440/1500 (96%)]\tLoss: 0.499871\tTotal Loss: 0.423670\n",
            "Train Epoch: 1 [1472/1500 (98%)]\tLoss: 0.174906\tTotal Loss: 0.424310\n",
            "Progress: 0.08 31\n",
            "Progress: 0.17 63\n",
            "Progress: 0.25 95\n",
            "Progress: 0.34 127\n",
            "Progress: 0.42 159\n",
            "Progress: 0.51 191\n",
            "Progress: 0.59 223\n",
            "Progress: 0.68 255\n",
            "Progress: 0.77 287\n",
            "Progress: 0.85 319\n",
            "Progress: 0.94 351\n",
            "              precision    recall  f1-score   support\n",
            "\n",
            "    Negative       0.69      0.72      0.71       920\n",
            "     Neutral       0.44      0.60      0.51       620\n",
            "    Positive       0.86      0.71      0.78      1460\n",
            "\n",
            "    accuracy                           0.69      3000\n",
            "   macro avg       0.67      0.68      0.66      3000\n",
            "weighted avg       0.72      0.69      0.70      3000\n",
            "\n",
            "F1:  0.6999570784612303 Accuracy:  0.6893333333333334\n",
            "Saving best model...\n",
            "Progress: 0.08 31\n",
            "Progress: 0.17 63\n",
            "Progress: 0.25 95\n",
            "Progress: 0.34 127\n",
            "Progress: 0.42 159\n",
            "Progress: 0.51 191\n",
            "Progress: 0.59 223\n",
            "Progress: 0.68 255\n",
            "Progress: 0.77 287\n",
            "Progress: 0.85 319\n",
            "Progress: 0.94 351\n",
            "              precision    recall  f1-score   support\n",
            "\n",
            "    Negative       0.69      0.72      0.71       920\n",
            "     Neutral       0.44      0.60      0.51       620\n",
            "    Positive       0.86      0.71      0.78      1460\n",
            "\n",
            "    accuracy                           0.69      3000\n",
            "   macro avg       0.67      0.68      0.66      3000\n",
            "weighted avg       0.72      0.69      0.70      3000\n",
            "\n",
            "Train Epoch: 2 [32/1500 (2%)]\tLoss: 0.029911\tTotal Loss: 0.124580\n",
            "Train Epoch: 2 [64/1500 (4%)]\tLoss: 0.224939\tTotal Loss: 0.130930\n",
            "Train Epoch: 2 [96/1500 (6%)]\tLoss: 0.902486\tTotal Loss: 0.155050\n",
            "Train Epoch: 2 [128/1500 (8%)]\tLoss: 0.022092\tTotal Loss: 0.157990\n",
            "Train Epoch: 2 [160/1500 (11%)]\tLoss: 0.192376\tTotal Loss: 0.149240\n",
            "Train Epoch: 2 [192/1500 (13%)]\tLoss: 0.019640\tTotal Loss: 0.135720\n",
            "Train Epoch: 2 [224/1500 (15%)]\tLoss: 0.110039\tTotal Loss: 0.140930\n",
            "Train Epoch: 2 [256/1500 (17%)]\tLoss: 0.190845\tTotal Loss: 0.146900\n",
            "Train Epoch: 2 [288/1500 (19%)]\tLoss: 0.017058\tTotal Loss: 0.143270\n",
            "Train Epoch: 2 [320/1500 (21%)]\tLoss: 0.122606\tTotal Loss: 0.153770\n",
            "Train Epoch: 2 [352/1500 (23%)]\tLoss: 0.320085\tTotal Loss: 0.155330\n",
            "Train Epoch: 2 [384/1500 (26%)]\tLoss: 0.036942\tTotal Loss: 0.155130\n",
            "Train Epoch: 2 [416/1500 (28%)]\tLoss: 0.057171\tTotal Loss: 0.156040\n",
            "Train Epoch: 2 [448/1500 (30%)]\tLoss: 0.216337\tTotal Loss: 0.157260\n",
            "Train Epoch: 2 [480/1500 (32%)]\tLoss: 0.112682\tTotal Loss: 0.156590\n",
            "Train Epoch: 2 [512/1500 (34%)]\tLoss: 0.308801\tTotal Loss: 0.159150\n",
            "Train Epoch: 2 [544/1500 (36%)]\tLoss: 0.339146\tTotal Loss: 0.159360\n",
            "Train Epoch: 2 [576/1500 (38%)]\tLoss: 0.063370\tTotal Loss: 0.156220\n",
            "Train Epoch: 2 [608/1500 (40%)]\tLoss: 0.262407\tTotal Loss: 0.154950\n",
            "Train Epoch: 2 [640/1500 (43%)]\tLoss: 0.013959\tTotal Loss: 0.153030\n",
            "Train Epoch: 2 [672/1500 (45%)]\tLoss: 0.074252\tTotal Loss: 0.153550\n",
            "Train Epoch: 2 [704/1500 (47%)]\tLoss: 0.020752\tTotal Loss: 0.152320\n",
            "Train Epoch: 2 [736/1500 (49%)]\tLoss: 0.703051\tTotal Loss: 0.155480\n",
            "Train Epoch: 2 [768/1500 (51%)]\tLoss: 0.275144\tTotal Loss: 0.154010\n",
            "Train Epoch: 2 [800/1500 (53%)]\tLoss: 0.360072\tTotal Loss: 0.155230\n",
            "Train Epoch: 2 [832/1500 (55%)]\tLoss: 0.069852\tTotal Loss: 0.154150\n",
            "Train Epoch: 2 [864/1500 (58%)]\tLoss: 0.099460\tTotal Loss: 0.156460\n",
            "Train Epoch: 2 [896/1500 (60%)]\tLoss: 0.004269\tTotal Loss: 0.156010\n",
            "Train Epoch: 2 [928/1500 (62%)]\tLoss: 0.034536\tTotal Loss: 0.158270\n",
            "Train Epoch: 2 [960/1500 (64%)]\tLoss: 0.688499\tTotal Loss: 0.157380\n",
            "Train Epoch: 2 [992/1500 (66%)]\tLoss: 0.057934\tTotal Loss: 0.158900\n",
            "Train Epoch: 2 [1024/1500 (68%)]\tLoss: 0.018588\tTotal Loss: 0.158080\n",
            "Train Epoch: 2 [1056/1500 (70%)]\tLoss: 0.376541\tTotal Loss: 0.159840\n",
            "Train Epoch: 2 [1088/1500 (72%)]\tLoss: 0.307829\tTotal Loss: 0.160270\n",
            "Train Epoch: 2 [1120/1500 (75%)]\tLoss: 0.047405\tTotal Loss: 0.160810\n",
            "Train Epoch: 2 [1152/1500 (77%)]\tLoss: 0.141789\tTotal Loss: 0.161030\n",
            "Train Epoch: 2 [1184/1500 (79%)]\tLoss: 0.033801\tTotal Loss: 0.161680\n",
            "Train Epoch: 2 [1216/1500 (81%)]\tLoss: 0.073191\tTotal Loss: 0.161080\n",
            "Train Epoch: 2 [1248/1500 (83%)]\tLoss: 0.116683\tTotal Loss: 0.160850\n",
            "Train Epoch: 2 [1280/1500 (85%)]\tLoss: 0.666968\tTotal Loss: 0.164370\n",
            "Train Epoch: 2 [1312/1500 (87%)]\tLoss: 0.027401\tTotal Loss: 0.164600\n",
            "Train Epoch: 2 [1344/1500 (90%)]\tLoss: 0.036322\tTotal Loss: 0.164310\n",
            "Train Epoch: 2 [1376/1500 (92%)]\tLoss: 0.142801\tTotal Loss: 0.163530\n",
            "Train Epoch: 2 [1408/1500 (94%)]\tLoss: 0.929236\tTotal Loss: 0.164860\n",
            "Train Epoch: 2 [1440/1500 (96%)]\tLoss: 0.018758\tTotal Loss: 0.166190\n",
            "Train Epoch: 2 [1472/1500 (98%)]\tLoss: 0.037922\tTotal Loss: 0.166110\n",
            "Progress: 0.08 31\n",
            "Progress: 0.17 63\n",
            "Progress: 0.25 95\n",
            "Progress: 0.34 127\n",
            "Progress: 0.42 159\n",
            "Progress: 0.51 191\n",
            "Progress: 0.59 223\n",
            "Progress: 0.68 255\n",
            "Progress: 0.77 287\n",
            "Progress: 0.85 319\n",
            "Progress: 0.94 351\n",
            "              precision    recall  f1-score   support\n",
            "\n",
            "    Negative       0.75      0.61      0.68       920\n",
            "     Neutral       0.43      0.56      0.49       620\n",
            "    Positive       0.79      0.78      0.79      1460\n",
            "\n",
            "    accuracy                           0.69      3000\n",
            "   macro avg       0.66      0.65      0.65      3000\n",
            "weighted avg       0.71      0.69      0.69      3000\n",
            "\n",
            "F1:  0.6918923914427185 Accuracy:  0.6856666666666666\n",
            "Progress: 0.08 31\n",
            "Progress: 0.17 63\n",
            "Progress: 0.25 95\n",
            "Progress: 0.34 127\n",
            "Progress: 0.42 159\n",
            "Progress: 0.51 191\n",
            "Progress: 0.59 223\n",
            "Progress: 0.68 255\n",
            "Progress: 0.77 287\n",
            "Progress: 0.85 319\n",
            "Progress: 0.94 351\n",
            "              precision    recall  f1-score   support\n",
            "\n",
            "    Negative       0.75      0.61      0.68       920\n",
            "     Neutral       0.43      0.56      0.49       620\n",
            "    Positive       0.79      0.78      0.79      1460\n",
            "\n",
            "    accuracy                           0.69      3000\n",
            "   macro avg       0.66      0.65      0.65      3000\n",
            "weighted avg       0.71      0.69      0.69      3000\n",
            "\n",
            "Train Epoch: 3 [32/1500 (2%)]\tLoss: 0.009008\tTotal Loss: 0.065960\n",
            "Train Epoch: 3 [64/1500 (4%)]\tLoss: 0.004531\tTotal Loss: 0.064920\n",
            "Train Epoch: 3 [96/1500 (6%)]\tLoss: 0.191557\tTotal Loss: 0.062490\n",
            "Train Epoch: 3 [128/1500 (8%)]\tLoss: 0.013119\tTotal Loss: 0.064810\n",
            "Train Epoch: 3 [160/1500 (11%)]\tLoss: 0.076561\tTotal Loss: 0.060690\n",
            "Train Epoch: 3 [192/1500 (13%)]\tLoss: 0.061253\tTotal Loss: 0.059650\n",
            "Train Epoch: 3 [224/1500 (15%)]\tLoss: 0.088615\tTotal Loss: 0.064560\n",
            "Train Epoch: 3 [256/1500 (17%)]\tLoss: 0.036453\tTotal Loss: 0.064880\n",
            "Train Epoch: 3 [288/1500 (19%)]\tLoss: 0.028078\tTotal Loss: 0.062340\n",
            "Train Epoch: 3 [320/1500 (21%)]\tLoss: 0.033972\tTotal Loss: 0.062370\n",
            "Train Epoch: 3 [352/1500 (23%)]\tLoss: 0.004295\tTotal Loss: 0.060660\n",
            "Train Epoch: 3 [384/1500 (26%)]\tLoss: 0.003730\tTotal Loss: 0.058160\n",
            "Train Epoch: 3 [416/1500 (28%)]\tLoss: 0.002623\tTotal Loss: 0.059750\n",
            "Train Epoch: 3 [448/1500 (30%)]\tLoss: 0.049119\tTotal Loss: 0.060270\n",
            "Train Epoch: 3 [480/1500 (32%)]\tLoss: 0.004424\tTotal Loss: 0.061780\n",
            "Train Epoch: 3 [512/1500 (34%)]\tLoss: 0.003686\tTotal Loss: 0.060600\n",
            "Train Epoch: 3 [544/1500 (36%)]\tLoss: 0.024540\tTotal Loss: 0.061900\n",
            "Train Epoch: 3 [576/1500 (38%)]\tLoss: 0.010645\tTotal Loss: 0.062870\n",
            "Train Epoch: 3 [608/1500 (40%)]\tLoss: 0.004468\tTotal Loss: 0.063270\n",
            "Train Epoch: 3 [640/1500 (43%)]\tLoss: 0.003054\tTotal Loss: 0.066000\n",
            "Train Epoch: 3 [672/1500 (45%)]\tLoss: 0.164851\tTotal Loss: 0.067340\n",
            "Train Epoch: 3 [704/1500 (47%)]\tLoss: 0.110007\tTotal Loss: 0.067420\n",
            "Train Epoch: 3 [736/1500 (49%)]\tLoss: 0.001286\tTotal Loss: 0.067460\n",
            "Train Epoch: 3 [768/1500 (51%)]\tLoss: 0.016159\tTotal Loss: 0.066090\n",
            "Train Epoch: 3 [800/1500 (53%)]\tLoss: 0.326049\tTotal Loss: 0.068420\n",
            "Train Epoch: 3 [832/1500 (55%)]\tLoss: 0.004636\tTotal Loss: 0.068470\n",
            "Train Epoch: 3 [864/1500 (58%)]\tLoss: 0.003424\tTotal Loss: 0.069620\n",
            "Train Epoch: 3 [896/1500 (60%)]\tLoss: 0.084062\tTotal Loss: 0.072090\n",
            "Train Epoch: 3 [928/1500 (62%)]\tLoss: 0.009998\tTotal Loss: 0.072270\n",
            "Train Epoch: 3 [960/1500 (64%)]\tLoss: 0.151729\tTotal Loss: 0.072450\n",
            "Train Epoch: 3 [992/1500 (66%)]\tLoss: 0.017719\tTotal Loss: 0.072820\n",
            "Train Epoch: 3 [1024/1500 (68%)]\tLoss: 0.006467\tTotal Loss: 0.072980\n",
            "Train Epoch: 3 [1056/1500 (70%)]\tLoss: 0.302959\tTotal Loss: 0.074790\n",
            "Train Epoch: 3 [1088/1500 (72%)]\tLoss: 0.023009\tTotal Loss: 0.075450\n",
            "Train Epoch: 3 [1120/1500 (75%)]\tLoss: 0.010713\tTotal Loss: 0.075530\n",
            "Train Epoch: 3 [1152/1500 (77%)]\tLoss: 0.342795\tTotal Loss: 0.075330\n",
            "Train Epoch: 3 [1184/1500 (79%)]\tLoss: 0.002663\tTotal Loss: 0.074590\n",
            "Train Epoch: 3 [1216/1500 (81%)]\tLoss: 0.002093\tTotal Loss: 0.075460\n",
            "Train Epoch: 3 [1248/1500 (83%)]\tLoss: 0.601344\tTotal Loss: 0.075790\n",
            "Train Epoch: 3 [1280/1500 (85%)]\tLoss: 0.026534\tTotal Loss: 0.074590\n",
            "Train Epoch: 3 [1312/1500 (87%)]\tLoss: 0.009658\tTotal Loss: 0.073770\n",
            "Train Epoch: 3 [1344/1500 (90%)]\tLoss: 0.019561\tTotal Loss: 0.074240\n",
            "Train Epoch: 3 [1376/1500 (92%)]\tLoss: 0.345705\tTotal Loss: 0.073820\n",
            "Train Epoch: 3 [1408/1500 (94%)]\tLoss: 0.224935\tTotal Loss: 0.074030\n",
            "Train Epoch: 3 [1440/1500 (96%)]\tLoss: 0.019083\tTotal Loss: 0.074660\n",
            "Train Epoch: 3 [1472/1500 (98%)]\tLoss: 0.004545\tTotal Loss: 0.074930\n",
            "Progress: 0.08 31\n",
            "Progress: 0.17 63\n",
            "Progress: 0.25 95\n",
            "Progress: 0.34 127\n",
            "Progress: 0.42 159\n",
            "Progress: 0.51 191\n",
            "Progress: 0.59 223\n",
            "Progress: 0.68 255\n",
            "Progress: 0.77 287\n",
            "Progress: 0.85 319\n",
            "Progress: 0.94 351\n",
            "              precision    recall  f1-score   support\n",
            "\n",
            "    Negative       0.80      0.47      0.59       920\n",
            "     Neutral       0.38      0.63      0.47       620\n",
            "    Positive       0.79      0.77      0.78      1460\n",
            "\n",
            "    accuracy                           0.65      3000\n",
            "   macro avg       0.66      0.62      0.61      3000\n",
            "weighted avg       0.71      0.65      0.66      3000\n",
            "\n",
            "F1:  0.6589888110231309 Accuracy:  0.65\n"
          ]
        }
      ],
      "source": [
        "max_f1, repeat = 0, 0\n",
        "for epoch in range(nepochs):\n",
        "  model.train()\n",
        "  f1, acc = evaluate(model, testdata)\n",
        "  losses = []\n",
        "  for batch_idx, inp in enumerate(traindata):\n",
        "    texts, labels = inp['X'], inp['y']\n",
        "\n",
        "    # classifying\n",
        "    inputs = tokenizer(texts, return_tensors='pt', padding=True, truncation=True, max_length=max_length).to(device)\n",
        "    output = model(**inputs, labels=labels.to(device))\n",
        "\n",
        "    # Calculate loss\n",
        "    loss = output.loss\n",
        "    losses.append(float(loss))\n",
        "\n",
        "    # Backpropagation\n",
        "    loss.backward()\n",
        "    optimizer.step()\n",
        "    optimizer.zero_grad()\n",
        "\n",
        "    # Display\n",
        "    if (batch_idx+1) % batch_status == 0:\n",
        "      print('Train Epoch: {} [{}/{} ({:.0f}%)]\\tLoss: {:.6f}\\tTotal Loss: {:.6f}'.format(epoch, \\\n",
        "        batch_idx+1, len(traindata), 100. * batch_idx / len(traindata), \n",
        "        float(loss), round(sum(losses) / len(losses), 5)))\n",
        "  \n",
        "  f1, acc = evaluate(model, testdata)\n",
        "  print('F1: ', f1, 'Accuracy: ', acc)\n",
        "  if f1 > max_f1:\n",
        "    model.save_pretrained(os.path.join(write_path, 'model'))\n",
        "    max_f1 = f1\n",
        "    repeat = 0\n",
        "    print('Saving best model...')\n",
        "  else:\n",
        "    repeat += 1\n",
        "  \n",
        "  if repeat == early_stop:\n",
        "    break"
      ]
    }
  ],
  "metadata": {
    "accelerator": "GPU",
    "colab": {
      "collapsed_sections": [],
      "name": "TCC_BERTimbau_analise_de_sentimento_lematizacao.ipynb",
      "provenance": []
    },
    "kernelspec": {
      "display_name": "Python 3",
      "name": "python3"
    },
    "language_info": {
      "name": "python"
    },
    "gpuClass": "standard"
  },
  "nbformat": 4,
  "nbformat_minor": 0
}